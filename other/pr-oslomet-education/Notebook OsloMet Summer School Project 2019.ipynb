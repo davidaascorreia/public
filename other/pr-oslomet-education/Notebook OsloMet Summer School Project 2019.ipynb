{
 "cells": [
  {
   "cell_type": "markdown",
   "metadata": {},
   "source": [
    "Project delivered summer 2019. Latest dataset available was therefore 2015. Code should be easy to use coming years, but beware of variable mapping through the years."
   ]
  },
  {
   "cell_type": "markdown",
   "metadata": {},
   "source": [
    "# Overview"
   ]
  },
  {
   "cell_type": "markdown",
   "metadata": {},
   "source": [
    "1. Data import\n",
    "2. Data preparation\n",
    "3. Modeling\n",
    "4. Results\n",
    "5. Conclusion"
   ]
  },
  {
   "cell_type": "markdown",
   "metadata": {},
   "source": [
    "# 1. Data import"
   ]
  },
  {
   "cell_type": "markdown",
   "metadata": {},
   "source": [
    "The PISA database contains the full set of responses from individual students, school principals and parents. Datasets for SAS or SPSS can be downloaded directly at their website: http://www.oecd.org/pisa/data/.\n",
    "\n",
    "I have in this project downloaded the SAS-files and converted them into a dataframe."
   ]
  },
  {
   "cell_type": "markdown",
   "metadata": {},
   "source": [
    "## 1.1 Importing necessary libaries"
   ]
  },
  {
   "cell_type": "markdown",
   "metadata": {},
   "source": [
    "The pandas library has commands for reading sas-files and writing the results to a csv.file."
   ]
  },
  {
   "cell_type": "code",
   "execution_count": 1,
   "metadata": {},
   "outputs": [],
   "source": [
    "import pandas as pd"
   ]
  },
  {
   "cell_type": "markdown",
   "metadata": {},
   "source": [
    "## 1.2 Importing the data from local"
   ]
  },
  {
   "cell_type": "markdown",
   "metadata": {},
   "source": [
    "I downloaded the student (https://webfs.oecd.org/pisa/PUF_SAS_COMBINED_CMB_STU_QQQ.zip) and school questionnaire (https://webfs.oecd.org/pisa/PUF_SAS_COMBINED_CMB_SCH_QQQ.zip) to a local path for this specific project. In order to reuse the code, you need to place the files in your own local directory and set the corresponding path."
   ]
  },
  {
   "cell_type": "code",
   "execution_count": 2,
   "metadata": {},
   "outputs": [],
   "source": [
    "# student dataset\n",
    "student = pd.read_sas(\"Data\\PISA2015\\student.sas7bdat\")"
   ]
  },
  {
   "cell_type": "code",
   "execution_count": 3,
   "metadata": {},
   "outputs": [],
   "source": [
    "# school dataset\n",
    "school = pd.read_sas(\"Data\\PISA2015\\school.sas7bdat\")"
   ]
  },
  {
   "cell_type": "markdown",
   "metadata": {},
   "source": [
    "Each student has a unique student id and a corresponding school id. School id (CNTSCHID) is used as key."
   ]
  },
  {
   "cell_type": "code",
   "execution_count": 4,
   "metadata": {},
   "outputs": [],
   "source": [
    "# merging the dataset\n",
    "merge = pd.merge(student, school, on='CNTSCHID')"
   ]
  },
  {
   "cell_type": "markdown",
   "metadata": {},
   "source": [
    "The \"merge\"-dataset contains all the data. At this stage I did an analysis on which variables I wanted to keep for my analysis as the dimension below displays that the dataset currently has 1193 variables."
   ]
  },
  {
   "cell_type": "code",
   "execution_count": 5,
   "metadata": {},
   "outputs": [
    {
     "data": {
      "text/plain": [
       "(514397, 1193)"
      ]
     },
     "execution_count": 5,
     "metadata": {},
     "output_type": "execute_result"
    }
   ],
   "source": [
    "# getting dimensions of dataset\n",
    "merge.shape"
   ]
  },
  {
   "cell_type": "markdown",
   "metadata": {},
   "source": [
    "Preliminary analysis defined which variables to keep and they are all included in the script below. The selection is both based on previous research and variables of own interest. The PISA datasets are quite extensive, so my recommendation for understanding the questionnaires and its content is to use OECD's resources:\n",
    "\n",
    "* Codebook (http://www.oecd.org/pisa/data/2015database/Codebook_CMB.xlsx)\n",
    "* Student questionnaire (http://www.oecd.org/pisa/data/CY6_QST_MS_STQ_CBA_Final.pdf)\n",
    "* School questionnaire (http://www.oecd.org/pisa/data/CY6_QST_MS_SCQ_CBA_Final.pdf)\n",
    "* Assessment and Analytical Frameworks (http://www.oecd.org/edu/pisa-2015-assessment-and-analytical-framework-9789264281820-en.htm)\n",
    "* Technical Reports (http://www.oecd.org/pisa/data/2015-technical-report/)\n",
    "* Survey Implementation Tools (http://www.oecd.org/pisa/data/pisa-2018-documents-for-bidders.htm)"
   ]
  },
  {
   "cell_type": "code",
   "execution_count": 6,
   "metadata": {},
   "outputs": [],
   "source": [
    "# defining subset for analysis\n",
    "dataset = merge[['CNTRYID_x', 'CNT_x', 'CNTSCHID', 'CNTSTUID', 'Region_x', 'OECD_x', 'ADMINMODE_x', 'ST004D01T', \n",
    "                 'FISCED', 'MISCED', 'BMMJ1', 'BFMJ2', 'ST011Q04TA', 'ST011Q06TA', 'ST012Q01TA', 'ST012Q09NA', \n",
    "                 'ST013Q01TA', 'IMMIG', 'LANGN', 'ST124Q01TA', 'MOTIVAT', 'ST034Q06TA', 'SC001Q01TA', 'SC002Q01TA', 'SC002Q02TA', 'SC003Q01TA',\n",
    "                 'SC053Q01TA', 'SC053Q10TA', 'SC052Q01NA', 'SC052Q02NA', 'SC010Q11TA', 'SC010Q11TB', 'SC010Q11TC',\n",
    "                 'SC010Q11TD', 'SC010Q11TE', 'SC012Q01TA', 'SC013Q01TA', 'SC014Q01NA', 'PROATCE', 'SC036Q02TA', \n",
    "                 'SC042Q01TA', 'ESCS', 'TMINS', 'OUTHOURS', 'BSMJ', 'PV1SCIE', 'PV1READ', 'PV1MATH']]"
   ]
  },
  {
   "cell_type": "markdown",
   "metadata": {},
   "source": [
    "As original column headers are quite difficult to interpret, I changed them to more suitable names and corresponding to my interpretation."
   ]
  },
  {
   "cell_type": "code",
   "execution_count": 7,
   "metadata": {},
   "outputs": [],
   "source": [
    "#Rename columns in subset\n",
    "dataset = dataset.rename(columns={'CNTRYID_x': 'CountryID', 'CNT_x': 'Country', 'CNTSCHID': 'SchoolID', 'CNTSTUID': 'StudentID', 'Region_x': 'Region', 'OECD_x': 'OECDMember', 'ADMINMODE_x': 'AssessmentType', 'ST004D01T': 'Gender', 'FISCED': 'FathersHighestEducation', 'MISCED': 'MothersHighestEducation', 'BMMJ1': 'MothersOccupationalStatus', 'BFMJ2': 'FathersOccupationalStatus', 'ST011Q04TA': 'HaveComputer', 'ST011Q06TA': 'HaveInternet', 'ST012Q01TA': 'HaveTelevision', 'ST012Q09NA': 'HaveMusicalInstrument', 'ST013Q01TA': 'BooksAtHome', 'IMMIG': 'EthnicGroupCategory', 'LANGN': 'LanguageAtHome', 'ST124Q01TA': 'AttendKindergarten', 'motivat': 'Ambition/competitiveness', 'ST034Q06TA': 'IsLonely', 'SC001Q01TA': 'CommunitySize', 'SC002Q01TA': 'BoysInSchool', 'SC002Q02TA': 'GirlsInSchool','SC003Q01TA': 'AverageClassSize', 'SC053Q01TA': 'MusicActvityAtSchool', 'SC053Q10TA': 'SportsAtSchool', 'SC052Q01NA': 'AvailableRoomForHomework', 'SC052Q02NA': 'StaffHelpForHomework', 'SC010Q11TA': 'PrincipalCourseContent', 'SC010Q11TB': 'TeacherCourseContent', 'SC010Q11TC': 'SchoolGovernningBoardCourseContent', 'SC010Q11TD': 'RegionalAuthorityCourseContent', 'SC010Q11TE': 'NationalAuthorityCourseContent', 'SC012Q01TA': 'AcademicPerformanceAdmission', 'SC013Q01TA': 'SchoolType', 'SC014Q01NA': 'PrivateSchoolType', 'PROATCE': 'ProportionCertifiedTeacher', 'SC036Q02TA': 'StudentResultsTrackedCentrally', 'SC042Q01TA': 'GroupClassesByAbility', 'ESCS': 'EconomicalSocialStatus', 'TMINS': 'MinutesAtSchoolPerWeek', 'OUTHOURS': 'MinutesStudyingOutsideOfCLass', 'BSMJ': 'StudentsExpectedOccupationalStatus', 'PV1SCIE': 'ScoreScience', 'PV1READ': 'ScoreReading', 'PV1MATH': 'ScoreMathematics'})"
   ]
  },
  {
   "cell_type": "markdown",
   "metadata": {},
   "source": [
    "The raw dataset is now imported into \"dataset\"-dataframe and is saved as csv-file for later upload to avoid repeatedly imports from the big original datafile. "
   ]
  },
  {
   "cell_type": "code",
   "execution_count": 8,
   "metadata": {},
   "outputs": [],
   "source": [
    "# saving as csv\n",
    "dataset.to_csv('dataset_raw.csv')"
   ]
  },
  {
   "cell_type": "markdown",
   "metadata": {},
   "source": [
    "# 2. Data preparation"
   ]
  },
  {
   "cell_type": "markdown",
   "metadata": {},
   "source": [
    "This chapter will have all the processes and methods applied to the preparation of the final dataset used in the project."
   ]
  },
  {
   "cell_type": "markdown",
   "metadata": {},
   "source": [
    "## 2.1 Importing necessary libraries"
   ]
  },
  {
   "cell_type": "code",
   "execution_count": 9,
   "metadata": {},
   "outputs": [],
   "source": [
    "import pandas as pd\n",
    "import seaborn as sns\n",
    "import matplotlib.pyplot as plt\n",
    "%matplotlib inline"
   ]
  },
  {
   "cell_type": "markdown",
   "metadata": {},
   "source": [
    "## 2.2 Importing raw data from csv"
   ]
  },
  {
   "cell_type": "markdown",
   "metadata": {},
   "source": [
    "The dataset has already been defined through a mapping and research process. Variables in this dataset will be furtherly explored in this chapter."
   ]
  },
  {
   "cell_type": "code",
   "execution_count": 10,
   "metadata": {},
   "outputs": [],
   "source": [
    "#Importing csv-file\n",
    "dataset = pd.read_csv('dataset_raw.csv')"
   ]
  },
  {
   "cell_type": "markdown",
   "metadata": {},
   "source": [
    "## 2.3 Data exploration"
   ]
  },
  {
   "cell_type": "markdown",
   "metadata": {},
   "source": [
    "Using head() and describe() to get insights into the variables in the dataset."
   ]
  },
  {
   "cell_type": "code",
   "execution_count": 11,
   "metadata": {},
   "outputs": [
    {
     "data": {
      "text/html": [
       "<div>\n",
       "<style scoped>\n",
       "    .dataframe tbody tr th:only-of-type {\n",
       "        vertical-align: middle;\n",
       "    }\n",
       "\n",
       "    .dataframe tbody tr th {\n",
       "        vertical-align: top;\n",
       "    }\n",
       "\n",
       "    .dataframe thead th {\n",
       "        text-align: right;\n",
       "    }\n",
       "</style>\n",
       "<table border=\"1\" class=\"dataframe\">\n",
       "  <thead>\n",
       "    <tr style=\"text-align: right;\">\n",
       "      <th></th>\n",
       "      <th>Unnamed: 0</th>\n",
       "      <th>CountryID</th>\n",
       "      <th>Country</th>\n",
       "      <th>SchoolID</th>\n",
       "      <th>StudentID</th>\n",
       "      <th>Region</th>\n",
       "      <th>OECDMember</th>\n",
       "      <th>AssessmentType</th>\n",
       "      <th>Gender</th>\n",
       "      <th>FathersHighestEducation</th>\n",
       "      <th>MothersHighestEducation</th>\n",
       "      <th>MothersOccupationalStatus</th>\n",
       "      <th>FathersOccupationalStatus</th>\n",
       "      <th>HaveComputer</th>\n",
       "      <th>HaveInternet</th>\n",
       "      <th>HaveTelevision</th>\n",
       "      <th>HaveMusicalInstrument</th>\n",
       "      <th>BooksAtHome</th>\n",
       "      <th>EthnicGroupCategory</th>\n",
       "      <th>LanguageAtHome</th>\n",
       "      <th>AttendKindergarten</th>\n",
       "      <th>MOTIVAT</th>\n",
       "      <th>IsLonely</th>\n",
       "      <th>CommunitySize</th>\n",
       "      <th>BoysInSchool</th>\n",
       "      <th>GirlsInSchool</th>\n",
       "      <th>AverageClassSize</th>\n",
       "      <th>MusicActvityAtSchool</th>\n",
       "      <th>SportsAtSchool</th>\n",
       "      <th>AvailableRoomForHomework</th>\n",
       "      <th>StaffHelpForHomework</th>\n",
       "      <th>PrincipalCourseContent</th>\n",
       "      <th>TeacherCourseContent</th>\n",
       "      <th>SchoolGovernningBoardCourseContent</th>\n",
       "      <th>RegionalAuthorityCourseContent</th>\n",
       "      <th>NationalAuthorityCourseContent</th>\n",
       "      <th>AcademicPerformanceAdmission</th>\n",
       "      <th>SchoolType</th>\n",
       "      <th>PrivateSchoolType</th>\n",
       "      <th>ProportionCertifiedTeacher</th>\n",
       "      <th>StudentResultsTrackedCentrally</th>\n",
       "      <th>GroupClassesByAbility</th>\n",
       "      <th>EconomicalSocialStatus</th>\n",
       "      <th>MinutesAtSchoolPerWeek</th>\n",
       "      <th>MinutesStudyingOutsideOfCLass</th>\n",
       "      <th>StudentsExpectedOccupationalStatus</th>\n",
       "      <th>ScoreScience</th>\n",
       "      <th>ScoreReading</th>\n",
       "      <th>ScoreMathematics</th>\n",
       "    </tr>\n",
       "  </thead>\n",
       "  <tbody>\n",
       "    <tr>\n",
       "      <th>0</th>\n",
       "      <td>0</td>\n",
       "      <td>8.0</td>\n",
       "      <td>b'ALB'</td>\n",
       "      <td>800001.0</td>\n",
       "      <td>803627.0</td>\n",
       "      <td>800.0</td>\n",
       "      <td>0.0</td>\n",
       "      <td>1.0</td>\n",
       "      <td>1.0</td>\n",
       "      <td>NaN</td>\n",
       "      <td>NaN</td>\n",
       "      <td>NaN</td>\n",
       "      <td>NaN</td>\n",
       "      <td>NaN</td>\n",
       "      <td>NaN</td>\n",
       "      <td>NaN</td>\n",
       "      <td>NaN</td>\n",
       "      <td>NaN</td>\n",
       "      <td>NaN</td>\n",
       "      <td>NaN</td>\n",
       "      <td>NaN</td>\n",
       "      <td>NaN</td>\n",
       "      <td>NaN</td>\n",
       "      <td>3.0</td>\n",
       "      <td>196.0</td>\n",
       "      <td>295.0</td>\n",
       "      <td>7.0</td>\n",
       "      <td>2.0</td>\n",
       "      <td>1.0</td>\n",
       "      <td>2.0</td>\n",
       "      <td>2.0</td>\n",
       "      <td>0.0</td>\n",
       "      <td>0.0</td>\n",
       "      <td>1.0</td>\n",
       "      <td>0.0</td>\n",
       "      <td>0.0</td>\n",
       "      <td>2.0</td>\n",
       "      <td>1.0</td>\n",
       "      <td>NaN</td>\n",
       "      <td>1.0</td>\n",
       "      <td>2.0</td>\n",
       "      <td>3.0</td>\n",
       "      <td>NaN</td>\n",
       "      <td>NaN</td>\n",
       "      <td>NaN</td>\n",
       "      <td>NaN</td>\n",
       "      <td>517.092</td>\n",
       "      <td>429.846</td>\n",
       "      <td>462.940</td>\n",
       "    </tr>\n",
       "    <tr>\n",
       "      <th>1</th>\n",
       "      <td>1</td>\n",
       "      <td>8.0</td>\n",
       "      <td>b'ALB'</td>\n",
       "      <td>800001.0</td>\n",
       "      <td>800454.0</td>\n",
       "      <td>800.0</td>\n",
       "      <td>0.0</td>\n",
       "      <td>1.0</td>\n",
       "      <td>1.0</td>\n",
       "      <td>NaN</td>\n",
       "      <td>NaN</td>\n",
       "      <td>NaN</td>\n",
       "      <td>NaN</td>\n",
       "      <td>NaN</td>\n",
       "      <td>NaN</td>\n",
       "      <td>NaN</td>\n",
       "      <td>NaN</td>\n",
       "      <td>NaN</td>\n",
       "      <td>NaN</td>\n",
       "      <td>NaN</td>\n",
       "      <td>NaN</td>\n",
       "      <td>NaN</td>\n",
       "      <td>NaN</td>\n",
       "      <td>3.0</td>\n",
       "      <td>196.0</td>\n",
       "      <td>295.0</td>\n",
       "      <td>7.0</td>\n",
       "      <td>2.0</td>\n",
       "      <td>1.0</td>\n",
       "      <td>2.0</td>\n",
       "      <td>2.0</td>\n",
       "      <td>0.0</td>\n",
       "      <td>0.0</td>\n",
       "      <td>1.0</td>\n",
       "      <td>0.0</td>\n",
       "      <td>0.0</td>\n",
       "      <td>2.0</td>\n",
       "      <td>1.0</td>\n",
       "      <td>NaN</td>\n",
       "      <td>1.0</td>\n",
       "      <td>2.0</td>\n",
       "      <td>3.0</td>\n",
       "      <td>NaN</td>\n",
       "      <td>NaN</td>\n",
       "      <td>NaN</td>\n",
       "      <td>NaN</td>\n",
       "      <td>479.635</td>\n",
       "      <td>462.788</td>\n",
       "      <td>430.100</td>\n",
       "    </tr>\n",
       "    <tr>\n",
       "      <th>2</th>\n",
       "      <td>2</td>\n",
       "      <td>8.0</td>\n",
       "      <td>b'ALB'</td>\n",
       "      <td>800001.0</td>\n",
       "      <td>800893.0</td>\n",
       "      <td>800.0</td>\n",
       "      <td>0.0</td>\n",
       "      <td>1.0</td>\n",
       "      <td>1.0</td>\n",
       "      <td>NaN</td>\n",
       "      <td>NaN</td>\n",
       "      <td>NaN</td>\n",
       "      <td>NaN</td>\n",
       "      <td>NaN</td>\n",
       "      <td>NaN</td>\n",
       "      <td>NaN</td>\n",
       "      <td>NaN</td>\n",
       "      <td>NaN</td>\n",
       "      <td>NaN</td>\n",
       "      <td>NaN</td>\n",
       "      <td>NaN</td>\n",
       "      <td>NaN</td>\n",
       "      <td>NaN</td>\n",
       "      <td>3.0</td>\n",
       "      <td>196.0</td>\n",
       "      <td>295.0</td>\n",
       "      <td>7.0</td>\n",
       "      <td>2.0</td>\n",
       "      <td>1.0</td>\n",
       "      <td>2.0</td>\n",
       "      <td>2.0</td>\n",
       "      <td>0.0</td>\n",
       "      <td>0.0</td>\n",
       "      <td>1.0</td>\n",
       "      <td>0.0</td>\n",
       "      <td>0.0</td>\n",
       "      <td>2.0</td>\n",
       "      <td>1.0</td>\n",
       "      <td>NaN</td>\n",
       "      <td>1.0</td>\n",
       "      <td>2.0</td>\n",
       "      <td>3.0</td>\n",
       "      <td>NaN</td>\n",
       "      <td>NaN</td>\n",
       "      <td>NaN</td>\n",
       "      <td>NaN</td>\n",
       "      <td>446.930</td>\n",
       "      <td>503.169</td>\n",
       "      <td>302.612</td>\n",
       "    </tr>\n",
       "    <tr>\n",
       "      <th>3</th>\n",
       "      <td>3</td>\n",
       "      <td>8.0</td>\n",
       "      <td>b'ALB'</td>\n",
       "      <td>800001.0</td>\n",
       "      <td>804180.0</td>\n",
       "      <td>800.0</td>\n",
       "      <td>0.0</td>\n",
       "      <td>1.0</td>\n",
       "      <td>1.0</td>\n",
       "      <td>NaN</td>\n",
       "      <td>NaN</td>\n",
       "      <td>NaN</td>\n",
       "      <td>NaN</td>\n",
       "      <td>NaN</td>\n",
       "      <td>NaN</td>\n",
       "      <td>NaN</td>\n",
       "      <td>NaN</td>\n",
       "      <td>NaN</td>\n",
       "      <td>NaN</td>\n",
       "      <td>NaN</td>\n",
       "      <td>NaN</td>\n",
       "      <td>NaN</td>\n",
       "      <td>NaN</td>\n",
       "      <td>3.0</td>\n",
       "      <td>196.0</td>\n",
       "      <td>295.0</td>\n",
       "      <td>7.0</td>\n",
       "      <td>2.0</td>\n",
       "      <td>1.0</td>\n",
       "      <td>2.0</td>\n",
       "      <td>2.0</td>\n",
       "      <td>0.0</td>\n",
       "      <td>0.0</td>\n",
       "      <td>1.0</td>\n",
       "      <td>0.0</td>\n",
       "      <td>0.0</td>\n",
       "      <td>2.0</td>\n",
       "      <td>1.0</td>\n",
       "      <td>NaN</td>\n",
       "      <td>1.0</td>\n",
       "      <td>2.0</td>\n",
       "      <td>3.0</td>\n",
       "      <td>NaN</td>\n",
       "      <td>NaN</td>\n",
       "      <td>NaN</td>\n",
       "      <td>NaN</td>\n",
       "      <td>383.794</td>\n",
       "      <td>569.626</td>\n",
       "      <td>336.522</td>\n",
       "    </tr>\n",
       "    <tr>\n",
       "      <th>4</th>\n",
       "      <td>4</td>\n",
       "      <td>8.0</td>\n",
       "      <td>b'ALB'</td>\n",
       "      <td>800001.0</td>\n",
       "      <td>800491.0</td>\n",
       "      <td>800.0</td>\n",
       "      <td>0.0</td>\n",
       "      <td>1.0</td>\n",
       "      <td>1.0</td>\n",
       "      <td>NaN</td>\n",
       "      <td>NaN</td>\n",
       "      <td>NaN</td>\n",
       "      <td>NaN</td>\n",
       "      <td>NaN</td>\n",
       "      <td>NaN</td>\n",
       "      <td>NaN</td>\n",
       "      <td>NaN</td>\n",
       "      <td>NaN</td>\n",
       "      <td>NaN</td>\n",
       "      <td>NaN</td>\n",
       "      <td>NaN</td>\n",
       "      <td>NaN</td>\n",
       "      <td>NaN</td>\n",
       "      <td>3.0</td>\n",
       "      <td>196.0</td>\n",
       "      <td>295.0</td>\n",
       "      <td>7.0</td>\n",
       "      <td>2.0</td>\n",
       "      <td>1.0</td>\n",
       "      <td>2.0</td>\n",
       "      <td>2.0</td>\n",
       "      <td>0.0</td>\n",
       "      <td>0.0</td>\n",
       "      <td>1.0</td>\n",
       "      <td>0.0</td>\n",
       "      <td>0.0</td>\n",
       "      <td>2.0</td>\n",
       "      <td>1.0</td>\n",
       "      <td>NaN</td>\n",
       "      <td>1.0</td>\n",
       "      <td>2.0</td>\n",
       "      <td>3.0</td>\n",
       "      <td>NaN</td>\n",
       "      <td>NaN</td>\n",
       "      <td>NaN</td>\n",
       "      <td>NaN</td>\n",
       "      <td>412.304</td>\n",
       "      <td>389.138</td>\n",
       "      <td>290.929</td>\n",
       "    </tr>\n",
       "  </tbody>\n",
       "</table>\n",
       "</div>"
      ],
      "text/plain": [
       "   Unnamed: 0  CountryID Country  SchoolID  StudentID  Region  OECDMember  \\\n",
       "0           0        8.0  b'ALB'  800001.0   803627.0   800.0         0.0   \n",
       "1           1        8.0  b'ALB'  800001.0   800454.0   800.0         0.0   \n",
       "2           2        8.0  b'ALB'  800001.0   800893.0   800.0         0.0   \n",
       "3           3        8.0  b'ALB'  800001.0   804180.0   800.0         0.0   \n",
       "4           4        8.0  b'ALB'  800001.0   800491.0   800.0         0.0   \n",
       "\n",
       "   AssessmentType  Gender  FathersHighestEducation  MothersHighestEducation  \\\n",
       "0             1.0     1.0                      NaN                      NaN   \n",
       "1             1.0     1.0                      NaN                      NaN   \n",
       "2             1.0     1.0                      NaN                      NaN   \n",
       "3             1.0     1.0                      NaN                      NaN   \n",
       "4             1.0     1.0                      NaN                      NaN   \n",
       "\n",
       "   MothersOccupationalStatus  FathersOccupationalStatus  HaveComputer  \\\n",
       "0                        NaN                        NaN           NaN   \n",
       "1                        NaN                        NaN           NaN   \n",
       "2                        NaN                        NaN           NaN   \n",
       "3                        NaN                        NaN           NaN   \n",
       "4                        NaN                        NaN           NaN   \n",
       "\n",
       "   HaveInternet  HaveTelevision  HaveMusicalInstrument  BooksAtHome  \\\n",
       "0           NaN             NaN                    NaN          NaN   \n",
       "1           NaN             NaN                    NaN          NaN   \n",
       "2           NaN             NaN                    NaN          NaN   \n",
       "3           NaN             NaN                    NaN          NaN   \n",
       "4           NaN             NaN                    NaN          NaN   \n",
       "\n",
       "   EthnicGroupCategory  LanguageAtHome  AttendKindergarten  MOTIVAT  IsLonely  \\\n",
       "0                  NaN             NaN                 NaN      NaN       NaN   \n",
       "1                  NaN             NaN                 NaN      NaN       NaN   \n",
       "2                  NaN             NaN                 NaN      NaN       NaN   \n",
       "3                  NaN             NaN                 NaN      NaN       NaN   \n",
       "4                  NaN             NaN                 NaN      NaN       NaN   \n",
       "\n",
       "   CommunitySize  BoysInSchool  GirlsInSchool  AverageClassSize  \\\n",
       "0            3.0         196.0          295.0               7.0   \n",
       "1            3.0         196.0          295.0               7.0   \n",
       "2            3.0         196.0          295.0               7.0   \n",
       "3            3.0         196.0          295.0               7.0   \n",
       "4            3.0         196.0          295.0               7.0   \n",
       "\n",
       "   MusicActvityAtSchool  SportsAtSchool  AvailableRoomForHomework  \\\n",
       "0                   2.0             1.0                       2.0   \n",
       "1                   2.0             1.0                       2.0   \n",
       "2                   2.0             1.0                       2.0   \n",
       "3                   2.0             1.0                       2.0   \n",
       "4                   2.0             1.0                       2.0   \n",
       "\n",
       "   StaffHelpForHomework  PrincipalCourseContent  TeacherCourseContent  \\\n",
       "0                   2.0                     0.0                   0.0   \n",
       "1                   2.0                     0.0                   0.0   \n",
       "2                   2.0                     0.0                   0.0   \n",
       "3                   2.0                     0.0                   0.0   \n",
       "4                   2.0                     0.0                   0.0   \n",
       "\n",
       "   SchoolGovernningBoardCourseContent  RegionalAuthorityCourseContent  \\\n",
       "0                                 1.0                             0.0   \n",
       "1                                 1.0                             0.0   \n",
       "2                                 1.0                             0.0   \n",
       "3                                 1.0                             0.0   \n",
       "4                                 1.0                             0.0   \n",
       "\n",
       "   NationalAuthorityCourseContent  AcademicPerformanceAdmission  SchoolType  \\\n",
       "0                             0.0                           2.0         1.0   \n",
       "1                             0.0                           2.0         1.0   \n",
       "2                             0.0                           2.0         1.0   \n",
       "3                             0.0                           2.0         1.0   \n",
       "4                             0.0                           2.0         1.0   \n",
       "\n",
       "   PrivateSchoolType  ProportionCertifiedTeacher  \\\n",
       "0                NaN                         1.0   \n",
       "1                NaN                         1.0   \n",
       "2                NaN                         1.0   \n",
       "3                NaN                         1.0   \n",
       "4                NaN                         1.0   \n",
       "\n",
       "   StudentResultsTrackedCentrally  GroupClassesByAbility  \\\n",
       "0                             2.0                    3.0   \n",
       "1                             2.0                    3.0   \n",
       "2                             2.0                    3.0   \n",
       "3                             2.0                    3.0   \n",
       "4                             2.0                    3.0   \n",
       "\n",
       "   EconomicalSocialStatus  MinutesAtSchoolPerWeek  \\\n",
       "0                     NaN                     NaN   \n",
       "1                     NaN                     NaN   \n",
       "2                     NaN                     NaN   \n",
       "3                     NaN                     NaN   \n",
       "4                     NaN                     NaN   \n",
       "\n",
       "   MinutesStudyingOutsideOfCLass  StudentsExpectedOccupationalStatus  \\\n",
       "0                            NaN                                 NaN   \n",
       "1                            NaN                                 NaN   \n",
       "2                            NaN                                 NaN   \n",
       "3                            NaN                                 NaN   \n",
       "4                            NaN                                 NaN   \n",
       "\n",
       "   ScoreScience  ScoreReading  ScoreMathematics  \n",
       "0       517.092       429.846           462.940  \n",
       "1       479.635       462.788           430.100  \n",
       "2       446.930       503.169           302.612  \n",
       "3       383.794       569.626           336.522  \n",
       "4       412.304       389.138           290.929  "
      ]
     },
     "execution_count": 11,
     "metadata": {},
     "output_type": "execute_result"
    }
   ],
   "source": [
    "# to see all (100) columns in the query\n",
    "pd.set_option('display.max_columns', 100)\n",
    "# top 5 rows\n",
    "dataset.head()"
   ]
  },
  {
   "cell_type": "code",
   "execution_count": 12,
   "metadata": {},
   "outputs": [
    {
     "data": {
      "text/html": [
       "<div>\n",
       "<style scoped>\n",
       "    .dataframe tbody tr th:only-of-type {\n",
       "        vertical-align: middle;\n",
       "    }\n",
       "\n",
       "    .dataframe tbody tr th {\n",
       "        vertical-align: top;\n",
       "    }\n",
       "\n",
       "    .dataframe thead th {\n",
       "        text-align: right;\n",
       "    }\n",
       "</style>\n",
       "<table border=\"1\" class=\"dataframe\">\n",
       "  <thead>\n",
       "    <tr style=\"text-align: right;\">\n",
       "      <th></th>\n",
       "      <th>Unnamed: 0</th>\n",
       "      <th>CountryID</th>\n",
       "      <th>SchoolID</th>\n",
       "      <th>StudentID</th>\n",
       "      <th>Region</th>\n",
       "      <th>OECDMember</th>\n",
       "      <th>AssessmentType</th>\n",
       "      <th>Gender</th>\n",
       "      <th>FathersHighestEducation</th>\n",
       "      <th>MothersHighestEducation</th>\n",
       "      <th>MothersOccupationalStatus</th>\n",
       "      <th>FathersOccupationalStatus</th>\n",
       "      <th>HaveComputer</th>\n",
       "      <th>HaveInternet</th>\n",
       "      <th>HaveTelevision</th>\n",
       "      <th>HaveMusicalInstrument</th>\n",
       "      <th>BooksAtHome</th>\n",
       "      <th>EthnicGroupCategory</th>\n",
       "      <th>LanguageAtHome</th>\n",
       "      <th>AttendKindergarten</th>\n",
       "      <th>MOTIVAT</th>\n",
       "      <th>IsLonely</th>\n",
       "      <th>CommunitySize</th>\n",
       "      <th>BoysInSchool</th>\n",
       "      <th>GirlsInSchool</th>\n",
       "      <th>AverageClassSize</th>\n",
       "      <th>MusicActvityAtSchool</th>\n",
       "      <th>SportsAtSchool</th>\n",
       "      <th>AvailableRoomForHomework</th>\n",
       "      <th>StaffHelpForHomework</th>\n",
       "      <th>PrincipalCourseContent</th>\n",
       "      <th>TeacherCourseContent</th>\n",
       "      <th>SchoolGovernningBoardCourseContent</th>\n",
       "      <th>RegionalAuthorityCourseContent</th>\n",
       "      <th>NationalAuthorityCourseContent</th>\n",
       "      <th>AcademicPerformanceAdmission</th>\n",
       "      <th>SchoolType</th>\n",
       "      <th>PrivateSchoolType</th>\n",
       "      <th>ProportionCertifiedTeacher</th>\n",
       "      <th>StudentResultsTrackedCentrally</th>\n",
       "      <th>GroupClassesByAbility</th>\n",
       "      <th>EconomicalSocialStatus</th>\n",
       "      <th>MinutesAtSchoolPerWeek</th>\n",
       "      <th>MinutesStudyingOutsideOfCLass</th>\n",
       "      <th>StudentsExpectedOccupationalStatus</th>\n",
       "      <th>ScoreScience</th>\n",
       "      <th>ScoreReading</th>\n",
       "      <th>ScoreMathematics</th>\n",
       "    </tr>\n",
       "  </thead>\n",
       "  <tbody>\n",
       "    <tr>\n",
       "      <th>count</th>\n",
       "      <td>514397.000000</td>\n",
       "      <td>514397.000000</td>\n",
       "      <td>5.143970e+05</td>\n",
       "      <td>5.143970e+05</td>\n",
       "      <td>514397.000000</td>\n",
       "      <td>514397.000000</td>\n",
       "      <td>514397.000000</td>\n",
       "      <td>514397.000000</td>\n",
       "      <td>482196.000000</td>\n",
       "      <td>490794.000000</td>\n",
       "      <td>361280.000000</td>\n",
       "      <td>411084.000000</td>\n",
       "      <td>493811.000000</td>\n",
       "      <td>493685.000000</td>\n",
       "      <td>495741.000000</td>\n",
       "      <td>493498.000000</td>\n",
       "      <td>496440.000000</td>\n",
       "      <td>489742.000000</td>\n",
       "      <td>498267.000000</td>\n",
       "      <td>63934.000000</td>\n",
       "      <td>427550.000000</td>\n",
       "      <td>479905.000000</td>\n",
       "      <td>475563.000000</td>\n",
       "      <td>445493.000000</td>\n",
       "      <td>446705.000000</td>\n",
       "      <td>470080.000000</td>\n",
       "      <td>463359.000000</td>\n",
       "      <td>470580.000000</td>\n",
       "      <td>476477.000000</td>\n",
       "      <td>475772.000000</td>\n",
       "      <td>483050.000000</td>\n",
       "      <td>483050.000000</td>\n",
       "      <td>483050.000000</td>\n",
       "      <td>468013.000000</td>\n",
       "      <td>478040.000000</td>\n",
       "      <td>474823.000000</td>\n",
       "      <td>460819.000000</td>\n",
       "      <td>121362.0000</td>\n",
       "      <td>429510.000000</td>\n",
       "      <td>473032.000000</td>\n",
       "      <td>466172.000000</td>\n",
       "      <td>498493.000000</td>\n",
       "      <td>372082.000000</td>\n",
       "      <td>367938.000000</td>\n",
       "      <td>412259.000000</td>\n",
       "      <td>514397.000000</td>\n",
       "      <td>514397.000000</td>\n",
       "      <td>514397.000000</td>\n",
       "    </tr>\n",
       "    <tr>\n",
       "      <th>mean</th>\n",
       "      <td>257198.000000</td>\n",
       "      <td>463.136264</td>\n",
       "      <td>4.631450e+07</td>\n",
       "      <td>4.632068e+07</td>\n",
       "      <td>44459.209511</td>\n",
       "      <td>0.609024</td>\n",
       "      <td>1.862876</td>\n",
       "      <td>1.498871</td>\n",
       "      <td>4.014326</td>\n",
       "      <td>4.043146</td>\n",
       "      <td>45.975684</td>\n",
       "      <td>43.973113</td>\n",
       "      <td>1.144513</td>\n",
       "      <td>1.105547</td>\n",
       "      <td>3.152731</td>\n",
       "      <td>2.064290</td>\n",
       "      <td>2.965970</td>\n",
       "      <td>1.179544</td>\n",
       "      <td>359.464512</td>\n",
       "      <td>2.248334</td>\n",
       "      <td>0.089388</td>\n",
       "      <td>3.237093</td>\n",
       "      <td>3.140951</td>\n",
       "      <td>456.682363</td>\n",
       "      <td>452.576045</td>\n",
       "      <td>4.126887</td>\n",
       "      <td>1.429779</td>\n",
       "      <td>1.077808</td>\n",
       "      <td>1.355478</td>\n",
       "      <td>1.456172</td>\n",
       "      <td>0.227455</td>\n",
       "      <td>0.565310</td>\n",
       "      <td>0.118437</td>\n",
       "      <td>0.211520</td>\n",
       "      <td>0.446787</td>\n",
       "      <td>2.086961</td>\n",
       "      <td>1.206643</td>\n",
       "      <td>1.8774</td>\n",
       "      <td>0.815826</td>\n",
       "      <td>1.230335</td>\n",
       "      <td>2.436521</td>\n",
       "      <td>-0.258934</td>\n",
       "      <td>1640.851162</td>\n",
       "      <td>18.957246</td>\n",
       "      <td>61.020155</td>\n",
       "      <td>469.343664</td>\n",
       "      <td>465.468811</td>\n",
       "      <td>463.162704</td>\n",
       "    </tr>\n",
       "    <tr>\n",
       "      <th>std</th>\n",
       "      <td>148493.767548</td>\n",
       "      <td>293.751344</td>\n",
       "      <td>2.937498e+07</td>\n",
       "      <td>2.937547e+07</td>\n",
       "      <td>27161.422680</td>\n",
       "      <td>0.603171</td>\n",
       "      <td>0.343978</td>\n",
       "      <td>0.499999</td>\n",
       "      <td>1.733726</td>\n",
       "      <td>1.730985</td>\n",
       "      <td>22.498292</td>\n",
       "      <td>22.017307</td>\n",
       "      <td>0.351609</td>\n",
       "      <td>0.307257</td>\n",
       "      <td>0.830894</td>\n",
       "      <td>1.109965</td>\n",
       "      <td>1.462916</td>\n",
       "      <td>0.517593</td>\n",
       "      <td>189.577346</td>\n",
       "      <td>0.832303</td>\n",
       "      <td>0.986091</td>\n",
       "      <td>0.869480</td>\n",
       "      <td>1.188405</td>\n",
       "      <td>474.755386</td>\n",
       "      <td>468.520004</td>\n",
       "      <td>1.865882</td>\n",
       "      <td>0.495045</td>\n",
       "      <td>0.267870</td>\n",
       "      <td>0.478658</td>\n",
       "      <td>0.498076</td>\n",
       "      <td>0.419189</td>\n",
       "      <td>0.495717</td>\n",
       "      <td>0.323125</td>\n",
       "      <td>0.408386</td>\n",
       "      <td>0.497161</td>\n",
       "      <td>0.879588</td>\n",
       "      <td>0.404898</td>\n",
       "      <td>0.6803</td>\n",
       "      <td>0.317326</td>\n",
       "      <td>0.421048</td>\n",
       "      <td>0.679560</td>\n",
       "      <td>1.109030</td>\n",
       "      <td>417.520650</td>\n",
       "      <td>14.328448</td>\n",
       "      <td>17.432371</td>\n",
       "      <td>102.327958</td>\n",
       "      <td>106.065858</td>\n",
       "      <td>103.309749</td>\n",
       "    </tr>\n",
       "    <tr>\n",
       "      <th>min</th>\n",
       "      <td>0.000000</td>\n",
       "      <td>8.000000</td>\n",
       "      <td>8.000010e+05</td>\n",
       "      <td>8.000010e+05</td>\n",
       "      <td>800.000000</td>\n",
       "      <td>0.000000</td>\n",
       "      <td>1.000000</td>\n",
       "      <td>1.000000</td>\n",
       "      <td>0.000000</td>\n",
       "      <td>0.000000</td>\n",
       "      <td>11.000000</td>\n",
       "      <td>11.000000</td>\n",
       "      <td>1.000000</td>\n",
       "      <td>1.000000</td>\n",
       "      <td>1.000000</td>\n",
       "      <td>1.000000</td>\n",
       "      <td>1.000000</td>\n",
       "      <td>1.000000</td>\n",
       "      <td>105.000000</td>\n",
       "      <td>1.000000</td>\n",
       "      <td>-3.087700</td>\n",
       "      <td>1.000000</td>\n",
       "      <td>1.000000</td>\n",
       "      <td>0.000000</td>\n",
       "      <td>0.000000</td>\n",
       "      <td>1.000000</td>\n",
       "      <td>1.000000</td>\n",
       "      <td>1.000000</td>\n",
       "      <td>1.000000</td>\n",
       "      <td>1.000000</td>\n",
       "      <td>0.000000</td>\n",
       "      <td>0.000000</td>\n",
       "      <td>0.000000</td>\n",
       "      <td>0.000000</td>\n",
       "      <td>0.000000</td>\n",
       "      <td>1.000000</td>\n",
       "      <td>1.000000</td>\n",
       "      <td>1.0000</td>\n",
       "      <td>0.000000</td>\n",
       "      <td>1.000000</td>\n",
       "      <td>1.000000</td>\n",
       "      <td>-7.260200</td>\n",
       "      <td>0.000000</td>\n",
       "      <td>0.000000</td>\n",
       "      <td>10.000000</td>\n",
       "      <td>25.103000</td>\n",
       "      <td>0.000000</td>\n",
       "      <td>0.000000</td>\n",
       "    </tr>\n",
       "    <tr>\n",
       "      <th>25%</th>\n",
       "      <td>128599.000000</td>\n",
       "      <td>191.000000</td>\n",
       "      <td>1.910012e+07</td>\n",
       "      <td>1.910480e+07</td>\n",
       "      <td>19100.000000</td>\n",
       "      <td>0.000000</td>\n",
       "      <td>2.000000</td>\n",
       "      <td>1.000000</td>\n",
       "      <td>3.000000</td>\n",
       "      <td>3.000000</td>\n",
       "      <td>25.000000</td>\n",
       "      <td>26.000000</td>\n",
       "      <td>1.000000</td>\n",
       "      <td>1.000000</td>\n",
       "      <td>3.000000</td>\n",
       "      <td>1.000000</td>\n",
       "      <td>2.000000</td>\n",
       "      <td>1.000000</td>\n",
       "      <td>160.000000</td>\n",
       "      <td>1.000000</td>\n",
       "      <td>-0.564300</td>\n",
       "      <td>3.000000</td>\n",
       "      <td>2.000000</td>\n",
       "      <td>189.000000</td>\n",
       "      <td>183.000000</td>\n",
       "      <td>3.000000</td>\n",
       "      <td>1.000000</td>\n",
       "      <td>1.000000</td>\n",
       "      <td>1.000000</td>\n",
       "      <td>1.000000</td>\n",
       "      <td>0.000000</td>\n",
       "      <td>0.000000</td>\n",
       "      <td>0.000000</td>\n",
       "      <td>0.000000</td>\n",
       "      <td>0.000000</td>\n",
       "      <td>1.000000</td>\n",
       "      <td>1.000000</td>\n",
       "      <td>1.0000</td>\n",
       "      <td>0.809800</td>\n",
       "      <td>1.000000</td>\n",
       "      <td>2.000000</td>\n",
       "      <td>-1.002500</td>\n",
       "      <td>1440.000000</td>\n",
       "      <td>8.000000</td>\n",
       "      <td>47.000000</td>\n",
       "      <td>394.085000</td>\n",
       "      <td>392.421000</td>\n",
       "      <td>389.539000</td>\n",
       "    </tr>\n",
       "    <tr>\n",
       "      <th>50%</th>\n",
       "      <td>257198.000000</td>\n",
       "      <td>422.000000</td>\n",
       "      <td>4.220024e+07</td>\n",
       "      <td>4.220430e+07</td>\n",
       "      <td>42200.000000</td>\n",
       "      <td>1.000000</td>\n",
       "      <td>2.000000</td>\n",
       "      <td>1.000000</td>\n",
       "      <td>4.000000</td>\n",
       "      <td>4.000000</td>\n",
       "      <td>44.000000</td>\n",
       "      <td>36.000000</td>\n",
       "      <td>1.000000</td>\n",
       "      <td>1.000000</td>\n",
       "      <td>3.000000</td>\n",
       "      <td>2.000000</td>\n",
       "      <td>3.000000</td>\n",
       "      <td>1.000000</td>\n",
       "      <td>313.000000</td>\n",
       "      <td>3.000000</td>\n",
       "      <td>-0.041300</td>\n",
       "      <td>3.000000</td>\n",
       "      <td>3.000000</td>\n",
       "      <td>347.000000</td>\n",
       "      <td>346.000000</td>\n",
       "      <td>4.000000</td>\n",
       "      <td>1.000000</td>\n",
       "      <td>1.000000</td>\n",
       "      <td>1.000000</td>\n",
       "      <td>1.000000</td>\n",
       "      <td>0.000000</td>\n",
       "      <td>1.000000</td>\n",
       "      <td>0.000000</td>\n",
       "      <td>0.000000</td>\n",
       "      <td>0.000000</td>\n",
       "      <td>2.000000</td>\n",
       "      <td>1.000000</td>\n",
       "      <td>2.0000</td>\n",
       "      <td>0.989900</td>\n",
       "      <td>1.000000</td>\n",
       "      <td>3.000000</td>\n",
       "      <td>-0.184300</td>\n",
       "      <td>1600.000000</td>\n",
       "      <td>15.000000</td>\n",
       "      <td>64.000000</td>\n",
       "      <td>467.900000</td>\n",
       "      <td>470.023000</td>\n",
       "      <td>463.796000</td>\n",
       "    </tr>\n",
       "    <tr>\n",
       "      <th>75%</th>\n",
       "      <td>385797.000000</td>\n",
       "      <td>724.000000</td>\n",
       "      <td>7.240047e+07</td>\n",
       "      <td>7.241619e+07</td>\n",
       "      <td>72400.000000</td>\n",
       "      <td>1.000000</td>\n",
       "      <td>2.000000</td>\n",
       "      <td>2.000000</td>\n",
       "      <td>6.000000</td>\n",
       "      <td>6.000000</td>\n",
       "      <td>69.000000</td>\n",
       "      <td>65.000000</td>\n",
       "      <td>1.000000</td>\n",
       "      <td>1.000000</td>\n",
       "      <td>4.000000</td>\n",
       "      <td>3.000000</td>\n",
       "      <td>4.000000</td>\n",
       "      <td>1.000000</td>\n",
       "      <td>496.000000</td>\n",
       "      <td>3.000000</td>\n",
       "      <td>0.810100</td>\n",
       "      <td>4.000000</td>\n",
       "      <td>4.000000</td>\n",
       "      <td>579.000000</td>\n",
       "      <td>576.000000</td>\n",
       "      <td>5.000000</td>\n",
       "      <td>2.000000</td>\n",
       "      <td>1.000000</td>\n",
       "      <td>2.000000</td>\n",
       "      <td>2.000000</td>\n",
       "      <td>0.000000</td>\n",
       "      <td>1.000000</td>\n",
       "      <td>0.000000</td>\n",
       "      <td>0.000000</td>\n",
       "      <td>1.000000</td>\n",
       "      <td>3.000000</td>\n",
       "      <td>1.000000</td>\n",
       "      <td>2.0000</td>\n",
       "      <td>1.000000</td>\n",
       "      <td>1.000000</td>\n",
       "      <td>3.000000</td>\n",
       "      <td>0.623100</td>\n",
       "      <td>1800.000000</td>\n",
       "      <td>26.000000</td>\n",
       "      <td>71.000000</td>\n",
       "      <td>543.098000</td>\n",
       "      <td>542.272000</td>\n",
       "      <td>536.897000</td>\n",
       "    </tr>\n",
       "    <tr>\n",
       "      <th>max</th>\n",
       "      <td>514396.000000</td>\n",
       "      <td>974.000000</td>\n",
       "      <td>9.740024e+07</td>\n",
       "      <td>9.740747e+07</td>\n",
       "      <td>97000.000000</td>\n",
       "      <td>2.000000</td>\n",
       "      <td>2.000000</td>\n",
       "      <td>2.000000</td>\n",
       "      <td>6.000000</td>\n",
       "      <td>6.000000</td>\n",
       "      <td>89.000000</td>\n",
       "      <td>89.000000</td>\n",
       "      <td>2.000000</td>\n",
       "      <td>2.000000</td>\n",
       "      <td>4.000000</td>\n",
       "      <td>4.000000</td>\n",
       "      <td>6.000000</td>\n",
       "      <td>3.000000</td>\n",
       "      <td>886.000000</td>\n",
       "      <td>3.000000</td>\n",
       "      <td>1.854300</td>\n",
       "      <td>4.000000</td>\n",
       "      <td>5.000000</td>\n",
       "      <td>8500.000000</td>\n",
       "      <td>9305.000000</td>\n",
       "      <td>9.000000</td>\n",
       "      <td>2.000000</td>\n",
       "      <td>2.000000</td>\n",
       "      <td>2.000000</td>\n",
       "      <td>2.000000</td>\n",
       "      <td>1.000000</td>\n",
       "      <td>1.000000</td>\n",
       "      <td>1.000000</td>\n",
       "      <td>1.000000</td>\n",
       "      <td>1.000000</td>\n",
       "      <td>3.000000</td>\n",
       "      <td>2.000000</td>\n",
       "      <td>3.0000</td>\n",
       "      <td>1.000000</td>\n",
       "      <td>2.000000</td>\n",
       "      <td>3.000000</td>\n",
       "      <td>4.182800</td>\n",
       "      <td>3000.000000</td>\n",
       "      <td>70.000000</td>\n",
       "      <td>89.000000</td>\n",
       "      <td>888.359000</td>\n",
       "      <td>882.120000</td>\n",
       "      <td>870.509000</td>\n",
       "    </tr>\n",
       "  </tbody>\n",
       "</table>\n",
       "</div>"
      ],
      "text/plain": [
       "          Unnamed: 0      CountryID      SchoolID     StudentID  \\\n",
       "count  514397.000000  514397.000000  5.143970e+05  5.143970e+05   \n",
       "mean   257198.000000     463.136264  4.631450e+07  4.632068e+07   \n",
       "std    148493.767548     293.751344  2.937498e+07  2.937547e+07   \n",
       "min         0.000000       8.000000  8.000010e+05  8.000010e+05   \n",
       "25%    128599.000000     191.000000  1.910012e+07  1.910480e+07   \n",
       "50%    257198.000000     422.000000  4.220024e+07  4.220430e+07   \n",
       "75%    385797.000000     724.000000  7.240047e+07  7.241619e+07   \n",
       "max    514396.000000     974.000000  9.740024e+07  9.740747e+07   \n",
       "\n",
       "              Region     OECDMember  AssessmentType         Gender  \\\n",
       "count  514397.000000  514397.000000   514397.000000  514397.000000   \n",
       "mean    44459.209511       0.609024        1.862876       1.498871   \n",
       "std     27161.422680       0.603171        0.343978       0.499999   \n",
       "min       800.000000       0.000000        1.000000       1.000000   \n",
       "25%     19100.000000       0.000000        2.000000       1.000000   \n",
       "50%     42200.000000       1.000000        2.000000       1.000000   \n",
       "75%     72400.000000       1.000000        2.000000       2.000000   \n",
       "max     97000.000000       2.000000        2.000000       2.000000   \n",
       "\n",
       "       FathersHighestEducation  MothersHighestEducation  \\\n",
       "count            482196.000000            490794.000000   \n",
       "mean                  4.014326                 4.043146   \n",
       "std                   1.733726                 1.730985   \n",
       "min                   0.000000                 0.000000   \n",
       "25%                   3.000000                 3.000000   \n",
       "50%                   4.000000                 4.000000   \n",
       "75%                   6.000000                 6.000000   \n",
       "max                   6.000000                 6.000000   \n",
       "\n",
       "       MothersOccupationalStatus  FathersOccupationalStatus   HaveComputer  \\\n",
       "count              361280.000000              411084.000000  493811.000000   \n",
       "mean                   45.975684                  43.973113       1.144513   \n",
       "std                    22.498292                  22.017307       0.351609   \n",
       "min                    11.000000                  11.000000       1.000000   \n",
       "25%                    25.000000                  26.000000       1.000000   \n",
       "50%                    44.000000                  36.000000       1.000000   \n",
       "75%                    69.000000                  65.000000       1.000000   \n",
       "max                    89.000000                  89.000000       2.000000   \n",
       "\n",
       "        HaveInternet  HaveTelevision  HaveMusicalInstrument    BooksAtHome  \\\n",
       "count  493685.000000   495741.000000          493498.000000  496440.000000   \n",
       "mean        1.105547        3.152731               2.064290       2.965970   \n",
       "std         0.307257        0.830894               1.109965       1.462916   \n",
       "min         1.000000        1.000000               1.000000       1.000000   \n",
       "25%         1.000000        3.000000               1.000000       2.000000   \n",
       "50%         1.000000        3.000000               2.000000       3.000000   \n",
       "75%         1.000000        4.000000               3.000000       4.000000   \n",
       "max         2.000000        4.000000               4.000000       6.000000   \n",
       "\n",
       "       EthnicGroupCategory  LanguageAtHome  AttendKindergarten        MOTIVAT  \\\n",
       "count        489742.000000   498267.000000        63934.000000  427550.000000   \n",
       "mean              1.179544      359.464512            2.248334       0.089388   \n",
       "std               0.517593      189.577346            0.832303       0.986091   \n",
       "min               1.000000      105.000000            1.000000      -3.087700   \n",
       "25%               1.000000      160.000000            1.000000      -0.564300   \n",
       "50%               1.000000      313.000000            3.000000      -0.041300   \n",
       "75%               1.000000      496.000000            3.000000       0.810100   \n",
       "max               3.000000      886.000000            3.000000       1.854300   \n",
       "\n",
       "            IsLonely  CommunitySize   BoysInSchool  GirlsInSchool  \\\n",
       "count  479905.000000  475563.000000  445493.000000  446705.000000   \n",
       "mean        3.237093       3.140951     456.682363     452.576045   \n",
       "std         0.869480       1.188405     474.755386     468.520004   \n",
       "min         1.000000       1.000000       0.000000       0.000000   \n",
       "25%         3.000000       2.000000     189.000000     183.000000   \n",
       "50%         3.000000       3.000000     347.000000     346.000000   \n",
       "75%         4.000000       4.000000     579.000000     576.000000   \n",
       "max         4.000000       5.000000    8500.000000    9305.000000   \n",
       "\n",
       "       AverageClassSize  MusicActvityAtSchool  SportsAtSchool  \\\n",
       "count     470080.000000         463359.000000   470580.000000   \n",
       "mean           4.126887              1.429779        1.077808   \n",
       "std            1.865882              0.495045        0.267870   \n",
       "min            1.000000              1.000000        1.000000   \n",
       "25%            3.000000              1.000000        1.000000   \n",
       "50%            4.000000              1.000000        1.000000   \n",
       "75%            5.000000              2.000000        1.000000   \n",
       "max            9.000000              2.000000        2.000000   \n",
       "\n",
       "       AvailableRoomForHomework  StaffHelpForHomework  PrincipalCourseContent  \\\n",
       "count             476477.000000         475772.000000           483050.000000   \n",
       "mean                   1.355478              1.456172                0.227455   \n",
       "std                    0.478658              0.498076                0.419189   \n",
       "min                    1.000000              1.000000                0.000000   \n",
       "25%                    1.000000              1.000000                0.000000   \n",
       "50%                    1.000000              1.000000                0.000000   \n",
       "75%                    2.000000              2.000000                0.000000   \n",
       "max                    2.000000              2.000000                1.000000   \n",
       "\n",
       "       TeacherCourseContent  SchoolGovernningBoardCourseContent  \\\n",
       "count         483050.000000                       483050.000000   \n",
       "mean               0.565310                            0.118437   \n",
       "std                0.495717                            0.323125   \n",
       "min                0.000000                            0.000000   \n",
       "25%                0.000000                            0.000000   \n",
       "50%                1.000000                            0.000000   \n",
       "75%                1.000000                            0.000000   \n",
       "max                1.000000                            1.000000   \n",
       "\n",
       "       RegionalAuthorityCourseContent  NationalAuthorityCourseContent  \\\n",
       "count                   468013.000000                   478040.000000   \n",
       "mean                         0.211520                        0.446787   \n",
       "std                          0.408386                        0.497161   \n",
       "min                          0.000000                        0.000000   \n",
       "25%                          0.000000                        0.000000   \n",
       "50%                          0.000000                        0.000000   \n",
       "75%                          0.000000                        1.000000   \n",
       "max                          1.000000                        1.000000   \n",
       "\n",
       "       AcademicPerformanceAdmission     SchoolType  PrivateSchoolType  \\\n",
       "count                 474823.000000  460819.000000        121362.0000   \n",
       "mean                       2.086961       1.206643             1.8774   \n",
       "std                        0.879588       0.404898             0.6803   \n",
       "min                        1.000000       1.000000             1.0000   \n",
       "25%                        1.000000       1.000000             1.0000   \n",
       "50%                        2.000000       1.000000             2.0000   \n",
       "75%                        3.000000       1.000000             2.0000   \n",
       "max                        3.000000       2.000000             3.0000   \n",
       "\n",
       "       ProportionCertifiedTeacher  StudentResultsTrackedCentrally  \\\n",
       "count               429510.000000                   473032.000000   \n",
       "mean                     0.815826                        1.230335   \n",
       "std                      0.317326                        0.421048   \n",
       "min                      0.000000                        1.000000   \n",
       "25%                      0.809800                        1.000000   \n",
       "50%                      0.989900                        1.000000   \n",
       "75%                      1.000000                        1.000000   \n",
       "max                      1.000000                        2.000000   \n",
       "\n",
       "       GroupClassesByAbility  EconomicalSocialStatus  MinutesAtSchoolPerWeek  \\\n",
       "count          466172.000000           498493.000000           372082.000000   \n",
       "mean                2.436521               -0.258934             1640.851162   \n",
       "std                 0.679560                1.109030              417.520650   \n",
       "min                 1.000000               -7.260200                0.000000   \n",
       "25%                 2.000000               -1.002500             1440.000000   \n",
       "50%                 3.000000               -0.184300             1600.000000   \n",
       "75%                 3.000000                0.623100             1800.000000   \n",
       "max                 3.000000                4.182800             3000.000000   \n",
       "\n",
       "       MinutesStudyingOutsideOfCLass  StudentsExpectedOccupationalStatus  \\\n",
       "count                  367938.000000                       412259.000000   \n",
       "mean                       18.957246                           61.020155   \n",
       "std                        14.328448                           17.432371   \n",
       "min                         0.000000                           10.000000   \n",
       "25%                         8.000000                           47.000000   \n",
       "50%                        15.000000                           64.000000   \n",
       "75%                        26.000000                           71.000000   \n",
       "max                        70.000000                           89.000000   \n",
       "\n",
       "        ScoreScience   ScoreReading  ScoreMathematics  \n",
       "count  514397.000000  514397.000000     514397.000000  \n",
       "mean      469.343664     465.468811        463.162704  \n",
       "std       102.327958     106.065858        103.309749  \n",
       "min        25.103000       0.000000          0.000000  \n",
       "25%       394.085000     392.421000        389.539000  \n",
       "50%       467.900000     470.023000        463.796000  \n",
       "75%       543.098000     542.272000        536.897000  \n",
       "max       888.359000     882.120000        870.509000  "
      ]
     },
     "execution_count": 12,
     "metadata": {},
     "output_type": "execute_result"
    }
   ],
   "source": [
    "# basic descriptive statistics of the data\n",
    "dataset.describe()"
   ]
  },
  {
   "cell_type": "markdown",
   "metadata": {},
   "source": [
    "Looking at the data, I see that \"Country\" has some extra characters. I just want to keep the country code."
   ]
  },
  {
   "cell_type": "code",
   "execution_count": 13,
   "metadata": {},
   "outputs": [],
   "source": [
    "# assigning substring to variable\n",
    "dataset['Country'] = dataset['Country'].str.slice(2,5)"
   ]
  },
  {
   "cell_type": "markdown",
   "metadata": {},
   "source": [
    "I drop some already irrelevant variables. The \"AttendKindergarten\" was found to have opposite response patterns to other variables and had a lot of missing values, so I dropped it already here.\n",
    "\n",
    "As StudentsExpectedOccupationalStatus is part of MOTIVAT, we decide to not drop this one as it is seemingly more tangible than the index itself."
   ]
  },
  {
   "cell_type": "code",
   "execution_count": 14,
   "metadata": {},
   "outputs": [],
   "source": [
    "dataset.drop(columns=['OECDMember', 'Unnamed: 0', 'AssessmentType', 'HaveTelevision', 'AttendKindergarten', 'PrivateSchoolType', 'MinutesAtSchoolPerWeek', 'MinutesStudyingOutsideOfCLass', 'MOTIVAT', 'SportsAtSchool', 'LanguageAtHome', 'AverageClassSize', 'AcademicPerformanceAdmission'], inplace=True)"
   ]
  },
  {
   "cell_type": "markdown",
   "metadata": {},
   "source": [
    "### 2.3.1 Missing values"
   ]
  },
  {
   "cell_type": "markdown",
   "metadata": {},
   "source": [
    "The following sub-chapter shows which processes were applied to mitigate the problem of missing values."
   ]
  },
  {
   "cell_type": "code",
   "execution_count": 15,
   "metadata": {},
   "outputs": [
    {
     "data": {
      "text/plain": [
       "CountryID                                  0\n",
       "Country                                    0\n",
       "SchoolID                                   0\n",
       "StudentID                                  0\n",
       "Region                                     0\n",
       "Gender                                     0\n",
       "FathersHighestEducation                32201\n",
       "MothersHighestEducation                23603\n",
       "MothersOccupationalStatus             153117\n",
       "FathersOccupationalStatus             103313\n",
       "HaveComputer                           20586\n",
       "HaveInternet                           20712\n",
       "HaveMusicalInstrument                  20899\n",
       "BooksAtHome                            17957\n",
       "EthnicGroupCategory                    24655\n",
       "IsLonely                               34492\n",
       "CommunitySize                          38834\n",
       "BoysInSchool                           68904\n",
       "GirlsInSchool                          67692\n",
       "MusicActvityAtSchool                   51038\n",
       "AvailableRoomForHomework               37920\n",
       "StaffHelpForHomework                   38625\n",
       "PrincipalCourseContent                 31347\n",
       "TeacherCourseContent                   31347\n",
       "SchoolGovernningBoardCourseContent     31347\n",
       "RegionalAuthorityCourseContent         46384\n",
       "NationalAuthorityCourseContent         36357\n",
       "SchoolType                             53578\n",
       "ProportionCertifiedTeacher             84887\n",
       "StudentResultsTrackedCentrally         41365\n",
       "GroupClassesByAbility                  48225\n",
       "EconomicalSocialStatus                 15904\n",
       "StudentsExpectedOccupationalStatus    102138\n",
       "ScoreScience                               0\n",
       "ScoreReading                               0\n",
       "ScoreMathematics                           0\n",
       "dtype: int64"
      ]
     },
     "execution_count": 15,
     "metadata": {},
     "output_type": "execute_result"
    }
   ],
   "source": [
    "# overview of variables and count of missing data\n",
    "dataset.isnull().sum()"
   ]
  },
  {
   "cell_type": "markdown",
   "metadata": {},
   "source": [
    "I create another dataframe to work with whilst cleaning the dataset."
   ]
  },
  {
   "cell_type": "code",
   "execution_count": 16,
   "metadata": {},
   "outputs": [],
   "source": [
    "dataset_exl_missingvalues = dataset"
   ]
  },
  {
   "cell_type": "markdown",
   "metadata": {},
   "source": [
    "The following sub-chapters are divided into variables and the treatment of missing values."
   ]
  },
  {
   "cell_type": "markdown",
   "metadata": {},
   "source": [
    "#### 2.3.1.1 Parental education"
   ]
  },
  {
   "cell_type": "markdown",
   "metadata": {},
   "source": [
    "It is difficult to anticipate or predict which values to impute into parents' education, so we decide to drop the variables."
   ]
  },
  {
   "cell_type": "code",
   "execution_count": 17,
   "metadata": {},
   "outputs": [],
   "source": [
    "# dropping all observation with missing values\n",
    "dataset_exl_missingvalues = dataset_exl_missingvalues.dropna(subset=['FathersHighestEducation', 'MothersHighestEducation']) "
   ]
  },
  {
   "cell_type": "markdown",
   "metadata": {},
   "source": [
    "#### 2.3.1.2 Parental occupational status"
   ]
  },
  {
   "cell_type": "markdown",
   "metadata": {},
   "source": [
    "Occupational status in the PISA data was coded to four-digit ISCO codes and then mapped to the International Socio-Economic Index of occupational status (ISEI) (Ganzeboom et al., 1992).\n",
    "\n",
    "Higher implies better job."
   ]
  },
  {
   "cell_type": "markdown",
   "metadata": {},
   "source": [
    "Assuming that cases where both parents' are lacking response, that it is an error and should be removed. The ones with one missing will be treated later."
   ]
  },
  {
   "cell_type": "code",
   "execution_count": 18,
   "metadata": {},
   "outputs": [],
   "source": [
    "# dropping missing values in parents' occupational status where both variables are missing for the observation\n",
    "dataset_exl_missingvalues = dataset_exl_missingvalues.dropna(subset=['FathersOccupationalStatus', 'MothersOccupationalStatus'], thresh=1) "
   ]
  },
  {
   "cell_type": "markdown",
   "metadata": {},
   "source": [
    "#### 2.3.1.3 HomePossesions (Computer, internet, television, musical instrument, books at home)"
   ]
  },
  {
   "cell_type": "code",
   "execution_count": 19,
   "metadata": {},
   "outputs": [],
   "source": [
    "# dropping all observation with missing values\n",
    "dataset_exl_missingvalues = dataset_exl_missingvalues.dropna(subset=['HaveComputer', 'HaveInternet', 'HaveMusicalInstrument', 'BooksAtHome']) "
   ]
  },
  {
   "cell_type": "markdown",
   "metadata": {},
   "source": [
    "#### 2.3.1.4 Ethnic group category"
   ]
  },
  {
   "cell_type": "markdown",
   "metadata": {},
   "source": [
    "We have no reliable information that can help us predict what the ethnic group category for the missing values. They are dropped from the dataset."
   ]
  },
  {
   "cell_type": "code",
   "execution_count": 20,
   "metadata": {},
   "outputs": [],
   "source": [
    "dataset_exl_missingvalues = dataset_exl_missingvalues.dropna(subset=['EthnicGroupCategory']) "
   ]
  },
  {
   "cell_type": "markdown",
   "metadata": {},
   "source": [
    "#### 2.3.1.5 School variables"
   ]
  },
  {
   "cell_type": "markdown",
   "metadata": {},
   "source": [
    "As it is very difficult to compute or do any particular reasong on what to impute to the missing school variables, we decide to drop this in our initial analysis."
   ]
  },
  {
   "cell_type": "code",
   "execution_count": 21,
   "metadata": {},
   "outputs": [],
   "source": [
    "dataset_exl_missingvalues = dataset_exl_missingvalues.dropna(subset=['CommunitySize', 'MusicActvityAtSchool', 'StaffHelpForHomework', 'AvailableRoomForHomework', 'PrincipalCourseContent', 'TeacherCourseContent', 'SchoolGovernningBoardCourseContent', 'RegionalAuthorityCourseContent', 'NationalAuthorityCourseContent', 'SchoolType', 'ProportionCertifiedTeacher', 'StudentResultsTrackedCentrally', 'GroupClassesByAbility', 'StudentsExpectedOccupationalStatus', 'BoysInSchool', 'GirlsInSchool']) "
   ]
  },
  {
   "cell_type": "markdown",
   "metadata": {},
   "source": [
    "Given this, the dataset is currently cleaned for missing values and the further process is to finalise the variables that are going to be used in the final analysis."
   ]
  },
  {
   "cell_type": "code",
   "execution_count": 22,
   "metadata": {},
   "outputs": [],
   "source": [
    "# assigning the cleaned dataset to \"dataset\"\n",
    "dataset = dataset_exl_missingvalues"
   ]
  },
  {
   "cell_type": "markdown",
   "metadata": {},
   "source": [
    "## 2.4 Data wrangling"
   ]
  },
  {
   "cell_type": "markdown",
   "metadata": {},
   "source": [
    "The following chapter shows the tranformation of the variables. One-hot-encoding is frequently used as educational and personal data is complex and that binary information is more interpretable.\n",
    "\n",
    "There are certain ID columns that identify the unit of analysis. These are:\n",
    "\n",
    "* CountryID - numerical value for country\n",
    "* Country - string value for country\n",
    "* School ID - numerical value for school\n",
    "* Student ID - numerical value for student\n",
    "* Region - numerical value for region\n",
    "\n",
    "I'm using student ID as unit of analysis in this project."
   ]
  },
  {
   "cell_type": "markdown",
   "metadata": {},
   "source": [
    "### 2.4.1 Wrangling variables with missing values"
   ]
  },
  {
   "cell_type": "markdown",
   "metadata": {},
   "source": [
    "#### 2.4.1.1 Parental occupational status"
   ]
  },
  {
   "cell_type": "markdown",
   "metadata": {},
   "source": [
    "We still have some observation with missing values. However, these are cases where occupational status is given for either of the parents. We assume that responses are intentionally left blank for unemployed parents and that these cases are represented by these blank observations.\n",
    "\n",
    "We then create binary variable for this cases."
   ]
  },
  {
   "cell_type": "code",
   "execution_count": 23,
   "metadata": {},
   "outputs": [],
   "source": [
    "#FatherIsUnemployed\n",
    "dataset['FatherIsUnemployed'] = 0\n",
    "dataset.loc[(dataset.FathersOccupationalStatus.isnull()), 'FatherIsUnemployed'] = 1"
   ]
  },
  {
   "cell_type": "code",
   "execution_count": 24,
   "metadata": {},
   "outputs": [],
   "source": [
    "#MotherIsUnemployed\n",
    "dataset['MotherIsUnemployed'] = 0\n",
    "dataset.loc[(dataset.MothersOccupationalStatus.isnull()), 'MotherIsUnemployed'] = 1"
   ]
  },
  {
   "cell_type": "markdown",
   "metadata": {},
   "source": [
    "Fathers' occupation:\n",
    "\n",
    "First, splitting the index for occupational status into three categories."
   ]
  },
  {
   "cell_type": "code",
   "execution_count": 25,
   "metadata": {},
   "outputs": [
    {
     "data": {
      "text/html": [
       "<div>\n",
       "<style scoped>\n",
       "    .dataframe tbody tr th:only-of-type {\n",
       "        vertical-align: middle;\n",
       "    }\n",
       "\n",
       "    .dataframe tbody tr th {\n",
       "        vertical-align: top;\n",
       "    }\n",
       "\n",
       "    .dataframe thead th {\n",
       "        text-align: right;\n",
       "    }\n",
       "</style>\n",
       "<table border=\"1\" class=\"dataframe\">\n",
       "  <thead>\n",
       "    <tr style=\"text-align: right;\">\n",
       "      <th></th>\n",
       "      <th>FatherOccupation</th>\n",
       "      <th>ScoreReading</th>\n",
       "      <th>ScoreMathematics</th>\n",
       "      <th>ScoreScience</th>\n",
       "    </tr>\n",
       "  </thead>\n",
       "  <tbody>\n",
       "    <tr>\n",
       "      <th>0</th>\n",
       "      <td>(10.999, 28.0]</td>\n",
       "      <td>455.748947</td>\n",
       "      <td>451.190674</td>\n",
       "      <td>458.673240</td>\n",
       "    </tr>\n",
       "    <tr>\n",
       "      <th>1</th>\n",
       "      <td>(28.0, 52.0]</td>\n",
       "      <td>473.770975</td>\n",
       "      <td>469.289113</td>\n",
       "      <td>475.991287</td>\n",
       "    </tr>\n",
       "    <tr>\n",
       "      <th>2</th>\n",
       "      <td>(52.0, 89.0]</td>\n",
       "      <td>509.081252</td>\n",
       "      <td>504.638362</td>\n",
       "      <td>512.822534</td>\n",
       "    </tr>\n",
       "  </tbody>\n",
       "</table>\n",
       "</div>"
      ],
      "text/plain": [
       "  FatherOccupation  ScoreReading  ScoreMathematics  ScoreScience\n",
       "0   (10.999, 28.0]    455.748947        451.190674    458.673240\n",
       "1     (28.0, 52.0]    473.770975        469.289113    475.991287\n",
       "2     (52.0, 89.0]    509.081252        504.638362    512.822534"
      ]
     },
     "execution_count": 25,
     "metadata": {},
     "output_type": "execute_result"
    }
   ],
   "source": [
    "#Splitting fathers occupational status into three categories (low, middle and high)\n",
    "dataset['FatherOccupation'] = pd.qcut(dataset['FathersOccupationalStatus'], 3)\n",
    "dataset[['FatherOccupation', 'ScoreReading', 'ScoreMathematics', 'ScoreScience']].groupby(['FatherOccupation'], as_index=False).mean().sort_values(by='FatherOccupation', ascending=True)"
   ]
  },
  {
   "cell_type": "markdown",
   "metadata": {},
   "source": [
    "Based on these ranges, we create three categories:"
   ]
  },
  {
   "cell_type": "code",
   "execution_count": 26,
   "metadata": {},
   "outputs": [],
   "source": [
    "#FatherLowOccoupationalStatus\n",
    "dataset['FatherLowOccupationalStatus'] = 0\n",
    "dataset.loc[(dataset.FathersOccupationalStatus <= 28), 'FatherLowOccupationalStatus'] = 1\n",
    "\n",
    "#FatherMiddleOccoupationalStatus\n",
    "dataset['FatherMiddleOccupationalStatus'] = 0\n",
    "dataset.loc[(dataset.FathersOccupationalStatus > 28) & (dataset.FathersOccupationalStatus <= 52), 'FatherMiddleOccupationalStatus'] = 1\n",
    "\n",
    "#FatherHighOccoupationalStatus\n",
    "dataset['FatherHighOccupationalStatus'] = 0\n",
    "dataset.loc[(dataset.FathersOccupationalStatus > 52), 'FatherHighOccupationalStatus'] = 1"
   ]
  },
  {
   "cell_type": "markdown",
   "metadata": {},
   "source": [
    "Mothers' occupation:\n",
    "\n",
    "First, splitting the index for occupational status into three categories."
   ]
  },
  {
   "cell_type": "code",
   "execution_count": 27,
   "metadata": {},
   "outputs": [
    {
     "data": {
      "text/html": [
       "<div>\n",
       "<style scoped>\n",
       "    .dataframe tbody tr th:only-of-type {\n",
       "        vertical-align: middle;\n",
       "    }\n",
       "\n",
       "    .dataframe tbody tr th {\n",
       "        vertical-align: top;\n",
       "    }\n",
       "\n",
       "    .dataframe thead th {\n",
       "        text-align: right;\n",
       "    }\n",
       "</style>\n",
       "<table border=\"1\" class=\"dataframe\">\n",
       "  <thead>\n",
       "    <tr style=\"text-align: right;\">\n",
       "      <th></th>\n",
       "      <th>MotherOccupation</th>\n",
       "      <th>ScoreReading</th>\n",
       "      <th>ScoreMathematics</th>\n",
       "      <th>ScoreScience</th>\n",
       "    </tr>\n",
       "  </thead>\n",
       "  <tbody>\n",
       "    <tr>\n",
       "      <th>0</th>\n",
       "      <td>(10.999, 29.0]</td>\n",
       "      <td>459.449195</td>\n",
       "      <td>455.707222</td>\n",
       "      <td>462.713576</td>\n",
       "    </tr>\n",
       "    <tr>\n",
       "      <th>1</th>\n",
       "      <td>(29.0, 58.0]</td>\n",
       "      <td>491.393212</td>\n",
       "      <td>486.165527</td>\n",
       "      <td>493.191693</td>\n",
       "    </tr>\n",
       "    <tr>\n",
       "      <th>2</th>\n",
       "      <td>(58.0, 89.0]</td>\n",
       "      <td>512.588647</td>\n",
       "      <td>507.134073</td>\n",
       "      <td>515.406676</td>\n",
       "    </tr>\n",
       "  </tbody>\n",
       "</table>\n",
       "</div>"
      ],
      "text/plain": [
       "  MotherOccupation  ScoreReading  ScoreMathematics  ScoreScience\n",
       "0   (10.999, 29.0]    459.449195        455.707222    462.713576\n",
       "1     (29.0, 58.0]    491.393212        486.165527    493.191693\n",
       "2     (58.0, 89.0]    512.588647        507.134073    515.406676"
      ]
     },
     "execution_count": 27,
     "metadata": {},
     "output_type": "execute_result"
    }
   ],
   "source": [
    "#Splitting mothers occupational status into three categories (low, middle and high)\n",
    "dataset['MotherOccupation'] = pd.qcut(dataset['MothersOccupationalStatus'], 3)\n",
    "dataset[['MotherOccupation', 'ScoreReading', 'ScoreMathematics', 'ScoreScience']].groupby(['MotherOccupation'], as_index=False).mean().sort_values(by='MotherOccupation', ascending=True)"
   ]
  },
  {
   "cell_type": "markdown",
   "metadata": {},
   "source": [
    "Based on these ranges, we create three categories:"
   ]
  },
  {
   "cell_type": "code",
   "execution_count": 28,
   "metadata": {},
   "outputs": [],
   "source": [
    "#MotherLowOccoupationalStatus\n",
    "dataset['MotherLowOccupationalStatus'] = 0\n",
    "dataset.loc[(dataset.MothersOccupationalStatus <= 29), 'MotherLowOccupationalStatus'] = 1\n",
    "\n",
    "#MotherMiddleOccoupationalStatus\n",
    "dataset['MotherMiddleOccupationalStatus'] = 0\n",
    "dataset.loc[(dataset.MothersOccupationalStatus > 29) & (dataset.MothersOccupationalStatus <= 58), 'MotherMiddleOccupationalStatus'] = 1\n",
    "#MotherHighOccoupationalStatus\n",
    "dataset['MotherHighOccupationalStatus'] = 0\n",
    "dataset.loc[(dataset.MothersOccupationalStatus > 58), 'MotherHighOccupationalStatus'] = 1"
   ]
  },
  {
   "cell_type": "markdown",
   "metadata": {},
   "source": [
    "Dropping the base variables"
   ]
  },
  {
   "cell_type": "code",
   "execution_count": 29,
   "metadata": {},
   "outputs": [],
   "source": [
    "dataset.drop(columns=['MothersOccupationalStatus', 'FathersOccupationalStatus', 'FatherOccupation', 'MotherOccupation'], inplace=True)"
   ]
  },
  {
   "cell_type": "markdown",
   "metadata": {},
   "source": [
    "#### 2.4.1.2 IsLonely"
   ]
  },
  {
   "cell_type": "markdown",
   "metadata": {},
   "source": [
    "Describing the categorical variable."
   ]
  },
  {
   "cell_type": "code",
   "execution_count": 30,
   "metadata": {},
   "outputs": [
    {
     "data": {
      "text/plain": [
       "count    244413.000000\n",
       "mean          3.263186\n",
       "std           0.855002\n",
       "min           1.000000\n",
       "25%           3.000000\n",
       "50%           3.000000\n",
       "75%           4.000000\n",
       "max           4.000000\n",
       "Name: IsLonely, dtype: float64"
      ]
     },
     "execution_count": 30,
     "metadata": {},
     "output_type": "execute_result"
    }
   ],
   "source": [
    "dataset['IsLonely'].describe()"
   ]
  },
  {
   "cell_type": "markdown",
   "metadata": {},
   "source": [
    "Creating a new dataset to explore missing values for this variable and compare it with students that actually feel lonely."
   ]
  },
  {
   "cell_type": "code",
   "execution_count": 31,
   "metadata": {},
   "outputs": [
    {
     "data": {
      "text/plain": [
       "count    2824.000000\n",
       "mean      397.360093\n",
       "std        94.084644\n",
       "min       163.688000\n",
       "25%       330.786750\n",
       "50%       385.324500\n",
       "75%       454.423000\n",
       "max       743.621000\n",
       "Name: ScoreScience, dtype: float64"
      ]
     },
     "execution_count": 31,
     "metadata": {},
     "output_type": "execute_result"
    }
   ],
   "source": [
    "# dataset IsLonely where missing\n",
    "IsLonely = dataset[dataset.IsLonely.isnull()]\n",
    "IsLonely['ScoreScience'].describe()"
   ]
  },
  {
   "cell_type": "code",
   "execution_count": 32,
   "metadata": {},
   "outputs": [
    {
     "data": {
      "image/png": "[encoded data removed]",
      "text/plain": [
       "<Figure size 432x288 with 1 Axes>"
      ]
     },
     "metadata": {
      "needs_background": "light"
     },
     "output_type": "display_data"
    }
   ],
   "source": [
    "# the histogram of the data\n",
    "plt.hist(IsLonely['ScoreScience'], bins=50, density=True, alpha=0.75)\n",
    "plt.show()"
   ]
  },
  {
   "cell_type": "code",
   "execution_count": 33,
   "metadata": {},
   "outputs": [
    {
     "data": {
      "text/plain": [
       "count    15013.000000\n",
       "mean       453.845998\n",
       "std         94.355477\n",
       "min        158.129000\n",
       "25%        383.902000\n",
       "50%        449.921000\n",
       "75%        519.311000\n",
       "max        800.526000\n",
       "Name: ScoreScience, dtype: float64"
      ]
     },
     "execution_count": 33,
     "metadata": {},
     "output_type": "execute_result"
    }
   ],
   "source": [
    "# dataset IsLonely where strongly agree that student feels lonely\n",
    "IsLonely = dataset.loc[dataset['IsLonely'] <= 1]\n",
    "IsLonely['ScoreScience'].describe()"
   ]
  },
  {
   "cell_type": "code",
   "execution_count": 34,
   "metadata": {},
   "outputs": [
    {
     "data": {
      "image/png": "[encoded data removed]",
      "text/plain": [
       "<Figure size 432x288 with 1 Axes>"
      ]
     },
     "metadata": {
      "needs_background": "light"
     },
     "output_type": "display_data"
    }
   ],
   "source": [
    "# the histogram of the data\n",
    "plt.hist(IsLonely['ScoreScience'], bins=50, density=True, alpha=0.75)\n",
    "plt.show()"
   ]
  },
  {
   "cell_type": "markdown",
   "metadata": {},
   "source": [
    "I decide to include the observations with missing values to the group that feels lonely as it seems to be more similar behaviour on this variable."
   ]
  },
  {
   "cell_type": "code",
   "execution_count": 35,
   "metadata": {},
   "outputs": [],
   "source": [
    "values = {'IsLonely': 1}\n",
    "dataset.fillna(inplace=True, value=values)"
   ]
  },
  {
   "cell_type": "markdown",
   "metadata": {},
   "source": [
    "### 2.4.2 Wrangling normal variables"
   ]
  },
  {
   "cell_type": "markdown",
   "metadata": {},
   "source": [
    "#### 2.4.2.1 Gender"
   ]
  },
  {
   "cell_type": "markdown",
   "metadata": {},
   "source": [
    "Originally value takes female = 1 and male = 2. We convert this by the variable by one."
   ]
  },
  {
   "cell_type": "code",
   "execution_count": 36,
   "metadata": {},
   "outputs": [],
   "source": [
    "# subtracting 'Gender' by one\n",
    "dataset['Gender'] = dataset['Gender']-1"
   ]
  },
  {
   "cell_type": "code",
   "execution_count": 37,
   "metadata": {},
   "outputs": [],
   "source": [
    "# renaming the column to IsMale\n",
    "dataset = dataset.rename(columns={'Gender': 'IsMale'})"
   ]
  },
  {
   "cell_type": "markdown",
   "metadata": {},
   "source": [
    "#### 2.4.2.2 FatherHighestEducation and MothersHighestEducation"
   ]
  },
  {
   "cell_type": "markdown",
   "metadata": {},
   "source": [
    "ISCED varies from 0-6. The ISCED levels were classified through the following enumeration:\n",
    " * ISCED 0: None / Pre-primary education\n",
    " * ISCED 1: Primary education\n",
    " * ISCED 2: Lower secondary education\n",
    " * ISCED 3B or 3C: Vocational or pre-vocational upper secondary schooling\n",
    " * ISCED 3A and/or 4: General upper secondary and/or non-tertiary post-secondary schooling\n",
    " * ISCED 5B: Vocational tertiary education\n",
    " * ISCED 5A and/or 6: Theoretically oriented tertiary and/or post-graduate education\n",
    " \n",
    "We divide this into three dichotomous variables where:\n",
    " * ISCED 0 = 0\n",
    " * CumpolsorySchool = ISCED 1 and 2\n",
    " * HighSchool = ISCED 3 and 4\n",
    " * HigherEducation = ISCED 5 and 6"
   ]
  },
  {
   "cell_type": "code",
   "execution_count": 38,
   "metadata": {},
   "outputs": [
    {
     "data": {
      "text/html": [
       "<div>\n",
       "<style scoped>\n",
       "    .dataframe tbody tr th:only-of-type {\n",
       "        vertical-align: middle;\n",
       "    }\n",
       "\n",
       "    .dataframe tbody tr th {\n",
       "        vertical-align: top;\n",
       "    }\n",
       "\n",
       "    .dataframe thead th {\n",
       "        text-align: right;\n",
       "    }\n",
       "</style>\n",
       "<table border=\"1\" class=\"dataframe\">\n",
       "  <thead>\n",
       "    <tr style=\"text-align: right;\">\n",
       "      <th></th>\n",
       "      <th>FathersHighestEducation</th>\n",
       "      <th>MothersHighestEducation</th>\n",
       "    </tr>\n",
       "  </thead>\n",
       "  <tbody>\n",
       "    <tr>\n",
       "      <th>count</th>\n",
       "      <td>247237.000000</td>\n",
       "      <td>247237.000000</td>\n",
       "    </tr>\n",
       "    <tr>\n",
       "      <th>mean</th>\n",
       "      <td>4.045297</td>\n",
       "      <td>4.072752</td>\n",
       "    </tr>\n",
       "    <tr>\n",
       "      <th>std</th>\n",
       "      <td>1.717780</td>\n",
       "      <td>1.723997</td>\n",
       "    </tr>\n",
       "    <tr>\n",
       "      <th>min</th>\n",
       "      <td>0.000000</td>\n",
       "      <td>0.000000</td>\n",
       "    </tr>\n",
       "    <tr>\n",
       "      <th>25%</th>\n",
       "      <td>3.000000</td>\n",
       "      <td>3.000000</td>\n",
       "    </tr>\n",
       "    <tr>\n",
       "      <th>50%</th>\n",
       "      <td>4.000000</td>\n",
       "      <td>4.000000</td>\n",
       "    </tr>\n",
       "    <tr>\n",
       "      <th>75%</th>\n",
       "      <td>6.000000</td>\n",
       "      <td>6.000000</td>\n",
       "    </tr>\n",
       "    <tr>\n",
       "      <th>max</th>\n",
       "      <td>6.000000</td>\n",
       "      <td>6.000000</td>\n",
       "    </tr>\n",
       "  </tbody>\n",
       "</table>\n",
       "</div>"
      ],
      "text/plain": [
       "       FathersHighestEducation  MothersHighestEducation\n",
       "count            247237.000000            247237.000000\n",
       "mean                  4.045297                 4.072752\n",
       "std                   1.717780                 1.723997\n",
       "min                   0.000000                 0.000000\n",
       "25%                   3.000000                 3.000000\n",
       "50%                   4.000000                 4.000000\n",
       "75%                   6.000000                 6.000000\n",
       "max                   6.000000                 6.000000"
      ]
     },
     "execution_count": 38,
     "metadata": {},
     "output_type": "execute_result"
    }
   ],
   "source": [
    "# describing the variables\n",
    "dataset[['FathersHighestEducation', 'MothersHighestEducation']].describe()"
   ]
  },
  {
   "cell_type": "markdown",
   "metadata": {},
   "source": [
    "Father:"
   ]
  },
  {
   "cell_type": "code",
   "execution_count": 39,
   "metadata": {
    "scrolled": true
   },
   "outputs": [
    {
     "data": {
      "text/plain": [
       "<seaborn.axisgrid.FacetGrid at 0x1f482bb7278>"
      ]
     },
     "execution_count": 39,
     "metadata": {},
     "output_type": "execute_result"
    },
    {
     "data": {
      "image/png": "[encoded data removed]",
      "text/plain": [
       "<Figure size 1512x216 with 7 Axes>"
      ]
     },
     "metadata": {
      "needs_background": "light"
     },
     "output_type": "display_data"
    }
   ],
   "source": [
    "g = sns.FacetGrid(dataset, col='FathersHighestEducation')\n",
    "g.map(plt.hist, 'ScoreScience', bins=20)"
   ]
  },
  {
   "cell_type": "markdown",
   "metadata": {},
   "source": [
    "Based on this, we create variables depending on educational levels."
   ]
  },
  {
   "cell_type": "code",
   "execution_count": 40,
   "metadata": {},
   "outputs": [],
   "source": [
    "#CompulsorySchool\n",
    "dataset['FatherCompulsorySchoolIsHighest'] = 0\n",
    "dataset.loc[(dataset.FathersHighestEducation == 1) | (dataset.FathersHighestEducation == 2), 'FatherCompulsorySchoolIsHighest'] = 1\n",
    "\n",
    "#HighSchool\n",
    "dataset['FatherHighSchoolIsHighest'] = 0\n",
    "dataset.loc[(dataset.FathersHighestEducation == 3) | (dataset.FathersHighestEducation == 4), 'FatherHighSchoolIsHighest'] = 1\n",
    "\n",
    "#HigherEducation\n",
    "dataset['FatherHigherEducationIsHighest'] = 0\n",
    "dataset.loc[(dataset.FathersHighestEducation == 5) | (dataset.FathersHighestEducation == 6), 'FatherHigherEducationIsHighest'] = 1"
   ]
  },
  {
   "cell_type": "markdown",
   "metadata": {},
   "source": [
    "Mother:"
   ]
  },
  {
   "cell_type": "code",
   "execution_count": 41,
   "metadata": {},
   "outputs": [
    {
     "data": {
      "text/plain": [
       "<seaborn.axisgrid.FacetGrid at 0x1f499f5b9e8>"
      ]
     },
     "execution_count": 41,
     "metadata": {},
     "output_type": "execute_result"
    },
    {
     "data": {
      "image/png": "[encoded data removed]",
      "text/plain": [
       "<Figure size 1512x216 with 7 Axes>"
      ]
     },
     "metadata": {
      "needs_background": "light"
     },
     "output_type": "display_data"
    }
   ],
   "source": [
    "# Score histograms with the different educational groups\n",
    "g = sns.FacetGrid(dataset, col='MothersHighestEducation')\n",
    "g.map(plt.hist, 'ScoreScience', bins=20)"
   ]
  },
  {
   "cell_type": "markdown",
   "metadata": {},
   "source": [
    "Based on this, we create variables depending on educational levels."
   ]
  },
  {
   "cell_type": "code",
   "execution_count": 42,
   "metadata": {},
   "outputs": [],
   "source": [
    "#CompulsorySchool\n",
    "dataset['MotherCompulsorySchoolIsHighest'] = 0\n",
    "dataset.loc[(dataset.MothersHighestEducation == 1) | (dataset.MothersHighestEducation == 2), 'MotherCompulsorySchoolIsHighest'] = 1\n",
    "\n",
    "#HighSchool\n",
    "dataset['MotherHighSchoolIsHighest'] = 0\n",
    "dataset.loc[(dataset.MothersHighestEducation == 3) | (dataset.MothersHighestEducation == 4), 'MotherHighSchoolIsHighest'] = 1\n",
    "\n",
    "#HigherEducation\n",
    "dataset['MotherHigherEducationIsHighest'] = 0\n",
    "dataset.loc[(dataset.MothersHighestEducation == 5) | (dataset.MothersHighestEducation == 6), 'MotherHigherEducationIsHighest'] = 1"
   ]
  },
  {
   "cell_type": "markdown",
   "metadata": {},
   "source": [
    "After we have finished the one-hot encoding of the educational variable we drop the original variables."
   ]
  },
  {
   "cell_type": "code",
   "execution_count": 43,
   "metadata": {},
   "outputs": [],
   "source": [
    "dataset = dataset.drop(columns=['MothersHighestEducation', 'FathersHighestEducation']) "
   ]
  },
  {
   "cell_type": "markdown",
   "metadata": {},
   "source": [
    "#### 2.4.2.3 Home possesions"
   ]
  },
  {
   "cell_type": "code",
   "execution_count": 44,
   "metadata": {},
   "outputs": [
    {
     "data": {
      "text/html": [
       "<div>\n",
       "<style scoped>\n",
       "    .dataframe tbody tr th:only-of-type {\n",
       "        vertical-align: middle;\n",
       "    }\n",
       "\n",
       "    .dataframe tbody tr th {\n",
       "        vertical-align: top;\n",
       "    }\n",
       "\n",
       "    .dataframe thead th {\n",
       "        text-align: right;\n",
       "    }\n",
       "</style>\n",
       "<table border=\"1\" class=\"dataframe\">\n",
       "  <thead>\n",
       "    <tr style=\"text-align: right;\">\n",
       "      <th></th>\n",
       "      <th>HaveComputer</th>\n",
       "      <th>HaveInternet</th>\n",
       "      <th>HaveMusicalInstrument</th>\n",
       "      <th>BooksAtHome</th>\n",
       "    </tr>\n",
       "  </thead>\n",
       "  <tbody>\n",
       "    <tr>\n",
       "      <th>count</th>\n",
       "      <td>247237.000000</td>\n",
       "      <td>247237.000000</td>\n",
       "      <td>247237.000000</td>\n",
       "      <td>247237.000000</td>\n",
       "    </tr>\n",
       "    <tr>\n",
       "      <th>mean</th>\n",
       "      <td>1.139000</td>\n",
       "      <td>1.105352</td>\n",
       "      <td>2.070855</td>\n",
       "      <td>3.012073</td>\n",
       "    </tr>\n",
       "    <tr>\n",
       "      <th>std</th>\n",
       "      <td>0.345947</td>\n",
       "      <td>0.307008</td>\n",
       "      <td>1.101340</td>\n",
       "      <td>1.436336</td>\n",
       "    </tr>\n",
       "    <tr>\n",
       "      <th>min</th>\n",
       "      <td>1.000000</td>\n",
       "      <td>1.000000</td>\n",
       "      <td>1.000000</td>\n",
       "      <td>1.000000</td>\n",
       "    </tr>\n",
       "    <tr>\n",
       "      <th>25%</th>\n",
       "      <td>1.000000</td>\n",
       "      <td>1.000000</td>\n",
       "      <td>1.000000</td>\n",
       "      <td>2.000000</td>\n",
       "    </tr>\n",
       "    <tr>\n",
       "      <th>50%</th>\n",
       "      <td>1.000000</td>\n",
       "      <td>1.000000</td>\n",
       "      <td>2.000000</td>\n",
       "      <td>3.000000</td>\n",
       "    </tr>\n",
       "    <tr>\n",
       "      <th>75%</th>\n",
       "      <td>1.000000</td>\n",
       "      <td>1.000000</td>\n",
       "      <td>3.000000</td>\n",
       "      <td>4.000000</td>\n",
       "    </tr>\n",
       "    <tr>\n",
       "      <th>max</th>\n",
       "      <td>2.000000</td>\n",
       "      <td>2.000000</td>\n",
       "      <td>4.000000</td>\n",
       "      <td>6.000000</td>\n",
       "    </tr>\n",
       "  </tbody>\n",
       "</table>\n",
       "</div>"
      ],
      "text/plain": [
       "        HaveComputer   HaveInternet  HaveMusicalInstrument    BooksAtHome\n",
       "count  247237.000000  247237.000000          247237.000000  247237.000000\n",
       "mean        1.139000       1.105352               2.070855       3.012073\n",
       "std         0.345947       0.307008               1.101340       1.436336\n",
       "min         1.000000       1.000000               1.000000       1.000000\n",
       "25%         1.000000       1.000000               1.000000       2.000000\n",
       "50%         1.000000       1.000000               2.000000       3.000000\n",
       "75%         1.000000       1.000000               3.000000       4.000000\n",
       "max         2.000000       2.000000               4.000000       6.000000"
      ]
     },
     "execution_count": 44,
     "metadata": {},
     "output_type": "execute_result"
    }
   ],
   "source": [
    "# descriptive statistics\n",
    "dataset[['HaveComputer', 'HaveInternet', 'HaveMusicalInstrument', 'BooksAtHome']].describe()"
   ]
  },
  {
   "cell_type": "code",
   "execution_count": 45,
   "metadata": {},
   "outputs": [],
   "source": [
    "#HaveComputer - original (1 = yes and 2 = no)\n",
    "dataset.loc[(dataset.HaveComputer == 2), 'HaveComputer'] = 0"
   ]
  },
  {
   "cell_type": "code",
   "execution_count": 46,
   "metadata": {},
   "outputs": [],
   "source": [
    "#HaveInternet - original (1 = yes and 2 = no)\n",
    "dataset.loc[(dataset.HaveInternet == 2), 'HaveInternet'] = 0"
   ]
  },
  {
   "cell_type": "code",
   "execution_count": 47,
   "metadata": {},
   "outputs": [],
   "source": [
    "#HaveMusicalInstrument - original (1 = none, 2 = one, 3 = two, 4 = three or more). We transform this into no = 0 and yes = 1.\n",
    "dataset.loc[(dataset.HaveMusicalInstrument == 1), 'HaveMusicalInstrument'] = 0\n",
    "dataset.loc[(dataset.HaveMusicalInstrument > 1), 'HaveMusicalInstrument'] = 1"
   ]
  },
  {
   "cell_type": "markdown",
   "metadata": {},
   "source": [
    "Grouping the mean score for each category within books at home."
   ]
  },
  {
   "cell_type": "code",
   "execution_count": 48,
   "metadata": {},
   "outputs": [
    {
     "data": {
      "text/html": [
       "<div>\n",
       "<style scoped>\n",
       "    .dataframe tbody tr th:only-of-type {\n",
       "        vertical-align: middle;\n",
       "    }\n",
       "\n",
       "    .dataframe tbody tr th {\n",
       "        vertical-align: top;\n",
       "    }\n",
       "\n",
       "    .dataframe thead th {\n",
       "        text-align: right;\n",
       "    }\n",
       "</style>\n",
       "<table border=\"1\" class=\"dataframe\">\n",
       "  <thead>\n",
       "    <tr style=\"text-align: right;\">\n",
       "      <th></th>\n",
       "      <th>BooksAtHome</th>\n",
       "      <th>ScoreMathematics</th>\n",
       "      <th>ScoreScience</th>\n",
       "      <th>ScoreReading</th>\n",
       "    </tr>\n",
       "  </thead>\n",
       "  <tbody>\n",
       "    <tr>\n",
       "      <th>0</th>\n",
       "      <td>1.0</td>\n",
       "      <td>413.907301</td>\n",
       "      <td>422.123149</td>\n",
       "      <td>418.142527</td>\n",
       "    </tr>\n",
       "    <tr>\n",
       "      <th>1</th>\n",
       "      <td>2.0</td>\n",
       "      <td>439.197963</td>\n",
       "      <td>447.777547</td>\n",
       "      <td>445.734608</td>\n",
       "    </tr>\n",
       "    <tr>\n",
       "      <th>2</th>\n",
       "      <td>3.0</td>\n",
       "      <td>481.688318</td>\n",
       "      <td>488.013532</td>\n",
       "      <td>485.588488</td>\n",
       "    </tr>\n",
       "    <tr>\n",
       "      <th>3</th>\n",
       "      <td>4.0</td>\n",
       "      <td>506.456024</td>\n",
       "      <td>513.633675</td>\n",
       "      <td>511.090168</td>\n",
       "    </tr>\n",
       "    <tr>\n",
       "      <th>4</th>\n",
       "      <td>5.0</td>\n",
       "      <td>531.722253</td>\n",
       "      <td>539.168026</td>\n",
       "      <td>536.131305</td>\n",
       "    </tr>\n",
       "    <tr>\n",
       "      <th>5</th>\n",
       "      <td>6.0</td>\n",
       "      <td>527.008336</td>\n",
       "      <td>534.018942</td>\n",
       "      <td>528.741196</td>\n",
       "    </tr>\n",
       "  </tbody>\n",
       "</table>\n",
       "</div>"
      ],
      "text/plain": [
       "   BooksAtHome  ScoreMathematics  ScoreScience  ScoreReading\n",
       "0          1.0        413.907301    422.123149    418.142527\n",
       "1          2.0        439.197963    447.777547    445.734608\n",
       "2          3.0        481.688318    488.013532    485.588488\n",
       "3          4.0        506.456024    513.633675    511.090168\n",
       "4          5.0        531.722253    539.168026    536.131305\n",
       "5          6.0        527.008336    534.018942    528.741196"
      ]
     },
     "execution_count": 48,
     "metadata": {},
     "output_type": "execute_result"
    }
   ],
   "source": [
    "dataset[['BooksAtHome', 'ScoreMathematics', 'ScoreScience', 'ScoreReading']].groupby(['BooksAtHome'], as_index=False).mean().sort_values(by='BooksAtHome', ascending=True)"
   ]
  },
  {
   "cell_type": "markdown",
   "metadata": {},
   "source": [
    "It seems to be no clear difference between category 5 and 6. The original categories were\n",
    "\n",
    "* 0-10 (1)\n",
    "* 11-25 (2)\n",
    "* 26-100 (3)\n",
    "* 101-200 (4)\n",
    "* 201-500 (5)\n",
    "* 500+ (6)\n",
    "\n",
    "books at home. We merge category 5 and 6."
   ]
  },
  {
   "cell_type": "code",
   "execution_count": 49,
   "metadata": {},
   "outputs": [],
   "source": [
    "dataset.loc[(dataset.BooksAtHome == 6), 'BooksAtHome'] = 5"
   ]
  },
  {
   "cell_type": "markdown",
   "metadata": {},
   "source": [
    "#### 2.4.2.4 Ethnic group category"
   ]
  },
  {
   "cell_type": "markdown",
   "metadata": {},
   "source": [
    "This variable was originally defined:\n",
    "* Native (1)\n",
    "* 2nd-generation immigrant (2)\n",
    "* 1st-generation immigrant (3)\n",
    "\n",
    "where they in the PISA dataset define natives as students with at least one parent born in the country, second-generation immigrants as those born in the country of assessment but whose parent(s) were born in\n",
    "another country and 3) first-generation immigrants as cases where both the student and parent(s) where born\n",
    "outside the country of assessment. \n",
    "\n",
    "We change this variable into native(0) and immigrant(1)."
   ]
  },
  {
   "cell_type": "code",
   "execution_count": 50,
   "metadata": {},
   "outputs": [],
   "source": [
    "dataset.loc[(dataset.EthnicGroupCategory == 1), 'EthnicGroupCategory'] = 0\n",
    "dataset.loc[(dataset.EthnicGroupCategory == 2), 'EthnicGroupCategory'] = 1\n",
    "dataset.loc[(dataset.EthnicGroupCategory == 3), 'EthnicGroupCategory'] = 1"
   ]
  },
  {
   "cell_type": "markdown",
   "metadata": {},
   "source": [
    "#### 2.4.2.5 IsLonely"
   ]
  },
  {
   "cell_type": "markdown",
   "metadata": {},
   "source": [
    "The student questionnaire poses the question:\n",
    "    \n",
    "To what extent do you agree with the following statements? \n",
    "\n",
    "* 1) Strongly agree\n",
    "* 2) Agree\n",
    "* 3) Disagree\n",
    "* 4) Strongly disagree"
   ]
  },
  {
   "cell_type": "code",
   "execution_count": 51,
   "metadata": {},
   "outputs": [
    {
     "data": {
      "text/html": [
       "<div>\n",
       "<style scoped>\n",
       "    .dataframe tbody tr th:only-of-type {\n",
       "        vertical-align: middle;\n",
       "    }\n",
       "\n",
       "    .dataframe tbody tr th {\n",
       "        vertical-align: top;\n",
       "    }\n",
       "\n",
       "    .dataframe thead th {\n",
       "        text-align: right;\n",
       "    }\n",
       "</style>\n",
       "<table border=\"1\" class=\"dataframe\">\n",
       "  <thead>\n",
       "    <tr style=\"text-align: right;\">\n",
       "      <th></th>\n",
       "      <th>IsLonely</th>\n",
       "    </tr>\n",
       "  </thead>\n",
       "  <tbody>\n",
       "    <tr>\n",
       "      <th>count</th>\n",
       "      <td>247237.000000</td>\n",
       "    </tr>\n",
       "    <tr>\n",
       "      <th>mean</th>\n",
       "      <td>3.237335</td>\n",
       "    </tr>\n",
       "    <tr>\n",
       "      <th>std</th>\n",
       "      <td>0.883468</td>\n",
       "    </tr>\n",
       "    <tr>\n",
       "      <th>min</th>\n",
       "      <td>1.000000</td>\n",
       "    </tr>\n",
       "    <tr>\n",
       "      <th>25%</th>\n",
       "      <td>3.000000</td>\n",
       "    </tr>\n",
       "    <tr>\n",
       "      <th>50%</th>\n",
       "      <td>3.000000</td>\n",
       "    </tr>\n",
       "    <tr>\n",
       "      <th>75%</th>\n",
       "      <td>4.000000</td>\n",
       "    </tr>\n",
       "    <tr>\n",
       "      <th>max</th>\n",
       "      <td>4.000000</td>\n",
       "    </tr>\n",
       "  </tbody>\n",
       "</table>\n",
       "</div>"
      ],
      "text/plain": [
       "            IsLonely\n",
       "count  247237.000000\n",
       "mean        3.237335\n",
       "std         0.883468\n",
       "min         1.000000\n",
       "25%         3.000000\n",
       "50%         3.000000\n",
       "75%         4.000000\n",
       "max         4.000000"
      ]
     },
     "execution_count": 51,
     "metadata": {},
     "output_type": "execute_result"
    }
   ],
   "source": [
    "# descriptive statistics\n",
    "dataset[['IsLonely']].describe()"
   ]
  },
  {
   "cell_type": "code",
   "execution_count": 52,
   "metadata": {},
   "outputs": [
    {
     "data": {
      "text/html": [
       "<div>\n",
       "<style scoped>\n",
       "    .dataframe tbody tr th:only-of-type {\n",
       "        vertical-align: middle;\n",
       "    }\n",
       "\n",
       "    .dataframe tbody tr th {\n",
       "        vertical-align: top;\n",
       "    }\n",
       "\n",
       "    .dataframe thead th {\n",
       "        text-align: right;\n",
       "    }\n",
       "</style>\n",
       "<table border=\"1\" class=\"dataframe\">\n",
       "  <thead>\n",
       "    <tr style=\"text-align: right;\">\n",
       "      <th></th>\n",
       "      <th>ScoreMathematics</th>\n",
       "      <th>ScoreScience</th>\n",
       "      <th>ScoreReading</th>\n",
       "    </tr>\n",
       "    <tr>\n",
       "      <th>IsLonely</th>\n",
       "      <th></th>\n",
       "      <th></th>\n",
       "      <th></th>\n",
       "    </tr>\n",
       "  </thead>\n",
       "  <tbody>\n",
       "    <tr>\n",
       "      <th>1.0</th>\n",
       "      <td>436.000679</td>\n",
       "      <td>444.903003</td>\n",
       "      <td>437.776679</td>\n",
       "    </tr>\n",
       "    <tr>\n",
       "      <th>2.0</th>\n",
       "      <td>468.643386</td>\n",
       "      <td>478.474580</td>\n",
       "      <td>473.731573</td>\n",
       "    </tr>\n",
       "    <tr>\n",
       "      <th>3.0</th>\n",
       "      <td>475.740215</td>\n",
       "      <td>483.646581</td>\n",
       "      <td>480.497101</td>\n",
       "    </tr>\n",
       "    <tr>\n",
       "      <th>4.0</th>\n",
       "      <td>478.396637</td>\n",
       "      <td>484.733381</td>\n",
       "      <td>483.054748</td>\n",
       "    </tr>\n",
       "  </tbody>\n",
       "</table>\n",
       "</div>"
      ],
      "text/plain": [
       "          ScoreMathematics  ScoreScience  ScoreReading\n",
       "IsLonely                                              \n",
       "1.0             436.000679    444.903003    437.776679\n",
       "2.0             468.643386    478.474580    473.731573\n",
       "3.0             475.740215    483.646581    480.497101\n",
       "4.0             478.396637    484.733381    483.054748"
      ]
     },
     "execution_count": 52,
     "metadata": {},
     "output_type": "execute_result"
    }
   ],
   "source": [
    "# scores\n",
    "dataset[['IsLonely', 'ScoreMathematics', 'ScoreScience', 'ScoreReading']].groupby(['IsLonely'], as_index=True).mean().sort_values(by='IsLonely', ascending=True)"
   ]
  },
  {
   "cell_type": "markdown",
   "metadata": {},
   "source": [
    "Based on the answers, we split the variable into whether the student is feeling lonely or not by transforming \"IsLonely\" = 3 or  \"IsLonely\" = 4 to be equal to one, else equals zero."
   ]
  },
  {
   "cell_type": "code",
   "execution_count": 53,
   "metadata": {},
   "outputs": [],
   "source": [
    "dataset.loc[(dataset.IsLonely == 2), 'IsLonely'] = 1\n",
    "dataset.loc[(dataset.IsLonely > 2), 'IsLonely'] = 0"
   ]
  },
  {
   "cell_type": "markdown",
   "metadata": {},
   "source": [
    "#### 2.4.2.6 Community size"
   ]
  },
  {
   "cell_type": "markdown",
   "metadata": {},
   "source": [
    "This variable was originally split into following categories:\n",
    "\n",
    "* 1) A village, hamlet or rural area (fewer than 3 000 people)\n",
    "* 2) A small town (3 000 to about 15 000 people)\n",
    "* 3) A town (15 000 to about 100 000 people)\n",
    "* 4) A city (100 000 to about 1 000 000 people)\n",
    "* 5) A large city (with over 1 000 000 people)"
   ]
  },
  {
   "cell_type": "markdown",
   "metadata": {},
   "source": [
    "Based on these observations we create a variable splitting the data into whether it is a city (4 og 5), else zero."
   ]
  },
  {
   "cell_type": "code",
   "execution_count": 54,
   "metadata": {},
   "outputs": [],
   "source": [
    "dataset['IsCity'] = 0\n",
    "dataset.loc[(dataset.CommunitySize > 3), 'IsCity'] = 1\n",
    "dataset.drop(columns=['CommunitySize'], inplace=True)"
   ]
  },
  {
   "cell_type": "markdown",
   "metadata": {},
   "source": [
    "#### 2.4.2.7 Male gender ratio"
   ]
  },
  {
   "cell_type": "markdown",
   "metadata": {},
   "source": [
    "We have from the school questionnaire the possibility to calculate gender ratio in schools as we have the number of boys and girls enrolled in each school. We create this variable."
   ]
  },
  {
   "cell_type": "code",
   "execution_count": 55,
   "metadata": {},
   "outputs": [
    {
     "data": {
      "text/html": [
       "<div>\n",
       "<style scoped>\n",
       "    .dataframe tbody tr th:only-of-type {\n",
       "        vertical-align: middle;\n",
       "    }\n",
       "\n",
       "    .dataframe tbody tr th {\n",
       "        vertical-align: top;\n",
       "    }\n",
       "\n",
       "    .dataframe thead th {\n",
       "        text-align: right;\n",
       "    }\n",
       "</style>\n",
       "<table border=\"1\" class=\"dataframe\">\n",
       "  <thead>\n",
       "    <tr style=\"text-align: right;\">\n",
       "      <th></th>\n",
       "      <th>BoysInSchool</th>\n",
       "      <th>GirlsInSchool</th>\n",
       "    </tr>\n",
       "  </thead>\n",
       "  <tbody>\n",
       "    <tr>\n",
       "      <th>count</th>\n",
       "      <td>247237.000000</td>\n",
       "      <td>247237.000000</td>\n",
       "    </tr>\n",
       "    <tr>\n",
       "      <th>mean</th>\n",
       "      <td>474.660205</td>\n",
       "      <td>473.132197</td>\n",
       "    </tr>\n",
       "    <tr>\n",
       "      <th>std</th>\n",
       "      <td>510.015382</td>\n",
       "      <td>509.047756</td>\n",
       "    </tr>\n",
       "    <tr>\n",
       "      <th>min</th>\n",
       "      <td>0.000000</td>\n",
       "      <td>0.000000</td>\n",
       "    </tr>\n",
       "    <tr>\n",
       "      <th>25%</th>\n",
       "      <td>188.000000</td>\n",
       "      <td>185.000000</td>\n",
       "    </tr>\n",
       "    <tr>\n",
       "      <th>50%</th>\n",
       "      <td>350.000000</td>\n",
       "      <td>354.000000</td>\n",
       "    </tr>\n",
       "    <tr>\n",
       "      <th>75%</th>\n",
       "      <td>597.000000</td>\n",
       "      <td>598.000000</td>\n",
       "    </tr>\n",
       "    <tr>\n",
       "      <th>max</th>\n",
       "      <td>8500.000000</td>\n",
       "      <td>9305.000000</td>\n",
       "    </tr>\n",
       "  </tbody>\n",
       "</table>\n",
       "</div>"
      ],
      "text/plain": [
       "        BoysInSchool  GirlsInSchool\n",
       "count  247237.000000  247237.000000\n",
       "mean      474.660205     473.132197\n",
       "std       510.015382     509.047756\n",
       "min         0.000000       0.000000\n",
       "25%       188.000000     185.000000\n",
       "50%       350.000000     354.000000\n",
       "75%       597.000000     598.000000\n",
       "max      8500.000000    9305.000000"
      ]
     },
     "execution_count": 55,
     "metadata": {},
     "output_type": "execute_result"
    }
   ],
   "source": [
    "dataset[['BoysInSchool', 'GirlsInSchool']].describe()"
   ]
  },
  {
   "cell_type": "markdown",
   "metadata": {},
   "source": [
    "Calculating gender ratio (male) as a new ratio."
   ]
  },
  {
   "cell_type": "code",
   "execution_count": 56,
   "metadata": {},
   "outputs": [],
   "source": [
    "dataset['MaleSchoolRatio'] = dataset['BoysInSchool'] / (dataset['BoysInSchool'] + dataset['GirlsInSchool'])"
   ]
  },
  {
   "cell_type": "code",
   "execution_count": 57,
   "metadata": {},
   "outputs": [
    {
     "data": {
      "image/png": "[encoded data removed]",
      "text/plain": [
       "<Figure size 432x288 with 1 Axes>"
      ]
     },
     "metadata": {
      "needs_background": "light"
     },
     "output_type": "display_data"
    }
   ],
   "source": [
    "# the histogram of the data\n",
    "plt.hist(dataset['MaleSchoolRatio'], bins=10, alpha=0.75)\n",
    "plt.show()"
   ]
  },
  {
   "cell_type": "code",
   "execution_count": 58,
   "metadata": {},
   "outputs": [],
   "source": [
    "# dropping the base variables\n",
    "dataset.drop(columns=['BoysInSchool', 'GirlsInSchool'], inplace=True)"
   ]
  },
  {
   "cell_type": "markdown",
   "metadata": {},
   "source": [
    "#### 2.4.2.8 Various activities at school"
   ]
  },
  {
   "cell_type": "markdown",
   "metadata": {},
   "source": [
    "Basic descriptive statistics:"
   ]
  },
  {
   "cell_type": "code",
   "execution_count": 59,
   "metadata": {},
   "outputs": [
    {
     "data": {
      "text/html": [
       "<div>\n",
       "<style scoped>\n",
       "    .dataframe tbody tr th:only-of-type {\n",
       "        vertical-align: middle;\n",
       "    }\n",
       "\n",
       "    .dataframe tbody tr th {\n",
       "        vertical-align: top;\n",
       "    }\n",
       "\n",
       "    .dataframe thead th {\n",
       "        text-align: right;\n",
       "    }\n",
       "</style>\n",
       "<table border=\"1\" class=\"dataframe\">\n",
       "  <thead>\n",
       "    <tr style=\"text-align: right;\">\n",
       "      <th></th>\n",
       "      <th>MusicActvityAtSchool</th>\n",
       "      <th>AvailableRoomForHomework</th>\n",
       "      <th>StaffHelpForHomework</th>\n",
       "    </tr>\n",
       "  </thead>\n",
       "  <tbody>\n",
       "    <tr>\n",
       "      <th>count</th>\n",
       "      <td>247237.000000</td>\n",
       "      <td>247237.000000</td>\n",
       "      <td>247237.000000</td>\n",
       "    </tr>\n",
       "    <tr>\n",
       "      <th>mean</th>\n",
       "      <td>1.424111</td>\n",
       "      <td>1.357091</td>\n",
       "      <td>1.472939</td>\n",
       "    </tr>\n",
       "    <tr>\n",
       "      <th>std</th>\n",
       "      <td>0.494208</td>\n",
       "      <td>0.479143</td>\n",
       "      <td>0.499268</td>\n",
       "    </tr>\n",
       "    <tr>\n",
       "      <th>min</th>\n",
       "      <td>1.000000</td>\n",
       "      <td>1.000000</td>\n",
       "      <td>1.000000</td>\n",
       "    </tr>\n",
       "    <tr>\n",
       "      <th>25%</th>\n",
       "      <td>1.000000</td>\n",
       "      <td>1.000000</td>\n",
       "      <td>1.000000</td>\n",
       "    </tr>\n",
       "    <tr>\n",
       "      <th>50%</th>\n",
       "      <td>1.000000</td>\n",
       "      <td>1.000000</td>\n",
       "      <td>1.000000</td>\n",
       "    </tr>\n",
       "    <tr>\n",
       "      <th>75%</th>\n",
       "      <td>2.000000</td>\n",
       "      <td>2.000000</td>\n",
       "      <td>2.000000</td>\n",
       "    </tr>\n",
       "    <tr>\n",
       "      <th>max</th>\n",
       "      <td>2.000000</td>\n",
       "      <td>2.000000</td>\n",
       "      <td>2.000000</td>\n",
       "    </tr>\n",
       "  </tbody>\n",
       "</table>\n",
       "</div>"
      ],
      "text/plain": [
       "       MusicActvityAtSchool  AvailableRoomForHomework  StaffHelpForHomework\n",
       "count         247237.000000             247237.000000         247237.000000\n",
       "mean               1.424111                  1.357091              1.472939\n",
       "std                0.494208                  0.479143              0.499268\n",
       "min                1.000000                  1.000000              1.000000\n",
       "25%                1.000000                  1.000000              1.000000\n",
       "50%                1.000000                  1.000000              1.000000\n",
       "75%                2.000000                  2.000000              2.000000\n",
       "max                2.000000                  2.000000              2.000000"
      ]
     },
     "execution_count": 59,
     "metadata": {},
     "output_type": "execute_result"
    }
   ],
   "source": [
    "dataset[['MusicActvityAtSchool', 'AvailableRoomForHomework', 'StaffHelpForHomework']].describe()"
   ]
  },
  {
   "cell_type": "markdown",
   "metadata": {},
   "source": [
    "MusicActvityAtSchool:"
   ]
  },
  {
   "cell_type": "code",
   "execution_count": 60,
   "metadata": {},
   "outputs": [
    {
     "data": {
      "text/html": [
       "<div>\n",
       "<style scoped>\n",
       "    .dataframe tbody tr th:only-of-type {\n",
       "        vertical-align: middle;\n",
       "    }\n",
       "\n",
       "    .dataframe tbody tr th {\n",
       "        vertical-align: top;\n",
       "    }\n",
       "\n",
       "    .dataframe thead th {\n",
       "        text-align: right;\n",
       "    }\n",
       "</style>\n",
       "<table border=\"1\" class=\"dataframe\">\n",
       "  <thead>\n",
       "    <tr style=\"text-align: right;\">\n",
       "      <th></th>\n",
       "      <th>ScoreMathematics</th>\n",
       "      <th>ScoreScience</th>\n",
       "      <th>ScoreReading</th>\n",
       "    </tr>\n",
       "    <tr>\n",
       "      <th>MusicActvityAtSchool</th>\n",
       "      <th></th>\n",
       "      <th></th>\n",
       "      <th></th>\n",
       "    </tr>\n",
       "  </thead>\n",
       "  <tbody>\n",
       "    <tr>\n",
       "      <th>1.0</th>\n",
       "      <td>487.476126</td>\n",
       "      <td>495.023995</td>\n",
       "      <td>491.568351</td>\n",
       "    </tr>\n",
       "    <tr>\n",
       "      <th>2.0</th>\n",
       "      <td>454.562275</td>\n",
       "      <td>461.782253</td>\n",
       "      <td>459.671409</td>\n",
       "    </tr>\n",
       "  </tbody>\n",
       "</table>\n",
       "</div>"
      ],
      "text/plain": [
       "                      ScoreMathematics  ScoreScience  ScoreReading\n",
       "MusicActvityAtSchool                                              \n",
       "1.0                         487.476126    495.023995    491.568351\n",
       "2.0                         454.562275    461.782253    459.671409"
      ]
     },
     "execution_count": 60,
     "metadata": {},
     "output_type": "execute_result"
    }
   ],
   "source": [
    "#MusicActivityAtSchool\n",
    "dataset[['MusicActvityAtSchool', 'ScoreMathematics', 'ScoreScience', 'ScoreReading']].groupby(['MusicActvityAtSchool'], as_index=True).mean().sort_values(by='MusicActvityAtSchool', ascending=True)"
   ]
  },
  {
   "cell_type": "code",
   "execution_count": 61,
   "metadata": {},
   "outputs": [],
   "source": [
    "# not having the activity (i.e. value 2 in the dataset) equal zero\n",
    "dataset.loc[(dataset.MusicActvityAtSchool == 2), 'MusicActvityAtSchool'] = 0"
   ]
  },
  {
   "cell_type": "markdown",
   "metadata": {},
   "source": [
    "The school questionnaire poses the question:\n",
    "\n",
    "\"For 15-year-old students, does your school provide the\n",
    "following study help?\"\n",
    "\n",
    "* Q1: Room(s) where the students can do their homework (1 (yes) or 2 (no))\n",
    "* Q2: Staff help with homework (1 (yes) or 2 (no))"
   ]
  },
  {
   "cell_type": "code",
   "execution_count": 62,
   "metadata": {},
   "outputs": [],
   "source": [
    "# not having the activity (i.e. value 2 in the dataset) equal zero\n",
    "dataset.loc[(dataset.AvailableRoomForHomework == 2), 'AvailableRoomForHomework'] = 0\n",
    "dataset.loc[(dataset.StaffHelpForHomework == 2), 'StaffHelpForHomework'] = 0"
   ]
  },
  {
   "cell_type": "code",
   "execution_count": 63,
   "metadata": {},
   "outputs": [
    {
     "data": {
      "text/html": [
       "<div>\n",
       "<style scoped>\n",
       "    .dataframe tbody tr th:only-of-type {\n",
       "        vertical-align: middle;\n",
       "    }\n",
       "\n",
       "    .dataframe tbody tr th {\n",
       "        vertical-align: top;\n",
       "    }\n",
       "\n",
       "    .dataframe thead th {\n",
       "        text-align: right;\n",
       "    }\n",
       "</style>\n",
       "<table border=\"1\" class=\"dataframe\">\n",
       "  <thead>\n",
       "    <tr style=\"text-align: right;\">\n",
       "      <th></th>\n",
       "      <th>ScoreMathematics</th>\n",
       "      <th>ScoreScience</th>\n",
       "      <th>ScoreReading</th>\n",
       "    </tr>\n",
       "    <tr>\n",
       "      <th>AvailableRoomForHomework</th>\n",
       "      <th></th>\n",
       "      <th></th>\n",
       "      <th></th>\n",
       "    </tr>\n",
       "  </thead>\n",
       "  <tbody>\n",
       "    <tr>\n",
       "      <th>0.0</th>\n",
       "      <td>453.742906</td>\n",
       "      <td>462.258315</td>\n",
       "      <td>459.702194</td>\n",
       "    </tr>\n",
       "    <tr>\n",
       "      <th>1.0</th>\n",
       "      <td>484.500091</td>\n",
       "      <td>491.294259</td>\n",
       "      <td>488.226125</td>\n",
       "    </tr>\n",
       "  </tbody>\n",
       "</table>\n",
       "</div>"
      ],
      "text/plain": [
       "                          ScoreMathematics  ScoreScience  ScoreReading\n",
       "AvailableRoomForHomework                                              \n",
       "0.0                             453.742906    462.258315    459.702194\n",
       "1.0                             484.500091    491.294259    488.226125"
      ]
     },
     "execution_count": 63,
     "metadata": {},
     "output_type": "execute_result"
    }
   ],
   "source": [
    "#AvailableRoomForHomework\n",
    "dataset[['AvailableRoomForHomework', 'ScoreMathematics', 'ScoreScience', 'ScoreReading']].groupby(['AvailableRoomForHomework'], as_index=True).mean().sort_values(by='AvailableRoomForHomework', ascending=True)"
   ]
  },
  {
   "cell_type": "code",
   "execution_count": 64,
   "metadata": {},
   "outputs": [
    {
     "data": {
      "text/html": [
       "<div>\n",
       "<style scoped>\n",
       "    .dataframe tbody tr th:only-of-type {\n",
       "        vertical-align: middle;\n",
       "    }\n",
       "\n",
       "    .dataframe tbody tr th {\n",
       "        vertical-align: top;\n",
       "    }\n",
       "\n",
       "    .dataframe thead th {\n",
       "        text-align: right;\n",
       "    }\n",
       "</style>\n",
       "<table border=\"1\" class=\"dataframe\">\n",
       "  <thead>\n",
       "    <tr style=\"text-align: right;\">\n",
       "      <th></th>\n",
       "      <th>ScoreMathematics</th>\n",
       "      <th>ScoreScience</th>\n",
       "      <th>ScoreReading</th>\n",
       "    </tr>\n",
       "    <tr>\n",
       "      <th>StaffHelpForHomework</th>\n",
       "      <th></th>\n",
       "      <th></th>\n",
       "      <th></th>\n",
       "    </tr>\n",
       "  </thead>\n",
       "  <tbody>\n",
       "    <tr>\n",
       "      <th>0.0</th>\n",
       "      <td>464.800104</td>\n",
       "      <td>472.399611</td>\n",
       "      <td>471.506180</td>\n",
       "    </tr>\n",
       "    <tr>\n",
       "      <th>1.0</th>\n",
       "      <td>481.338769</td>\n",
       "      <td>488.576458</td>\n",
       "      <td>483.903828</td>\n",
       "    </tr>\n",
       "  </tbody>\n",
       "</table>\n",
       "</div>"
      ],
      "text/plain": [
       "                      ScoreMathematics  ScoreScience  ScoreReading\n",
       "StaffHelpForHomework                                              \n",
       "0.0                         464.800104    472.399611    471.506180\n",
       "1.0                         481.338769    488.576458    483.903828"
      ]
     },
     "execution_count": 64,
     "metadata": {},
     "output_type": "execute_result"
    }
   ],
   "source": [
    "#StaffHelpForHomework\n",
    "dataset[['StaffHelpForHomework', 'ScoreMathematics', 'ScoreScience', 'ScoreReading']].groupby(['StaffHelpForHomework'], as_index=True).mean().sort_values(by='StaffHelpForHomework', ascending=True)"
   ]
  },
  {
   "cell_type": "markdown",
   "metadata": {},
   "source": [
    "#### 2.4.2.9 Determining school content"
   ]
  },
  {
   "cell_type": "markdown",
   "metadata": {},
   "source": [
    "We want to see how different instances controlling what the school content is affects students' performance. Value equal 1 implies that the indicated instance sets the course contents."
   ]
  },
  {
   "cell_type": "code",
   "execution_count": 65,
   "metadata": {},
   "outputs": [
    {
     "data": {
      "text/html": [
       "<div>\n",
       "<style scoped>\n",
       "    .dataframe tbody tr th:only-of-type {\n",
       "        vertical-align: middle;\n",
       "    }\n",
       "\n",
       "    .dataframe tbody tr th {\n",
       "        vertical-align: top;\n",
       "    }\n",
       "\n",
       "    .dataframe thead th {\n",
       "        text-align: right;\n",
       "    }\n",
       "</style>\n",
       "<table border=\"1\" class=\"dataframe\">\n",
       "  <thead>\n",
       "    <tr style=\"text-align: right;\">\n",
       "      <th></th>\n",
       "      <th>ScoreMathematics</th>\n",
       "      <th>ScoreScience</th>\n",
       "      <th>ScoreReading</th>\n",
       "    </tr>\n",
       "    <tr>\n",
       "      <th>PrincipalCourseContent</th>\n",
       "      <th></th>\n",
       "      <th></th>\n",
       "      <th></th>\n",
       "    </tr>\n",
       "  </thead>\n",
       "  <tbody>\n",
       "    <tr>\n",
       "      <th>0.0</th>\n",
       "      <td>469.158641</td>\n",
       "      <td>476.778360</td>\n",
       "      <td>474.257838</td>\n",
       "    </tr>\n",
       "    <tr>\n",
       "      <th>1.0</th>\n",
       "      <td>487.474897</td>\n",
       "      <td>494.208242</td>\n",
       "      <td>490.154718</td>\n",
       "    </tr>\n",
       "  </tbody>\n",
       "</table>\n",
       "</div>"
      ],
      "text/plain": [
       "                        ScoreMathematics  ScoreScience  ScoreReading\n",
       "PrincipalCourseContent                                              \n",
       "0.0                           469.158641    476.778360    474.257838\n",
       "1.0                           487.474897    494.208242    490.154718"
      ]
     },
     "execution_count": 65,
     "metadata": {},
     "output_type": "execute_result"
    }
   ],
   "source": [
    "#Principal\n",
    "dataset[['PrincipalCourseContent', 'ScoreMathematics', 'ScoreScience', 'ScoreReading']].groupby(['PrincipalCourseContent'], as_index=True).mean().sort_values(by='PrincipalCourseContent', ascending=True)"
   ]
  },
  {
   "cell_type": "code",
   "execution_count": 66,
   "metadata": {},
   "outputs": [
    {
     "data": {
      "text/html": [
       "<div>\n",
       "<style scoped>\n",
       "    .dataframe tbody tr th:only-of-type {\n",
       "        vertical-align: middle;\n",
       "    }\n",
       "\n",
       "    .dataframe tbody tr th {\n",
       "        vertical-align: top;\n",
       "    }\n",
       "\n",
       "    .dataframe thead th {\n",
       "        text-align: right;\n",
       "    }\n",
       "</style>\n",
       "<table border=\"1\" class=\"dataframe\">\n",
       "  <thead>\n",
       "    <tr style=\"text-align: right;\">\n",
       "      <th></th>\n",
       "      <th>ScoreMathematics</th>\n",
       "      <th>ScoreScience</th>\n",
       "      <th>ScoreReading</th>\n",
       "    </tr>\n",
       "    <tr>\n",
       "      <th>TeacherCourseContent</th>\n",
       "      <th></th>\n",
       "      <th></th>\n",
       "      <th></th>\n",
       "    </tr>\n",
       "  </thead>\n",
       "  <tbody>\n",
       "    <tr>\n",
       "      <th>0.0</th>\n",
       "      <td>458.880174</td>\n",
       "      <td>468.997707</td>\n",
       "      <td>465.629713</td>\n",
       "    </tr>\n",
       "    <tr>\n",
       "      <th>1.0</th>\n",
       "      <td>484.710950</td>\n",
       "      <td>490.048174</td>\n",
       "      <td>487.532031</td>\n",
       "    </tr>\n",
       "  </tbody>\n",
       "</table>\n",
       "</div>"
      ],
      "text/plain": [
       "                      ScoreMathematics  ScoreScience  ScoreReading\n",
       "TeacherCourseContent                                              \n",
       "0.0                         458.880174    468.997707    465.629713\n",
       "1.0                         484.710950    490.048174    487.532031"
      ]
     },
     "execution_count": 66,
     "metadata": {},
     "output_type": "execute_result"
    }
   ],
   "source": [
    "#Teacher\n",
    "dataset[['TeacherCourseContent', 'ScoreMathematics', 'ScoreScience', 'ScoreReading']].groupby(['TeacherCourseContent'], as_index=True).mean().sort_values(by='TeacherCourseContent', ascending=True)"
   ]
  },
  {
   "cell_type": "code",
   "execution_count": 67,
   "metadata": {},
   "outputs": [
    {
     "data": {
      "text/html": [
       "<div>\n",
       "<style scoped>\n",
       "    .dataframe tbody tr th:only-of-type {\n",
       "        vertical-align: middle;\n",
       "    }\n",
       "\n",
       "    .dataframe tbody tr th {\n",
       "        vertical-align: top;\n",
       "    }\n",
       "\n",
       "    .dataframe thead th {\n",
       "        text-align: right;\n",
       "    }\n",
       "</style>\n",
       "<table border=\"1\" class=\"dataframe\">\n",
       "  <thead>\n",
       "    <tr style=\"text-align: right;\">\n",
       "      <th></th>\n",
       "      <th>ScoreMathematics</th>\n",
       "      <th>ScoreScience</th>\n",
       "      <th>ScoreReading</th>\n",
       "    </tr>\n",
       "    <tr>\n",
       "      <th>SchoolGovernningBoardCourseContent</th>\n",
       "      <th></th>\n",
       "      <th></th>\n",
       "      <th></th>\n",
       "    </tr>\n",
       "  </thead>\n",
       "  <tbody>\n",
       "    <tr>\n",
       "      <th>0.0</th>\n",
       "      <td>472.735931</td>\n",
       "      <td>480.143779</td>\n",
       "      <td>477.644767</td>\n",
       "    </tr>\n",
       "    <tr>\n",
       "      <th>1.0</th>\n",
       "      <td>479.519705</td>\n",
       "      <td>486.935873</td>\n",
       "      <td>481.081828</td>\n",
       "    </tr>\n",
       "  </tbody>\n",
       "</table>\n",
       "</div>"
      ],
      "text/plain": [
       "                                    ScoreMathematics  ScoreScience  \\\n",
       "SchoolGovernningBoardCourseContent                                   \n",
       "0.0                                       472.735931    480.143779   \n",
       "1.0                                       479.519705    486.935873   \n",
       "\n",
       "                                    ScoreReading  \n",
       "SchoolGovernningBoardCourseContent                \n",
       "0.0                                   477.644767  \n",
       "1.0                                   481.081828  "
      ]
     },
     "execution_count": 67,
     "metadata": {},
     "output_type": "execute_result"
    }
   ],
   "source": [
    "#SchoolGovernningBoard\n",
    "dataset[['SchoolGovernningBoardCourseContent', 'ScoreMathematics', 'ScoreScience', 'ScoreReading']].groupby(['SchoolGovernningBoardCourseContent'], as_index=True).mean().sort_values(by='SchoolGovernningBoardCourseContent', ascending=True)"
   ]
  },
  {
   "cell_type": "code",
   "execution_count": 68,
   "metadata": {},
   "outputs": [
    {
     "data": {
      "text/html": [
       "<div>\n",
       "<style scoped>\n",
       "    .dataframe tbody tr th:only-of-type {\n",
       "        vertical-align: middle;\n",
       "    }\n",
       "\n",
       "    .dataframe tbody tr th {\n",
       "        vertical-align: top;\n",
       "    }\n",
       "\n",
       "    .dataframe thead th {\n",
       "        text-align: right;\n",
       "    }\n",
       "</style>\n",
       "<table border=\"1\" class=\"dataframe\">\n",
       "  <thead>\n",
       "    <tr style=\"text-align: right;\">\n",
       "      <th></th>\n",
       "      <th>ScoreMathematics</th>\n",
       "      <th>ScoreScience</th>\n",
       "      <th>ScoreReading</th>\n",
       "    </tr>\n",
       "    <tr>\n",
       "      <th>RegionalAuthorityCourseContent</th>\n",
       "      <th></th>\n",
       "      <th></th>\n",
       "      <th></th>\n",
       "    </tr>\n",
       "  </thead>\n",
       "  <tbody>\n",
       "    <tr>\n",
       "      <th>0.0</th>\n",
       "      <td>471.393749</td>\n",
       "      <td>478.685035</td>\n",
       "      <td>475.734111</td>\n",
       "    </tr>\n",
       "    <tr>\n",
       "      <th>1.0</th>\n",
       "      <td>480.720778</td>\n",
       "      <td>488.528314</td>\n",
       "      <td>485.865665</td>\n",
       "    </tr>\n",
       "  </tbody>\n",
       "</table>\n",
       "</div>"
      ],
      "text/plain": [
       "                                ScoreMathematics  ScoreScience  ScoreReading\n",
       "RegionalAuthorityCourseContent                                              \n",
       "0.0                                   471.393749    478.685035    475.734111\n",
       "1.0                                   480.720778    488.528314    485.865665"
      ]
     },
     "execution_count": 68,
     "metadata": {},
     "output_type": "execute_result"
    }
   ],
   "source": [
    "#RegionalAuthority\n",
    "dataset[['RegionalAuthorityCourseContent', 'ScoreMathematics', 'ScoreScience', 'ScoreReading']].groupby(['RegionalAuthorityCourseContent'], as_index=True).mean().sort_values(by='RegionalAuthorityCourseContent', ascending=True)"
   ]
  },
  {
   "cell_type": "code",
   "execution_count": 69,
   "metadata": {},
   "outputs": [
    {
     "data": {
      "text/html": [
       "<div>\n",
       "<style scoped>\n",
       "    .dataframe tbody tr th:only-of-type {\n",
       "        vertical-align: middle;\n",
       "    }\n",
       "\n",
       "    .dataframe tbody tr th {\n",
       "        vertical-align: top;\n",
       "    }\n",
       "\n",
       "    .dataframe thead th {\n",
       "        text-align: right;\n",
       "    }\n",
       "</style>\n",
       "<table border=\"1\" class=\"dataframe\">\n",
       "  <thead>\n",
       "    <tr style=\"text-align: right;\">\n",
       "      <th></th>\n",
       "      <th>ScoreMathematics</th>\n",
       "      <th>ScoreScience</th>\n",
       "      <th>ScoreReading</th>\n",
       "    </tr>\n",
       "    <tr>\n",
       "      <th>NationalAuthorityCourseContent</th>\n",
       "      <th></th>\n",
       "      <th></th>\n",
       "      <th></th>\n",
       "    </tr>\n",
       "  </thead>\n",
       "  <tbody>\n",
       "    <tr>\n",
       "      <th>0.0</th>\n",
       "      <td>483.569725</td>\n",
       "      <td>489.896306</td>\n",
       "      <td>485.562061</td>\n",
       "    </tr>\n",
       "    <tr>\n",
       "      <th>1.0</th>\n",
       "      <td>461.053301</td>\n",
       "      <td>469.803884</td>\n",
       "      <td>468.715033</td>\n",
       "    </tr>\n",
       "  </tbody>\n",
       "</table>\n",
       "</div>"
      ],
      "text/plain": [
       "                                ScoreMathematics  ScoreScience  ScoreReading\n",
       "NationalAuthorityCourseContent                                              \n",
       "0.0                                   483.569725    489.896306    485.562061\n",
       "1.0                                   461.053301    469.803884    468.715033"
      ]
     },
     "execution_count": 69,
     "metadata": {},
     "output_type": "execute_result"
    }
   ],
   "source": [
    "#NationalAuthority\n",
    "dataset[['NationalAuthorityCourseContent', 'ScoreMathematics', 'ScoreScience', 'ScoreReading']].groupby(['NationalAuthorityCourseContent'], as_index=True).mean().sort_values(by='NationalAuthorityCourseContent', ascending=True)"
   ]
  },
  {
   "cell_type": "markdown",
   "metadata": {},
   "source": [
    "Creating variable that distinguish schools where course contents are determined by a central authority."
   ]
  },
  {
   "cell_type": "code",
   "execution_count": 70,
   "metadata": {},
   "outputs": [],
   "source": [
    "#Changing the variables that has values that were answered for either regional or national authority, and not either of the other options\n",
    "dataset['CentralAuthorityDecidesCourseContents'] = 0\n",
    "dataset.loc[((dataset.NationalAuthorityCourseContent == 1) | (dataset.RegionalAuthorityCourseContent == 1)) & (dataset.SchoolGovernningBoardCourseContent == 0) & (dataset.TeacherCourseContent == 0) & (dataset.PrincipalCourseContent == 0), 'CentralAuthorityDecidesCourseContents'] = 1"
   ]
  },
  {
   "cell_type": "code",
   "execution_count": 71,
   "metadata": {},
   "outputs": [
    {
     "data": {
      "text/html": [
       "<div>\n",
       "<style scoped>\n",
       "    .dataframe tbody tr th:only-of-type {\n",
       "        vertical-align: middle;\n",
       "    }\n",
       "\n",
       "    .dataframe tbody tr th {\n",
       "        vertical-align: top;\n",
       "    }\n",
       "\n",
       "    .dataframe thead th {\n",
       "        text-align: right;\n",
       "    }\n",
       "</style>\n",
       "<table border=\"1\" class=\"dataframe\">\n",
       "  <thead>\n",
       "    <tr style=\"text-align: right;\">\n",
       "      <th></th>\n",
       "      <th>ScoreMathematics</th>\n",
       "      <th>ScoreScience</th>\n",
       "      <th>ScoreReading</th>\n",
       "    </tr>\n",
       "    <tr>\n",
       "      <th>CentralAuthorityDecidesCourseContents</th>\n",
       "      <th></th>\n",
       "      <th></th>\n",
       "      <th></th>\n",
       "    </tr>\n",
       "  </thead>\n",
       "  <tbody>\n",
       "    <tr>\n",
       "      <th>0</th>\n",
       "      <td>484.241662</td>\n",
       "      <td>490.092023</td>\n",
       "      <td>486.637692</td>\n",
       "    </tr>\n",
       "    <tr>\n",
       "      <th>1</th>\n",
       "      <td>452.956583</td>\n",
       "      <td>463.353105</td>\n",
       "      <td>461.558706</td>\n",
       "    </tr>\n",
       "  </tbody>\n",
       "</table>\n",
       "</div>"
      ],
      "text/plain": [
       "                                       ScoreMathematics  ScoreScience  \\\n",
       "CentralAuthorityDecidesCourseContents                                   \n",
       "0                                            484.241662    490.092023   \n",
       "1                                            452.956583    463.353105   \n",
       "\n",
       "                                       ScoreReading  \n",
       "CentralAuthorityDecidesCourseContents                \n",
       "0                                        486.637692  \n",
       "1                                        461.558706  "
      ]
     },
     "execution_count": 71,
     "metadata": {},
     "output_type": "execute_result"
    }
   ],
   "source": [
    "#CentralAuthority\n",
    "dataset[['CentralAuthorityDecidesCourseContents', 'ScoreMathematics', 'ScoreScience', 'ScoreReading']].groupby(['CentralAuthorityDecidesCourseContents'], as_index=True).mean().sort_values(by='CentralAuthorityDecidesCourseContents', ascending=True)"
   ]
  },
  {
   "cell_type": "code",
   "execution_count": 72,
   "metadata": {},
   "outputs": [],
   "source": [
    "# dropping base variables\n",
    "dataset.drop(columns=['NationalAuthorityCourseContent', 'RegionalAuthorityCourseContent', 'SchoolGovernningBoardCourseContent', 'TeacherCourseContent', 'PrincipalCourseContent'], inplace=True)"
   ]
  },
  {
   "cell_type": "markdown",
   "metadata": {},
   "source": [
    "#### 2.4.2.10 School type"
   ]
  },
  {
   "cell_type": "markdown",
   "metadata": {},
   "source": [
    "Public (1) and private school (2)."
   ]
  },
  {
   "cell_type": "code",
   "execution_count": 73,
   "metadata": {},
   "outputs": [
    {
     "data": {
      "text/html": [
       "<div>\n",
       "<style scoped>\n",
       "    .dataframe tbody tr th:only-of-type {\n",
       "        vertical-align: middle;\n",
       "    }\n",
       "\n",
       "    .dataframe tbody tr th {\n",
       "        vertical-align: top;\n",
       "    }\n",
       "\n",
       "    .dataframe thead th {\n",
       "        text-align: right;\n",
       "    }\n",
       "</style>\n",
       "<table border=\"1\" class=\"dataframe\">\n",
       "  <thead>\n",
       "    <tr style=\"text-align: right;\">\n",
       "      <th></th>\n",
       "      <th>ScoreMathematics</th>\n",
       "      <th>ScoreScience</th>\n",
       "      <th>ScoreReading</th>\n",
       "    </tr>\n",
       "    <tr>\n",
       "      <th>SchoolType</th>\n",
       "      <th></th>\n",
       "      <th></th>\n",
       "      <th></th>\n",
       "    </tr>\n",
       "  </thead>\n",
       "  <tbody>\n",
       "    <tr>\n",
       "      <th>1.0</th>\n",
       "      <td>468.065961</td>\n",
       "      <td>475.398483</td>\n",
       "      <td>472.279998</td>\n",
       "    </tr>\n",
       "    <tr>\n",
       "      <th>2.0</th>\n",
       "      <td>493.172075</td>\n",
       "      <td>500.855945</td>\n",
       "      <td>498.811457</td>\n",
       "    </tr>\n",
       "  </tbody>\n",
       "</table>\n",
       "</div>"
      ],
      "text/plain": [
       "            ScoreMathematics  ScoreScience  ScoreReading\n",
       "SchoolType                                              \n",
       "1.0               468.065961    475.398483    472.279998\n",
       "2.0               493.172075    500.855945    498.811457"
      ]
     },
     "execution_count": 73,
     "metadata": {},
     "output_type": "execute_result"
    }
   ],
   "source": [
    "#SchoolType\n",
    "dataset[['SchoolType', 'ScoreMathematics', 'ScoreScience', 'ScoreReading']].groupby(['SchoolType'], as_index=True).mean().sort_values(by='SchoolType', ascending=True)"
   ]
  },
  {
   "cell_type": "markdown",
   "metadata": {},
   "source": [
    "Substracting by one and changing variable header to \"IsPrivateSchool\"."
   ]
  },
  {
   "cell_type": "code",
   "execution_count": 74,
   "metadata": {},
   "outputs": [],
   "source": [
    "#Subtracting 'SchoolType' by 1\n",
    "dataset['SchoolType'] = dataset['SchoolType']-1\n",
    "dataset.rename(columns={'SchoolType': 'IsPrivateSchool'}, inplace=True)"
   ]
  },
  {
   "cell_type": "markdown",
   "metadata": {},
   "source": [
    "#### 2.4.2.11 ProportionCertifiedTeachers"
   ]
  },
  {
   "cell_type": "markdown",
   "metadata": {},
   "source": [
    "The variable explaining to which extent the teachers at the school has certifications."
   ]
  },
  {
   "cell_type": "code",
   "execution_count": 75,
   "metadata": {},
   "outputs": [
    {
     "data": {
      "text/plain": [
       "count    247237.000000\n",
       "mean          0.812355\n",
       "std           0.322303\n",
       "min           0.000000\n",
       "25%           0.800000\n",
       "50%           0.996900\n",
       "75%           1.000000\n",
       "max           1.000000\n",
       "Name: ProportionCertifiedTeacher, dtype: float64"
      ]
     },
     "execution_count": 75,
     "metadata": {},
     "output_type": "execute_result"
    }
   ],
   "source": [
    "dataset['ProportionCertifiedTeacher'].describe()"
   ]
  },
  {
   "cell_type": "markdown",
   "metadata": {},
   "source": [
    "I create a dummy variable that differentiates having fully certified teacher staff and not, and then check the mean scores across the groups."
   ]
  },
  {
   "cell_type": "code",
   "execution_count": 76,
   "metadata": {},
   "outputs": [
    {
     "data": {
      "text/html": [
       "<div>\n",
       "<style scoped>\n",
       "    .dataframe tbody tr th:only-of-type {\n",
       "        vertical-align: middle;\n",
       "    }\n",
       "\n",
       "    .dataframe tbody tr th {\n",
       "        vertical-align: top;\n",
       "    }\n",
       "\n",
       "    .dataframe thead th {\n",
       "        text-align: right;\n",
       "    }\n",
       "</style>\n",
       "<table border=\"1\" class=\"dataframe\">\n",
       "  <thead>\n",
       "    <tr style=\"text-align: right;\">\n",
       "      <th></th>\n",
       "      <th>ScoreMathematics</th>\n",
       "      <th>ScoreScience</th>\n",
       "      <th>ScoreReading</th>\n",
       "    </tr>\n",
       "    <tr>\n",
       "      <th>ProportionCertifiedTeacher</th>\n",
       "      <th></th>\n",
       "      <th></th>\n",
       "      <th></th>\n",
       "    </tr>\n",
       "  </thead>\n",
       "  <tbody>\n",
       "    <tr>\n",
       "      <th>0.0</th>\n",
       "      <td>461.913644</td>\n",
       "      <td>470.561550</td>\n",
       "      <td>467.584872</td>\n",
       "    </tr>\n",
       "    <tr>\n",
       "      <th>1.0</th>\n",
       "      <td>485.152389</td>\n",
       "      <td>491.318674</td>\n",
       "      <td>488.525006</td>\n",
       "    </tr>\n",
       "  </tbody>\n",
       "</table>\n",
       "</div>"
      ],
      "text/plain": [
       "                            ScoreMathematics  ScoreScience  ScoreReading\n",
       "ProportionCertifiedTeacher                                              \n",
       "0.0                               461.913644    470.561550    467.584872\n",
       "1.0                               485.152389    491.318674    488.525006"
      ]
     },
     "execution_count": 76,
     "metadata": {},
     "output_type": "execute_result"
    }
   ],
   "source": [
    "dataset.loc[(dataset.ProportionCertifiedTeacher < 1), 'ProportionCertifiedTeacher'] = 0\n",
    "dataset[['ProportionCertifiedTeacher', 'ScoreMathematics', 'ScoreScience', 'ScoreReading']].groupby(['ProportionCertifiedTeacher'], as_index=True).mean().sort_values(by='ProportionCertifiedTeacher', ascending=True)"
   ]
  },
  {
   "cell_type": "markdown",
   "metadata": {},
   "source": [
    "We observe that there is a difference between the groups and create the variable. Change the header name to \"FullyCertifiedTeacherStaff\"."
   ]
  },
  {
   "cell_type": "code",
   "execution_count": 77,
   "metadata": {},
   "outputs": [],
   "source": [
    "dataset.rename(columns={'ProportionCertifiedTeacher': 'FullyCertifiedTeacherStaff'}, inplace=True)"
   ]
  },
  {
   "cell_type": "markdown",
   "metadata": {},
   "source": [
    "#### 2.4.2.12 StudentsTrackedCentrally"
   ]
  },
  {
   "cell_type": "markdown",
   "metadata": {},
   "source": [
    "The variables is indicated through whether achievement data are tracked over time by an administrative authority; yes(1) and no(2). Use a command to see mean scores across groups:"
   ]
  },
  {
   "cell_type": "code",
   "execution_count": 78,
   "metadata": {},
   "outputs": [
    {
     "data": {
      "text/html": [
       "<div>\n",
       "<style scoped>\n",
       "    .dataframe tbody tr th:only-of-type {\n",
       "        vertical-align: middle;\n",
       "    }\n",
       "\n",
       "    .dataframe tbody tr th {\n",
       "        vertical-align: top;\n",
       "    }\n",
       "\n",
       "    .dataframe thead th {\n",
       "        text-align: right;\n",
       "    }\n",
       "</style>\n",
       "<table border=\"1\" class=\"dataframe\">\n",
       "  <thead>\n",
       "    <tr style=\"text-align: right;\">\n",
       "      <th></th>\n",
       "      <th>ScoreMathematics</th>\n",
       "      <th>ScoreScience</th>\n",
       "      <th>ScoreReading</th>\n",
       "    </tr>\n",
       "    <tr>\n",
       "      <th>StudentResultsTrackedCentrally</th>\n",
       "      <th></th>\n",
       "      <th></th>\n",
       "      <th></th>\n",
       "    </tr>\n",
       "  </thead>\n",
       "  <tbody>\n",
       "    <tr>\n",
       "      <th>1.0</th>\n",
       "      <td>467.511224</td>\n",
       "      <td>476.150399</td>\n",
       "      <td>474.508327</td>\n",
       "    </tr>\n",
       "    <tr>\n",
       "      <th>2.0</th>\n",
       "      <td>492.978563</td>\n",
       "      <td>496.400384</td>\n",
       "      <td>489.486432</td>\n",
       "    </tr>\n",
       "  </tbody>\n",
       "</table>\n",
       "</div>"
      ],
      "text/plain": [
       "                                ScoreMathematics  ScoreScience  ScoreReading\n",
       "StudentResultsTrackedCentrally                                              \n",
       "1.0                                   467.511224    476.150399    474.508327\n",
       "2.0                                   492.978563    496.400384    489.486432"
      ]
     },
     "execution_count": 78,
     "metadata": {},
     "output_type": "execute_result"
    }
   ],
   "source": [
    "dataset[['StudentResultsTrackedCentrally', 'ScoreMathematics', 'ScoreScience', 'ScoreReading']].groupby(['StudentResultsTrackedCentrally'], as_index=True).mean().sort_values(by='StudentResultsTrackedCentrally', ascending=True)"
   ]
  },
  {
   "cell_type": "markdown",
   "metadata": {},
   "source": [
    "It seems to be a difference. We keep the variable. But we change variable equals two to zero - i.e one implying that it is tracked centrally, while zero means no."
   ]
  },
  {
   "cell_type": "code",
   "execution_count": 79,
   "metadata": {},
   "outputs": [],
   "source": [
    "dataset.loc[(dataset.StudentResultsTrackedCentrally == 2), 'StudentResultsTrackedCentrally'] = 0"
   ]
  },
  {
   "cell_type": "markdown",
   "metadata": {},
   "source": [
    "#### 2.4.2.13 GroupClassesByAbility"
   ]
  },
  {
   "cell_type": "markdown",
   "metadata": {},
   "source": [
    "Students are grouped by ability into different classes. \n",
    "* For all subjects (1)\n",
    "* For some subjects (2)\n",
    "* Not for any subjects (3)\n",
    "\n",
    "We choose to split this variable into:\n",
    "\n",
    "* Not divided by ability (1)\n",
    "* Divided by ability (0)\n",
    "\n",
    "We rename the variable into ClassesNotDividedByAbility."
   ]
  },
  {
   "cell_type": "code",
   "execution_count": 80,
   "metadata": {},
   "outputs": [
    {
     "data": {
      "text/html": [
       "<div>\n",
       "<style scoped>\n",
       "    .dataframe tbody tr th:only-of-type {\n",
       "        vertical-align: middle;\n",
       "    }\n",
       "\n",
       "    .dataframe tbody tr th {\n",
       "        vertical-align: top;\n",
       "    }\n",
       "\n",
       "    .dataframe thead th {\n",
       "        text-align: right;\n",
       "    }\n",
       "</style>\n",
       "<table border=\"1\" class=\"dataframe\">\n",
       "  <thead>\n",
       "    <tr style=\"text-align: right;\">\n",
       "      <th></th>\n",
       "      <th>ScoreMathematics</th>\n",
       "      <th>ScoreScience</th>\n",
       "      <th>ScoreReading</th>\n",
       "    </tr>\n",
       "    <tr>\n",
       "      <th>GroupClassesByAbility</th>\n",
       "      <th></th>\n",
       "      <th></th>\n",
       "      <th></th>\n",
       "    </tr>\n",
       "  </thead>\n",
       "  <tbody>\n",
       "    <tr>\n",
       "      <th>1.0</th>\n",
       "      <td>452.064525</td>\n",
       "      <td>459.644496</td>\n",
       "      <td>454.626660</td>\n",
       "    </tr>\n",
       "    <tr>\n",
       "      <th>2.0</th>\n",
       "      <td>488.620565</td>\n",
       "      <td>497.200147</td>\n",
       "      <td>493.119883</td>\n",
       "    </tr>\n",
       "    <tr>\n",
       "      <th>3.0</th>\n",
       "      <td>468.682392</td>\n",
       "      <td>475.369775</td>\n",
       "      <td>473.590858</td>\n",
       "    </tr>\n",
       "  </tbody>\n",
       "</table>\n",
       "</div>"
      ],
      "text/plain": [
       "                       ScoreMathematics  ScoreScience  ScoreReading\n",
       "GroupClassesByAbility                                              \n",
       "1.0                          452.064525    459.644496    454.626660\n",
       "2.0                          488.620565    497.200147    493.119883\n",
       "3.0                          468.682392    475.369775    473.590858"
      ]
     },
     "execution_count": 80,
     "metadata": {},
     "output_type": "execute_result"
    }
   ],
   "source": [
    "dataset[['GroupClassesByAbility', 'ScoreMathematics', 'ScoreScience', 'ScoreReading']].groupby(['GroupClassesByAbility'], as_index=True).mean().sort_values(by='GroupClassesByAbility', ascending=True)"
   ]
  },
  {
   "cell_type": "code",
   "execution_count": 81,
   "metadata": {},
   "outputs": [],
   "source": [
    "dataset.loc[(dataset.GroupClassesByAbility == 1) | (dataset.GroupClassesByAbility == 2), 'GroupClassesByAbility'] = 1\n",
    "dataset.loc[(dataset.GroupClassesByAbility == 3), 'GroupClassesByAbility'] = 0\n",
    "dataset.rename(columns={'GroupClassesByAbility': 'ClassesNotDividedByAbility'}, inplace=True)"
   ]
  },
  {
   "cell_type": "code",
   "execution_count": 82,
   "metadata": {},
   "outputs": [
    {
     "data": {
      "text/html": [
       "<div>\n",
       "<style scoped>\n",
       "    .dataframe tbody tr th:only-of-type {\n",
       "        vertical-align: middle;\n",
       "    }\n",
       "\n",
       "    .dataframe tbody tr th {\n",
       "        vertical-align: top;\n",
       "    }\n",
       "\n",
       "    .dataframe thead th {\n",
       "        text-align: right;\n",
       "    }\n",
       "</style>\n",
       "<table border=\"1\" class=\"dataframe\">\n",
       "  <thead>\n",
       "    <tr style=\"text-align: right;\">\n",
       "      <th></th>\n",
       "      <th>ScoreMathematics</th>\n",
       "      <th>ScoreScience</th>\n",
       "      <th>ScoreReading</th>\n",
       "    </tr>\n",
       "    <tr>\n",
       "      <th>ClassesNotDividedByAbility</th>\n",
       "      <th></th>\n",
       "      <th></th>\n",
       "      <th></th>\n",
       "    </tr>\n",
       "  </thead>\n",
       "  <tbody>\n",
       "    <tr>\n",
       "      <th>0.0</th>\n",
       "      <td>468.682392</td>\n",
       "      <td>475.369775</td>\n",
       "      <td>473.590858</td>\n",
       "    </tr>\n",
       "    <tr>\n",
       "      <th>1.0</th>\n",
       "      <td>479.734558</td>\n",
       "      <td>488.071155</td>\n",
       "      <td>483.762986</td>\n",
       "    </tr>\n",
       "  </tbody>\n",
       "</table>\n",
       "</div>"
      ],
      "text/plain": [
       "                            ScoreMathematics  ScoreScience  ScoreReading\n",
       "ClassesNotDividedByAbility                                              \n",
       "0.0                               468.682392    475.369775    473.590858\n",
       "1.0                               479.734558    488.071155    483.762986"
      ]
     },
     "execution_count": 82,
     "metadata": {},
     "output_type": "execute_result"
    }
   ],
   "source": [
    "dataset[['ClassesNotDividedByAbility', 'ScoreMathematics', 'ScoreScience', 'ScoreReading']].groupby(['ClassesNotDividedByAbility'], as_index=True).mean().sort_values(by='ClassesNotDividedByAbility', ascending=True)"
   ]
  },
  {
   "cell_type": "markdown",
   "metadata": {},
   "source": [
    "#### 2.4.2.14 EconomicalSocialStatus"
   ]
  },
  {
   "cell_type": "markdown",
   "metadata": {},
   "source": [
    "This variable is represented as a numeric index and is considered a critical variable in explaning student achievement and differences. We decide to split this variable into 5 categories."
   ]
  },
  {
   "cell_type": "code",
   "execution_count": 83,
   "metadata": {},
   "outputs": [
    {
     "data": {
      "text/html": [
       "<div>\n",
       "<style scoped>\n",
       "    .dataframe tbody tr th:only-of-type {\n",
       "        vertical-align: middle;\n",
       "    }\n",
       "\n",
       "    .dataframe tbody tr th {\n",
       "        vertical-align: top;\n",
       "    }\n",
       "\n",
       "    .dataframe thead th {\n",
       "        text-align: right;\n",
       "    }\n",
       "</style>\n",
       "<table border=\"1\" class=\"dataframe\">\n",
       "  <thead>\n",
       "    <tr style=\"text-align: right;\">\n",
       "      <th></th>\n",
       "      <th>ScoreMathematics</th>\n",
       "      <th>ScoreScience</th>\n",
       "      <th>ScoreReading</th>\n",
       "    </tr>\n",
       "    <tr>\n",
       "      <th>ESCS_bands</th>\n",
       "      <th></th>\n",
       "      <th></th>\n",
       "      <th></th>\n",
       "    </tr>\n",
       "  </thead>\n",
       "  <tbody>\n",
       "    <tr>\n",
       "      <th>(-5.872000000000001, -1.183]</th>\n",
       "      <td>422.759680</td>\n",
       "      <td>433.056282</td>\n",
       "      <td>428.079697</td>\n",
       "    </tr>\n",
       "    <tr>\n",
       "      <th>(-1.183, -0.498]</th>\n",
       "      <td>455.354742</td>\n",
       "      <td>460.909140</td>\n",
       "      <td>459.442908</td>\n",
       "    </tr>\n",
       "    <tr>\n",
       "      <th>(-0.498, 0.155]</th>\n",
       "      <td>474.717300</td>\n",
       "      <td>480.455263</td>\n",
       "      <td>477.971947</td>\n",
       "    </tr>\n",
       "    <tr>\n",
       "      <th>(0.155, 0.782]</th>\n",
       "      <td>493.510990</td>\n",
       "      <td>500.796715</td>\n",
       "      <td>498.193030</td>\n",
       "    </tr>\n",
       "    <tr>\n",
       "      <th>(0.782, 3.271]</th>\n",
       "      <td>521.247391</td>\n",
       "      <td>529.416826</td>\n",
       "      <td>526.520107</td>\n",
       "    </tr>\n",
       "  </tbody>\n",
       "</table>\n",
       "</div>"
      ],
      "text/plain": [
       "                              ScoreMathematics  ScoreScience  ScoreReading\n",
       "ESCS_bands                                                                \n",
       "(-5.872000000000001, -1.183]        422.759680    433.056282    428.079697\n",
       "(-1.183, -0.498]                    455.354742    460.909140    459.442908\n",
       "(-0.498, 0.155]                     474.717300    480.455263    477.971947\n",
       "(0.155, 0.782]                      493.510990    500.796715    498.193030\n",
       "(0.782, 3.271]                      521.247391    529.416826    526.520107"
      ]
     },
     "execution_count": 83,
     "metadata": {},
     "output_type": "execute_result"
    }
   ],
   "source": [
    "# cutting the variables into 5 bins with more or less equal distances in mean\n",
    "dataset['ESCS_bands'] = pd.qcut(dataset['EconomicalSocialStatus'], 5)\n",
    "dataset[['ESCS_bands', 'ScoreMathematics', 'ScoreScience', 'ScoreReading']].groupby(['ESCS_bands'], as_index=True).mean().sort_values(by='ESCS_bands', ascending=True)"
   ]
  },
  {
   "cell_type": "markdown",
   "metadata": {},
   "source": [
    "Creating a new variable for economical social status by splitting into the 5 categories (of the five bands above)."
   ]
  },
  {
   "cell_type": "code",
   "execution_count": 84,
   "metadata": {},
   "outputs": [],
   "source": [
    "#ESCS_category\n",
    "dataset['ESCS_category'] = 0\n",
    "dataset.loc[(dataset.EconomicalSocialStatus <= -1.183), 'ESCS_category'] = 0\n",
    "dataset.loc[(dataset.EconomicalSocialStatus > -1.183) & (dataset.EconomicalSocialStatus <= -0.498), 'ESCS_category'] = 1\n",
    "dataset.loc[(dataset.EconomicalSocialStatus > -0.498) & (dataset.EconomicalSocialStatus <= 0.155), 'ESCS_category'] = 2\n",
    "dataset.loc[(dataset.EconomicalSocialStatus > 0.155) & (dataset.EconomicalSocialStatus <= 0.782), 'ESCS_category'] = 3\n",
    "dataset.loc[(dataset.EconomicalSocialStatus >  0.782), 'ESCS_category'] = 4"
   ]
  },
  {
   "cell_type": "markdown",
   "metadata": {},
   "source": [
    "Dropping the original variable as well as the temporary band variable."
   ]
  },
  {
   "cell_type": "code",
   "execution_count": 85,
   "metadata": {},
   "outputs": [],
   "source": [
    "dataset.drop(columns=['EconomicalSocialStatus', 'ESCS_bands'], inplace=True)"
   ]
  },
  {
   "cell_type": "markdown",
   "metadata": {},
   "source": [
    "#### 2.4.2.15 StudentsExpectedOccupationalStatus"
   ]
  },
  {
   "cell_type": "code",
   "execution_count": 86,
   "metadata": {},
   "outputs": [
    {
     "data": {
      "text/html": [
       "<div>\n",
       "<style scoped>\n",
       "    .dataframe tbody tr th:only-of-type {\n",
       "        vertical-align: middle;\n",
       "    }\n",
       "\n",
       "    .dataframe tbody tr th {\n",
       "        vertical-align: top;\n",
       "    }\n",
       "\n",
       "    .dataframe thead th {\n",
       "        text-align: right;\n",
       "    }\n",
       "</style>\n",
       "<table border=\"1\" class=\"dataframe\">\n",
       "  <thead>\n",
       "    <tr style=\"text-align: right;\">\n",
       "      <th></th>\n",
       "      <th>ScoreMathematics</th>\n",
       "      <th>ScoreScience</th>\n",
       "      <th>ScoreReading</th>\n",
       "    </tr>\n",
       "    <tr>\n",
       "      <th>StudentsExpectedOccupationalStatus_Bands</th>\n",
       "      <th></th>\n",
       "      <th></th>\n",
       "      <th></th>\n",
       "    </tr>\n",
       "  </thead>\n",
       "  <tbody>\n",
       "    <tr>\n",
       "      <th>(9.999, 64.0]</th>\n",
       "      <td>459.001469</td>\n",
       "      <td>463.734291</td>\n",
       "      <td>460.693310</td>\n",
       "    </tr>\n",
       "    <tr>\n",
       "      <th>(64.0, 89.0]</th>\n",
       "      <td>488.572290</td>\n",
       "      <td>498.756592</td>\n",
       "      <td>496.032763</td>\n",
       "    </tr>\n",
       "  </tbody>\n",
       "</table>\n",
       "</div>"
      ],
      "text/plain": [
       "                                          ScoreMathematics  ScoreScience  \\\n",
       "StudentsExpectedOccupationalStatus_Bands                                   \n",
       "(9.999, 64.0]                                   459.001469    463.734291   \n",
       "(64.0, 89.0]                                    488.572290    498.756592   \n",
       "\n",
       "                                          ScoreReading  \n",
       "StudentsExpectedOccupationalStatus_Bands                \n",
       "(9.999, 64.0]                               460.693310  \n",
       "(64.0, 89.0]                                496.032763  "
      ]
     },
     "execution_count": 86,
     "metadata": {},
     "output_type": "execute_result"
    }
   ],
   "source": [
    "# splitting students' expected occupational status into 2 categories\n",
    "dataset['StudentsExpectedOccupationalStatus_Bands'] = pd.qcut(dataset['StudentsExpectedOccupationalStatus'], 2)\n",
    "dataset[['StudentsExpectedOccupationalStatus_Bands', 'ScoreMathematics', 'ScoreScience', 'ScoreReading']].groupby(['StudentsExpectedOccupationalStatus_Bands'], as_index=True).mean().sort_values(by='StudentsExpectedOccupationalStatus_Bands', ascending=True)"
   ]
  },
  {
   "cell_type": "markdown",
   "metadata": {},
   "source": [
    "Seeing this - we can observe that the students that expect to get a professional job / higher service (Ganzeboom, 1996)(http://www.harryganzeboom.nl/Pdf/1996-Ganzeboom-Treiman-ISEI88-(SSR).pdf) have a higher mean. We do the split for this variable for here and call the variable, \"StudentExpectGoodJob\"."
   ]
  },
  {
   "cell_type": "code",
   "execution_count": 87,
   "metadata": {},
   "outputs": [],
   "source": [
    "#StudentExpectGoodJob\n",
    "dataset['StudentExpectGoodJob'] = 0\n",
    "dataset.loc[(dataset.StudentsExpectedOccupationalStatus <= 64), 'StudentExpectGoodJob'] = 0\n",
    "dataset.loc[(dataset.StudentsExpectedOccupationalStatus > 64), 'StudentExpectGoodJob'] = 1"
   ]
  },
  {
   "cell_type": "markdown",
   "metadata": {},
   "source": [
    "Dropping the original variable as well as the temporary band variable."
   ]
  },
  {
   "cell_type": "code",
   "execution_count": 88,
   "metadata": {},
   "outputs": [],
   "source": [
    "dataset.drop(columns=['StudentsExpectedOccupationalStatus', 'StudentsExpectedOccupationalStatus_Bands'], inplace=True)"
   ]
  },
  {
   "cell_type": "markdown",
   "metadata": {},
   "source": [
    "## 2.5 Saving final dataset"
   ]
  },
  {
   "cell_type": "markdown",
   "metadata": {},
   "source": [
    "Before saving the dataset, we add some additional information about the countries: name and continent. Using a codebook from: https://github.com/lukes/ISO-3166-Countries-with-Regional-Codes/blob/master/all/all.csv?fbclid=IwAR39qIprj8YNTdjx-dFsWh96C2hJESZBbvEQtuD7Tc-EjtbNWsHtx7onKb0"
   ]
  },
  {
   "cell_type": "code",
   "execution_count": 89,
   "metadata": {},
   "outputs": [],
   "source": [
    "country_info = pd.read_csv('iso-codes.csv')\n",
    "dataset_temp = pd.merge(dataset, country_info, on='Country', how='left')\n",
    "dataset = dataset_temp"
   ]
  },
  {
   "cell_type": "code",
   "execution_count": 90,
   "metadata": {},
   "outputs": [
    {
     "data": {
      "text/html": [
       "<div>\n",
       "<style scoped>\n",
       "    .dataframe tbody tr th:only-of-type {\n",
       "        vertical-align: middle;\n",
       "    }\n",
       "\n",
       "    .dataframe tbody tr th {\n",
       "        vertical-align: top;\n",
       "    }\n",
       "\n",
       "    .dataframe thead th {\n",
       "        text-align: right;\n",
       "    }\n",
       "</style>\n",
       "<table border=\"1\" class=\"dataframe\">\n",
       "  <thead>\n",
       "    <tr style=\"text-align: right;\">\n",
       "      <th></th>\n",
       "      <th>CountryID</th>\n",
       "      <th>Country</th>\n",
       "      <th>SchoolID</th>\n",
       "      <th>StudentID</th>\n",
       "      <th>Region</th>\n",
       "      <th>IsMale</th>\n",
       "      <th>HaveComputer</th>\n",
       "      <th>HaveInternet</th>\n",
       "      <th>HaveMusicalInstrument</th>\n",
       "      <th>BooksAtHome</th>\n",
       "      <th>EthnicGroupCategory</th>\n",
       "      <th>IsLonely</th>\n",
       "      <th>MusicActvityAtSchool</th>\n",
       "      <th>AvailableRoomForHomework</th>\n",
       "      <th>StaffHelpForHomework</th>\n",
       "      <th>IsPrivateSchool</th>\n",
       "      <th>FullyCertifiedTeacherStaff</th>\n",
       "      <th>StudentResultsTrackedCentrally</th>\n",
       "      <th>ClassesNotDividedByAbility</th>\n",
       "      <th>ScoreScience</th>\n",
       "      <th>ScoreReading</th>\n",
       "      <th>ScoreMathematics</th>\n",
       "      <th>FatherIsUnemployed</th>\n",
       "      <th>MotherIsUnemployed</th>\n",
       "      <th>FatherLowOccupationalStatus</th>\n",
       "      <th>FatherMiddleOccupationalStatus</th>\n",
       "      <th>FatherHighOccupationalStatus</th>\n",
       "      <th>MotherLowOccupationalStatus</th>\n",
       "      <th>MotherMiddleOccupationalStatus</th>\n",
       "      <th>MotherHighOccupationalStatus</th>\n",
       "      <th>FatherCompulsorySchoolIsHighest</th>\n",
       "      <th>FatherHighSchoolIsHighest</th>\n",
       "      <th>FatherHigherEducationIsHighest</th>\n",
       "      <th>MotherCompulsorySchoolIsHighest</th>\n",
       "      <th>MotherHighSchoolIsHighest</th>\n",
       "      <th>MotherHigherEducationIsHighest</th>\n",
       "      <th>IsCity</th>\n",
       "      <th>MaleSchoolRatio</th>\n",
       "      <th>CentralAuthorityDecidesCourseContents</th>\n",
       "      <th>ESCS_category</th>\n",
       "      <th>StudentExpectGoodJob</th>\n",
       "      <th>CountryName</th>\n",
       "      <th>Continent</th>\n",
       "    </tr>\n",
       "  </thead>\n",
       "  <tbody>\n",
       "    <tr>\n",
       "      <th>0</th>\n",
       "      <td>12.0</td>\n",
       "      <td>DZA</td>\n",
       "      <td>1200001.0</td>\n",
       "      <td>1202308.0</td>\n",
       "      <td>1200.0</td>\n",
       "      <td>1.0</td>\n",
       "      <td>0.0</td>\n",
       "      <td>0.0</td>\n",
       "      <td>0.0</td>\n",
       "      <td>2.0</td>\n",
       "      <td>0.0</td>\n",
       "      <td>0.0</td>\n",
       "      <td>0.0</td>\n",
       "      <td>1.0</td>\n",
       "      <td>1.0</td>\n",
       "      <td>0.0</td>\n",
       "      <td>0.0</td>\n",
       "      <td>1.0</td>\n",
       "      <td>1.0</td>\n",
       "      <td>408.369</td>\n",
       "      <td>289.799</td>\n",
       "      <td>358.932</td>\n",
       "      <td>0</td>\n",
       "      <td>1</td>\n",
       "      <td>0</td>\n",
       "      <td>1</td>\n",
       "      <td>0</td>\n",
       "      <td>0</td>\n",
       "      <td>0</td>\n",
       "      <td>0</td>\n",
       "      <td>0</td>\n",
       "      <td>1</td>\n",
       "      <td>0</td>\n",
       "      <td>0</td>\n",
       "      <td>0</td>\n",
       "      <td>1</td>\n",
       "      <td>0</td>\n",
       "      <td>0.49458</td>\n",
       "      <td>1</td>\n",
       "      <td>1</td>\n",
       "      <td>1</td>\n",
       "      <td>Algeria</td>\n",
       "      <td>Africa</td>\n",
       "    </tr>\n",
       "    <tr>\n",
       "      <th>1</th>\n",
       "      <td>12.0</td>\n",
       "      <td>DZA</td>\n",
       "      <td>1200001.0</td>\n",
       "      <td>1204208.0</td>\n",
       "      <td>1200.0</td>\n",
       "      <td>1.0</td>\n",
       "      <td>0.0</td>\n",
       "      <td>0.0</td>\n",
       "      <td>0.0</td>\n",
       "      <td>2.0</td>\n",
       "      <td>0.0</td>\n",
       "      <td>0.0</td>\n",
       "      <td>0.0</td>\n",
       "      <td>1.0</td>\n",
       "      <td>1.0</td>\n",
       "      <td>0.0</td>\n",
       "      <td>0.0</td>\n",
       "      <td>1.0</td>\n",
       "      <td>1.0</td>\n",
       "      <td>372.052</td>\n",
       "      <td>340.547</td>\n",
       "      <td>327.561</td>\n",
       "      <td>0</td>\n",
       "      <td>1</td>\n",
       "      <td>1</td>\n",
       "      <td>0</td>\n",
       "      <td>0</td>\n",
       "      <td>0</td>\n",
       "      <td>0</td>\n",
       "      <td>0</td>\n",
       "      <td>0</td>\n",
       "      <td>0</td>\n",
       "      <td>1</td>\n",
       "      <td>0</td>\n",
       "      <td>0</td>\n",
       "      <td>1</td>\n",
       "      <td>0</td>\n",
       "      <td>0.49458</td>\n",
       "      <td>1</td>\n",
       "      <td>0</td>\n",
       "      <td>1</td>\n",
       "      <td>Algeria</td>\n",
       "      <td>Africa</td>\n",
       "    </tr>\n",
       "    <tr>\n",
       "      <th>2</th>\n",
       "      <td>12.0</td>\n",
       "      <td>DZA</td>\n",
       "      <td>1200001.0</td>\n",
       "      <td>1200355.0</td>\n",
       "      <td>1200.0</td>\n",
       "      <td>1.0</td>\n",
       "      <td>0.0</td>\n",
       "      <td>0.0</td>\n",
       "      <td>0.0</td>\n",
       "      <td>1.0</td>\n",
       "      <td>0.0</td>\n",
       "      <td>0.0</td>\n",
       "      <td>0.0</td>\n",
       "      <td>1.0</td>\n",
       "      <td>1.0</td>\n",
       "      <td>0.0</td>\n",
       "      <td>0.0</td>\n",
       "      <td>1.0</td>\n",
       "      <td>1.0</td>\n",
       "      <td>351.243</td>\n",
       "      <td>254.556</td>\n",
       "      <td>267.200</td>\n",
       "      <td>0</td>\n",
       "      <td>1</td>\n",
       "      <td>0</td>\n",
       "      <td>1</td>\n",
       "      <td>0</td>\n",
       "      <td>0</td>\n",
       "      <td>0</td>\n",
       "      <td>0</td>\n",
       "      <td>1</td>\n",
       "      <td>0</td>\n",
       "      <td>0</td>\n",
       "      <td>1</td>\n",
       "      <td>0</td>\n",
       "      <td>0</td>\n",
       "      <td>0</td>\n",
       "      <td>0.49458</td>\n",
       "      <td>1</td>\n",
       "      <td>0</td>\n",
       "      <td>1</td>\n",
       "      <td>Algeria</td>\n",
       "      <td>Africa</td>\n",
       "    </tr>\n",
       "    <tr>\n",
       "      <th>3</th>\n",
       "      <td>12.0</td>\n",
       "      <td>DZA</td>\n",
       "      <td>1200001.0</td>\n",
       "      <td>1203120.0</td>\n",
       "      <td>1200.0</td>\n",
       "      <td>0.0</td>\n",
       "      <td>1.0</td>\n",
       "      <td>1.0</td>\n",
       "      <td>0.0</td>\n",
       "      <td>3.0</td>\n",
       "      <td>0.0</td>\n",
       "      <td>0.0</td>\n",
       "      <td>0.0</td>\n",
       "      <td>1.0</td>\n",
       "      <td>1.0</td>\n",
       "      <td>0.0</td>\n",
       "      <td>0.0</td>\n",
       "      <td>1.0</td>\n",
       "      <td>1.0</td>\n",
       "      <td>426.480</td>\n",
       "      <td>356.052</td>\n",
       "      <td>430.842</td>\n",
       "      <td>0</td>\n",
       "      <td>0</td>\n",
       "      <td>1</td>\n",
       "      <td>0</td>\n",
       "      <td>0</td>\n",
       "      <td>1</td>\n",
       "      <td>0</td>\n",
       "      <td>0</td>\n",
       "      <td>0</td>\n",
       "      <td>1</td>\n",
       "      <td>0</td>\n",
       "      <td>0</td>\n",
       "      <td>1</td>\n",
       "      <td>0</td>\n",
       "      <td>0</td>\n",
       "      <td>0.49458</td>\n",
       "      <td>1</td>\n",
       "      <td>1</td>\n",
       "      <td>0</td>\n",
       "      <td>Algeria</td>\n",
       "      <td>Africa</td>\n",
       "    </tr>\n",
       "    <tr>\n",
       "      <th>4</th>\n",
       "      <td>12.0</td>\n",
       "      <td>DZA</td>\n",
       "      <td>1200001.0</td>\n",
       "      <td>1202516.0</td>\n",
       "      <td>1200.0</td>\n",
       "      <td>0.0</td>\n",
       "      <td>0.0</td>\n",
       "      <td>1.0</td>\n",
       "      <td>0.0</td>\n",
       "      <td>1.0</td>\n",
       "      <td>0.0</td>\n",
       "      <td>0.0</td>\n",
       "      <td>0.0</td>\n",
       "      <td>1.0</td>\n",
       "      <td>1.0</td>\n",
       "      <td>0.0</td>\n",
       "      <td>0.0</td>\n",
       "      <td>1.0</td>\n",
       "      <td>1.0</td>\n",
       "      <td>418.224</td>\n",
       "      <td>358.195</td>\n",
       "      <td>329.185</td>\n",
       "      <td>0</td>\n",
       "      <td>1</td>\n",
       "      <td>0</td>\n",
       "      <td>1</td>\n",
       "      <td>0</td>\n",
       "      <td>0</td>\n",
       "      <td>0</td>\n",
       "      <td>0</td>\n",
       "      <td>1</td>\n",
       "      <td>0</td>\n",
       "      <td>0</td>\n",
       "      <td>0</td>\n",
       "      <td>1</td>\n",
       "      <td>0</td>\n",
       "      <td>0</td>\n",
       "      <td>0.49458</td>\n",
       "      <td>1</td>\n",
       "      <td>0</td>\n",
       "      <td>0</td>\n",
       "      <td>Algeria</td>\n",
       "      <td>Africa</td>\n",
       "    </tr>\n",
       "  </tbody>\n",
       "</table>\n",
       "</div>"
      ],
      "text/plain": [
       "   CountryID Country   SchoolID  StudentID  Region  IsMale  HaveComputer  \\\n",
       "0       12.0     DZA  1200001.0  1202308.0  1200.0     1.0           0.0   \n",
       "1       12.0     DZA  1200001.0  1204208.0  1200.0     1.0           0.0   \n",
       "2       12.0     DZA  1200001.0  1200355.0  1200.0     1.0           0.0   \n",
       "3       12.0     DZA  1200001.0  1203120.0  1200.0     0.0           1.0   \n",
       "4       12.0     DZA  1200001.0  1202516.0  1200.0     0.0           0.0   \n",
       "\n",
       "   HaveInternet  HaveMusicalInstrument  BooksAtHome  EthnicGroupCategory  \\\n",
       "0           0.0                    0.0          2.0                  0.0   \n",
       "1           0.0                    0.0          2.0                  0.0   \n",
       "2           0.0                    0.0          1.0                  0.0   \n",
       "3           1.0                    0.0          3.0                  0.0   \n",
       "4           1.0                    0.0          1.0                  0.0   \n",
       "\n",
       "   IsLonely  MusicActvityAtSchool  AvailableRoomForHomework  \\\n",
       "0       0.0                   0.0                       1.0   \n",
       "1       0.0                   0.0                       1.0   \n",
       "2       0.0                   0.0                       1.0   \n",
       "3       0.0                   0.0                       1.0   \n",
       "4       0.0                   0.0                       1.0   \n",
       "\n",
       "   StaffHelpForHomework  IsPrivateSchool  FullyCertifiedTeacherStaff  \\\n",
       "0                   1.0              0.0                         0.0   \n",
       "1                   1.0              0.0                         0.0   \n",
       "2                   1.0              0.0                         0.0   \n",
       "3                   1.0              0.0                         0.0   \n",
       "4                   1.0              0.0                         0.0   \n",
       "\n",
       "   StudentResultsTrackedCentrally  ClassesNotDividedByAbility  ScoreScience  \\\n",
       "0                             1.0                         1.0       408.369   \n",
       "1                             1.0                         1.0       372.052   \n",
       "2                             1.0                         1.0       351.243   \n",
       "3                             1.0                         1.0       426.480   \n",
       "4                             1.0                         1.0       418.224   \n",
       "\n",
       "   ScoreReading  ScoreMathematics  FatherIsUnemployed  MotherIsUnemployed  \\\n",
       "0       289.799           358.932                   0                   1   \n",
       "1       340.547           327.561                   0                   1   \n",
       "2       254.556           267.200                   0                   1   \n",
       "3       356.052           430.842                   0                   0   \n",
       "4       358.195           329.185                   0                   1   \n",
       "\n",
       "   FatherLowOccupationalStatus  FatherMiddleOccupationalStatus  \\\n",
       "0                            0                               1   \n",
       "1                            1                               0   \n",
       "2                            0                               1   \n",
       "3                            1                               0   \n",
       "4                            0                               1   \n",
       "\n",
       "   FatherHighOccupationalStatus  MotherLowOccupationalStatus  \\\n",
       "0                             0                            0   \n",
       "1                             0                            0   \n",
       "2                             0                            0   \n",
       "3                             0                            1   \n",
       "4                             0                            0   \n",
       "\n",
       "   MotherMiddleOccupationalStatus  MotherHighOccupationalStatus  \\\n",
       "0                               0                             0   \n",
       "1                               0                             0   \n",
       "2                               0                             0   \n",
       "3                               0                             0   \n",
       "4                               0                             0   \n",
       "\n",
       "   FatherCompulsorySchoolIsHighest  FatherHighSchoolIsHighest  \\\n",
       "0                                0                          1   \n",
       "1                                0                          0   \n",
       "2                                1                          0   \n",
       "3                                0                          1   \n",
       "4                                1                          0   \n",
       "\n",
       "   FatherHigherEducationIsHighest  MotherCompulsorySchoolIsHighest  \\\n",
       "0                               0                                0   \n",
       "1                               1                                0   \n",
       "2                               0                                1   \n",
       "3                               0                                0   \n",
       "4                               0                                0   \n",
       "\n",
       "   MotherHighSchoolIsHighest  MotherHigherEducationIsHighest  IsCity  \\\n",
       "0                          0                               1       0   \n",
       "1                          0                               1       0   \n",
       "2                          0                               0       0   \n",
       "3                          1                               0       0   \n",
       "4                          1                               0       0   \n",
       "\n",
       "   MaleSchoolRatio  CentralAuthorityDecidesCourseContents  ESCS_category  \\\n",
       "0          0.49458                                      1              1   \n",
       "1          0.49458                                      1              0   \n",
       "2          0.49458                                      1              0   \n",
       "3          0.49458                                      1              1   \n",
       "4          0.49458                                      1              0   \n",
       "\n",
       "   StudentExpectGoodJob CountryName Continent  \n",
       "0                     1     Algeria    Africa  \n",
       "1                     1     Algeria    Africa  \n",
       "2                     1     Algeria    Africa  \n",
       "3                     0     Algeria    Africa  \n",
       "4                     0     Algeria    Africa  "
      ]
     },
     "execution_count": 90,
     "metadata": {},
     "output_type": "execute_result"
    }
   ],
   "source": [
    "dataset.head()"
   ]
  },
  {
   "cell_type": "code",
   "execution_count": 91,
   "metadata": {},
   "outputs": [],
   "source": [
    "# saving dataset as csv-file\n",
    "dataset.to_csv('dataset_final.csv', index=False)"
   ]
  },
  {
   "cell_type": "markdown",
   "metadata": {},
   "source": [
    "# 3 Modeling"
   ]
  },
  {
   "cell_type": "markdown",
   "metadata": {},
   "source": [
    "I will in this chapter demonstrate the different algorithms and models put to the data to obtain results."
   ]
  },
  {
   "cell_type": "markdown",
   "metadata": {},
   "source": [
    "## 3.1 Importing necessary libaries"
   ]
  },
  {
   "cell_type": "code",
   "execution_count": 92,
   "metadata": {},
   "outputs": [],
   "source": [
    "from sklearn import linear_model\n",
    "from sklearn.cluster import KMeans\n",
    "from sklearn.metrics import silhouette_samples, silhouette_score\n",
    "\n",
    "import matplotlib.pyplot as plt\n",
    "%matplotlib inline\n",
    "\n",
    "import numpy as np\n",
    "\n",
    "import scipy.stats as stats"
   ]
  },
  {
   "cell_type": "markdown",
   "metadata": {},
   "source": [
    "## 3.2 Importing the data"
   ]
  },
  {
   "cell_type": "code",
   "execution_count": 93,
   "metadata": {},
   "outputs": [],
   "source": [
    "dataset = pd.read_csv('dataset_final.csv')"
   ]
  },
  {
   "cell_type": "markdown",
   "metadata": {},
   "source": [
    "Preparing dataframes for analysis by splitting independent and dependent variables. Make notice that I purposly exlude country from the dataframe with independent variables because it would disturb the clusters significantly as countries perform very differently and that our unit of analysis here is student.\n",
    "\n",
    "Choosing a small selection of the independent variables first. Here you can use my code and expand it with even more variables. I have in my selection dropped:\n",
    "* StudentID\n",
    "* CountryID\n",
    "* Country\n",
    "* CountryName\n",
    "* Continent\n",
    "* SchoolID\n",
    "* Region\n",
    "* FatherIsUnemployed\n",
    "* MotherIsUnemployed\n",
    "* ScoreScience\n",
    "* ScoreReading\n",
    "* ScoreMathematics"
   ]
  },
  {
   "cell_type": "code",
   "execution_count": 94,
   "metadata": {},
   "outputs": [],
   "source": [
    "dataset_x = dataset.drop(columns=['StudentID', 'CountryID', 'Country', 'CountryName', 'Continent', 'SchoolID', 'Region', 'FatherIsUnemployed', 'MotherIsUnemployed', 'ScoreScience', 'ScoreReading', 'ScoreMathematics'])"
   ]
  },
  {
   "cell_type": "code",
   "execution_count": 95,
   "metadata": {},
   "outputs": [],
   "source": [
    "dataset_y_science = dataset['ScoreScience']\n",
    "dataset_y_reading = dataset['ScoreReading']\n",
    "dataset_y_mathematics = dataset['ScoreMathematics']"
   ]
  },
  {
   "cell_type": "markdown",
   "metadata": {},
   "source": [
    "## 3.3 K-Means - labeling the data"
   ]
  },
  {
   "cell_type": "markdown",
   "metadata": {},
   "source": [
    "We decided that we wanted to look at the data as much we could without bias. We therefore used unsupervised learning to learn patterns in the data and to use these clusters to label the data instead of arbitrarily choosing one."
   ]
  },
  {
   "cell_type": "code",
   "execution_count": 96,
   "metadata": {},
   "outputs": [
    {
     "data": {
      "text/plain": [
       "(247237, 43)"
      ]
     },
     "execution_count": 96,
     "metadata": {},
     "output_type": "execute_result"
    }
   ],
   "source": [
    "dataset.shape"
   ]
  },
  {
   "cell_type": "markdown",
   "metadata": {},
   "source": [
    "I used both the Elbow and Silhouette method to ensure the number of clusters to choose. After trying K-means with k-different many clusters, and repeated process to ensure stability, the results indicate that 4 clusters is the better option."
   ]
  },
  {
   "cell_type": "markdown",
   "metadata": {},
   "source": [
    "### 3.3.1 Cluster validation (k = 4)"
   ]
  },
  {
   "cell_type": "markdown",
   "metadata": {},
   "source": [
    "Elbow method:"
   ]
  },
  {
   "cell_type": "code",
   "execution_count": 97,
   "metadata": {},
   "outputs": [],
   "source": [
    "# Run the Kmeans algorithm and get the index of data points clusters\n",
    "sse = []\n",
    "list_k = list(range(1, 15))\n",
    "\n",
    "for k in list_k:\n",
    "    km = KMeans(n_clusters=k, random_state=5)\n",
    "    km.fit(dataset_x)\n",
    "    sse.append(km.inertia_)"
   ]
  },
  {
   "cell_type": "code",
   "execution_count": 98,
   "metadata": {},
   "outputs": [
    {
     "data": {
      "image/png": "[encoded data removed]",
      "text/plain": [
       "<Figure size 360x360 with 1 Axes>"
      ]
     },
     "metadata": {
      "needs_background": "light"
     },
     "output_type": "display_data"
    }
   ],
   "source": [
    "# Plot sse against k\n",
    "plt.figure(figsize=(5, 5))\n",
    "plt.plot(list_k, sse, '-o')\n",
    "plt.xlabel(r'Number of clusters *k*')\n",
    "plt.ylabel('Sum of squared distance');"
   ]
  },
  {
   "cell_type": "markdown",
   "metadata": {},
   "source": [
    "Silhouette method:\n",
    "\n",
    "To further confirm the clusters, we use indication from the Elbow method to see which cluster size that gives better average Silhouette score."
   ]
  },
  {
   "cell_type": "code",
   "execution_count": 99,
   "metadata": {},
   "outputs": [
    {
     "name": "stdout",
     "output_type": "stream",
     "text": [
      "For n_clusters = 4 The average silhouette_score is : 0.1323863116186846\n",
      "For n_clusters = 5 The average silhouette_score is : 0.10445728077775106\n",
      "For n_clusters = 6 The average silhouette_score is : 0.09682797576245693\n"
     ]
    }
   ],
   "source": [
    "list_k = list(range(4, 7))\n",
    "n_clusters = 4\n",
    "\n",
    "for n_clusters in list_k:\n",
    "    # Initialize the clusterer with n_clusters value and a random generator seed of 10 for reproducibility.\n",
    "    clusterer = KMeans(n_clusters=n_clusters, random_state=5)\n",
    "    cluster_labels = clusterer.fit_predict(dataset_x)\n",
    "\n",
    "    # The silhouette_score gives the average value for all the samples. This gives a perspective into the density and separation of the formed clusters\n",
    "    silhouette_avg = silhouette_score(dataset_x, cluster_labels)\n",
    "    print(\"For n_clusters =\", n_clusters,\n",
    "          \"The average silhouette_score is :\", silhouette_avg)"
   ]
  },
  {
   "cell_type": "markdown",
   "metadata": {},
   "source": [
    "### 3.3.2 Assigning the labels"
   ]
  },
  {
   "cell_type": "markdown",
   "metadata": {},
   "source": [
    "With a chosen amount of clusters, we use random_state = 5 for reproducability, and display some preliminary results on the data."
   ]
  },
  {
   "cell_type": "code",
   "execution_count": 100,
   "metadata": {},
   "outputs": [],
   "source": [
    "n_clusters = 4"
   ]
  },
  {
   "cell_type": "code",
   "execution_count": 101,
   "metadata": {},
   "outputs": [],
   "source": [
    "kmeans = KMeans(n_clusters=n_clusters, random_state=5)\n",
    "kmeans = kmeans.fit(dataset_x)\n",
    "labels = kmeans.predict(dataset_x)"
   ]
  },
  {
   "cell_type": "markdown",
   "metadata": {},
   "source": [
    "We also create the centroids and get the identification of these."
   ]
  },
  {
   "cell_type": "code",
   "execution_count": 102,
   "metadata": {},
   "outputs": [
    {
     "data": {
      "text/plain": [
       "array([[0.45771384, 0.89797483, 0.93719471, 0.62728634, 3.69618854,\n",
       "        0.07291332, 0.14686063, 0.56293008, 0.65974971, 0.52588512,\n",
       "        0.17404714, 0.54130567, 0.72560345, 0.41945663, 0.40571184,\n",
       "        0.39792135, 0.10518059, 0.40528399, 0.31586266, 0.06790388,\n",
       "        0.21772382, 0.56781474, 0.19757906, 0.20649267, 0.57262809,\n",
       "        0.20492388, 0.35501123, 0.50178124, 0.321193  , 1.36873819,\n",
       "        0.43846044],\n",
       "       [0.47693546, 0.96778237, 0.99014283, 0.81837736, 4.32086099,\n",
       "        0.12068459, 0.14030608, 0.66629528, 0.70611083, 0.57799855,\n",
       "        0.31849342, 0.53388113, 0.75278152, 0.49011962, 0.08733733,\n",
       "        0.1967411 , 0.65422528, 0.06285688, 0.23004194, 0.60065302,\n",
       "        0.03480185, 0.17281773, 0.79064729, 0.02494468, 0.14863129,\n",
       "        0.82501586, 0.51295978, 0.49633906, 0.27765656, 3.65889853,\n",
       "        0.6121969 ],\n",
       "       [0.48121256, 0.67117604, 0.71259313, 0.35449233, 1.71490139,\n",
       "        0.08889701, 0.17821768, 0.47978086, 0.58720234, 0.45776479,\n",
       "        0.12972973, 0.46315559, 0.78371074, 0.38445581, 0.56921841,\n",
       "        0.3011103 , 0.03608473, 0.4798393 , 0.17846603, 0.01716581,\n",
       "        0.45929876, 0.36279036, 0.0990504 , 0.46724617, 0.35649379,\n",
       "        0.08965668, 0.29772096, 0.50561846, 0.42487947, 0.35681519,\n",
       "        0.40902849],\n",
       "       [0.52133632, 0.93020493, 0.9618736 , 0.58370932, 2.16338901,\n",
       "        0.15136904, 0.15381436, 0.6010849 , 0.62197348, 0.55319442,\n",
       "        0.24892371, 0.46288962, 0.79109695, 0.45861891, 0.168228  ,\n",
       "        0.32695023, 0.42355778, 0.15805063, 0.32083692, 0.34711555,\n",
       "        0.07475461, 0.28370932, 0.63574996, 0.07050112, 0.27694162,\n",
       "        0.64659893, 0.43643878, 0.50592151, 0.33943516, 2.70082659,\n",
       "        0.50296194]])"
      ]
     },
     "execution_count": 102,
     "metadata": {},
     "output_type": "execute_result"
    }
   ],
   "source": [
    "centroids = kmeans.cluster_centers_\n",
    "centroids"
   ]
  },
  {
   "cell_type": "markdown",
   "metadata": {},
   "source": [
    "Creating a variable names \"StudentCategory\" to place the created labels. We also show the mean scores for the four labels."
   ]
  },
  {
   "cell_type": "code",
   "execution_count": 103,
   "metadata": {
    "scrolled": true
   },
   "outputs": [
    {
     "data": {
      "text/html": [
       "<div>\n",
       "<style scoped>\n",
       "    .dataframe tbody tr th:only-of-type {\n",
       "        vertical-align: middle;\n",
       "    }\n",
       "\n",
       "    .dataframe tbody tr th {\n",
       "        vertical-align: top;\n",
       "    }\n",
       "\n",
       "    .dataframe thead th {\n",
       "        text-align: right;\n",
       "    }\n",
       "</style>\n",
       "<table border=\"1\" class=\"dataframe\">\n",
       "  <thead>\n",
       "    <tr style=\"text-align: right;\">\n",
       "      <th></th>\n",
       "      <th>ScoreMathematics</th>\n",
       "      <th>ScoreScience</th>\n",
       "      <th>ScoreReading</th>\n",
       "    </tr>\n",
       "    <tr>\n",
       "      <th>StudentCategory</th>\n",
       "      <th></th>\n",
       "      <th></th>\n",
       "      <th></th>\n",
       "    </tr>\n",
       "  </thead>\n",
       "  <tbody>\n",
       "    <tr>\n",
       "      <th>1</th>\n",
       "      <td>527.354013</td>\n",
       "      <td>535.366931</td>\n",
       "      <td>532.363041</td>\n",
       "    </tr>\n",
       "    <tr>\n",
       "      <th>0</th>\n",
       "      <td>486.077546</td>\n",
       "      <td>491.242692</td>\n",
       "      <td>489.044638</td>\n",
       "    </tr>\n",
       "    <tr>\n",
       "      <th>3</th>\n",
       "      <td>462.232244</td>\n",
       "      <td>469.072815</td>\n",
       "      <td>466.722041</td>\n",
       "    </tr>\n",
       "    <tr>\n",
       "      <th>2</th>\n",
       "      <td>421.958572</td>\n",
       "      <td>431.117512</td>\n",
       "      <td>427.327697</td>\n",
       "    </tr>\n",
       "  </tbody>\n",
       "</table>\n",
       "</div>"
      ],
      "text/plain": [
       "                 ScoreMathematics  ScoreScience  ScoreReading\n",
       "StudentCategory                                              \n",
       "1                      527.354013    535.366931    532.363041\n",
       "0                      486.077546    491.242692    489.044638\n",
       "3                      462.232244    469.072815    466.722041\n",
       "2                      421.958572    431.117512    427.327697"
      ]
     },
     "execution_count": 103,
     "metadata": {},
     "output_type": "execute_result"
    }
   ],
   "source": [
    "dataset['StudentCategory'] = labels\n",
    "dataset[['StudentCategory', 'ScoreMathematics', 'ScoreScience', 'ScoreReading']].groupby(['StudentCategory'], as_index=True).mean().sort_values(by='ScoreScience', ascending=False)"
   ]
  },
  {
   "cell_type": "markdown",
   "metadata": {},
   "source": [
    "Seeing there are clear mean score differences between the labels, we decide to name them accordingly."
   ]
  },
  {
   "cell_type": "code",
   "execution_count": 104,
   "metadata": {},
   "outputs": [],
   "source": [
    "dataset['StudentCategoryType'] = 0\n",
    "dataset.loc[(dataset['StudentCategory'] == 2), 'StudentCategoryType'] = 'Low scoring group'\n",
    "dataset.loc[(dataset['StudentCategory'] == 1), 'StudentCategoryType'] = 'High scoring group'\n",
    "dataset.loc[(dataset['StudentCategory'] == 0), 'StudentCategoryType'] = 'Upper middle scoring group'\n",
    "dataset.loc[(dataset['StudentCategory'] == 3), 'StudentCategoryType'] = 'Lower middle scoring group'"
   ]
  },
  {
   "cell_type": "code",
   "execution_count": 105,
   "metadata": {},
   "outputs": [
    {
     "data": {
      "text/html": [
       "<div>\n",
       "<style scoped>\n",
       "    .dataframe tbody tr th:only-of-type {\n",
       "        vertical-align: middle;\n",
       "    }\n",
       "\n",
       "    .dataframe tbody tr th {\n",
       "        vertical-align: top;\n",
       "    }\n",
       "\n",
       "    .dataframe thead th {\n",
       "        text-align: right;\n",
       "    }\n",
       "</style>\n",
       "<table border=\"1\" class=\"dataframe\">\n",
       "  <thead>\n",
       "    <tr style=\"text-align: right;\">\n",
       "      <th></th>\n",
       "      <th>StudentCategory</th>\n",
       "      <th>ScoreMathematics</th>\n",
       "      <th>ScoreScience</th>\n",
       "      <th>ScoreReading</th>\n",
       "    </tr>\n",
       "    <tr>\n",
       "      <th>StudentCategoryType</th>\n",
       "      <th></th>\n",
       "      <th></th>\n",
       "      <th></th>\n",
       "      <th></th>\n",
       "    </tr>\n",
       "  </thead>\n",
       "  <tbody>\n",
       "    <tr>\n",
       "      <th>High scoring group</th>\n",
       "      <td>1</td>\n",
       "      <td>527.354013</td>\n",
       "      <td>535.366931</td>\n",
       "      <td>532.363041</td>\n",
       "    </tr>\n",
       "    <tr>\n",
       "      <th>Upper middle scoring group</th>\n",
       "      <td>0</td>\n",
       "      <td>486.077546</td>\n",
       "      <td>491.242692</td>\n",
       "      <td>489.044638</td>\n",
       "    </tr>\n",
       "    <tr>\n",
       "      <th>Lower middle scoring group</th>\n",
       "      <td>3</td>\n",
       "      <td>462.232244</td>\n",
       "      <td>469.072815</td>\n",
       "      <td>466.722041</td>\n",
       "    </tr>\n",
       "    <tr>\n",
       "      <th>Low scoring group</th>\n",
       "      <td>2</td>\n",
       "      <td>421.958572</td>\n",
       "      <td>431.117512</td>\n",
       "      <td>427.327697</td>\n",
       "    </tr>\n",
       "  </tbody>\n",
       "</table>\n",
       "</div>"
      ],
      "text/plain": [
       "                            StudentCategory  ScoreMathematics  ScoreScience  \\\n",
       "StudentCategoryType                                                           \n",
       "High scoring group                        1        527.354013    535.366931   \n",
       "Upper middle scoring group                0        486.077546    491.242692   \n",
       "Lower middle scoring group                3        462.232244    469.072815   \n",
       "Low scoring group                         2        421.958572    431.117512   \n",
       "\n",
       "                            ScoreReading  \n",
       "StudentCategoryType                       \n",
       "High scoring group            532.363041  \n",
       "Upper middle scoring group    489.044638  \n",
       "Lower middle scoring group    466.722041  \n",
       "Low scoring group             427.327697  "
      ]
     },
     "execution_count": 105,
     "metadata": {},
     "output_type": "execute_result"
    }
   ],
   "source": [
    "#StudentCategory\n",
    "dataset[['StudentCategoryType', 'StudentCategory', 'ScoreMathematics', 'ScoreScience', 'ScoreReading']].groupby(['StudentCategoryType'], as_index=True).mean().sort_values(by='ScoreScience', ascending=False)"
   ]
  },
  {
   "cell_type": "markdown",
   "metadata": {},
   "source": [
    "### 3.3.3 Saving the data with labels to csv"
   ]
  },
  {
   "cell_type": "code",
   "execution_count": 106,
   "metadata": {},
   "outputs": [],
   "source": [
    "dataset.to_csv('dataset_final_withlabels.csv', index=False)"
   ]
  },
  {
   "cell_type": "code",
   "execution_count": 107,
   "metadata": {},
   "outputs": [],
   "source": [
    "dataset = pd.read_csv('dataset_final_withlabels.csv')"
   ]
  },
  {
   "cell_type": "markdown",
   "metadata": {},
   "source": [
    "# 4 Results"
   ]
  },
  {
   "cell_type": "markdown",
   "metadata": {},
   "source": [
    "We will in this chapter present the results of our analysis and the scripts to get meaning out of the data."
   ]
  },
  {
   "cell_type": "markdown",
   "metadata": {},
   "source": [
    "## 4.1 Descriptive statistics"
   ]
  },
  {
   "cell_type": "markdown",
   "metadata": {},
   "source": [
    "Creating subset for each label and get basic descriptive statistics for each group, and lastly merge them into on dataframe."
   ]
  },
  {
   "cell_type": "code",
   "execution_count": 108,
   "metadata": {},
   "outputs": [],
   "source": [
    "dataset_cluster0 = dataset.loc[dataset['StudentCategory'] == 2]\n",
    "dataset_cluster1 = dataset.loc[dataset['StudentCategory'] == 1]\n",
    "dataset_cluster2 = dataset.loc[dataset['StudentCategory'] == 0]\n",
    "dataset_cluster3 = dataset.loc[dataset['StudentCategory'] == 3]"
   ]
  },
  {
   "cell_type": "code",
   "execution_count": 109,
   "metadata": {},
   "outputs": [],
   "source": [
    "data_descriptive_0 = dataset_cluster1.describe().loc[['count', 'mean', 'std', '50%']]\n",
    "data_descriptive_1 = dataset_cluster2.describe().loc[['count', 'mean', 'std', '50%']]\n",
    "data_descriptive_2 = dataset_cluster3.describe().loc[['count', 'mean', 'std', '50%']]\n",
    "data_descriptive_3 = dataset_cluster0.describe().loc[['count', 'mean', 'std', '50%']]\n",
    "data_descriptive = pd.concat([data_descriptive_0, data_descriptive_1, data_descriptive_2, data_descriptive_3])"
   ]
  },
  {
   "cell_type": "code",
   "execution_count": 110,
   "metadata": {},
   "outputs": [
    {
     "data": {
      "text/html": [
       "<div>\n",
       "<style scoped>\n",
       "    .dataframe tbody tr th:only-of-type {\n",
       "        vertical-align: middle;\n",
       "    }\n",
       "\n",
       "    .dataframe tbody tr th {\n",
       "        vertical-align: top;\n",
       "    }\n",
       "\n",
       "    .dataframe thead th {\n",
       "        text-align: right;\n",
       "    }\n",
       "</style>\n",
       "<table border=\"1\" class=\"dataframe\">\n",
       "  <thead>\n",
       "    <tr style=\"text-align: right;\">\n",
       "      <th></th>\n",
       "      <th>CountryID</th>\n",
       "      <th>SchoolID</th>\n",
       "      <th>StudentID</th>\n",
       "      <th>Region</th>\n",
       "      <th>IsMale</th>\n",
       "      <th>HaveComputer</th>\n",
       "      <th>HaveInternet</th>\n",
       "      <th>HaveMusicalInstrument</th>\n",
       "      <th>BooksAtHome</th>\n",
       "      <th>EthnicGroupCategory</th>\n",
       "      <th>IsLonely</th>\n",
       "      <th>MusicActvityAtSchool</th>\n",
       "      <th>AvailableRoomForHomework</th>\n",
       "      <th>StaffHelpForHomework</th>\n",
       "      <th>IsPrivateSchool</th>\n",
       "      <th>FullyCertifiedTeacherStaff</th>\n",
       "      <th>StudentResultsTrackedCentrally</th>\n",
       "      <th>ClassesNotDividedByAbility</th>\n",
       "      <th>ScoreScience</th>\n",
       "      <th>ScoreReading</th>\n",
       "      <th>ScoreMathematics</th>\n",
       "      <th>FatherIsUnemployed</th>\n",
       "      <th>MotherIsUnemployed</th>\n",
       "      <th>FatherLowOccupationalStatus</th>\n",
       "      <th>FatherMiddleOccupationalStatus</th>\n",
       "      <th>FatherHighOccupationalStatus</th>\n",
       "      <th>MotherLowOccupationalStatus</th>\n",
       "      <th>MotherMiddleOccupationalStatus</th>\n",
       "      <th>MotherHighOccupationalStatus</th>\n",
       "      <th>FatherCompulsorySchoolIsHighest</th>\n",
       "      <th>FatherHighSchoolIsHighest</th>\n",
       "      <th>FatherHigherEducationIsHighest</th>\n",
       "      <th>MotherCompulsorySchoolIsHighest</th>\n",
       "      <th>MotherHighSchoolIsHighest</th>\n",
       "      <th>MotherHigherEducationIsHighest</th>\n",
       "      <th>IsCity</th>\n",
       "      <th>MaleSchoolRatio</th>\n",
       "      <th>CentralAuthorityDecidesCourseContents</th>\n",
       "      <th>ESCS_category</th>\n",
       "      <th>StudentExpectGoodJob</th>\n",
       "      <th>StudentCategory</th>\n",
       "    </tr>\n",
       "  </thead>\n",
       "  <tbody>\n",
       "    <tr>\n",
       "      <th>count</th>\n",
       "      <td>64636.000000</td>\n",
       "      <td>6.463600e+04</td>\n",
       "      <td>6.463600e+04</td>\n",
       "      <td>64636.000000</td>\n",
       "      <td>64636.000000</td>\n",
       "      <td>64636.000000</td>\n",
       "      <td>64636.000000</td>\n",
       "      <td>64636.000000</td>\n",
       "      <td>64636.000000</td>\n",
       "      <td>64636.000000</td>\n",
       "      <td>64636.000000</td>\n",
       "      <td>64636.000000</td>\n",
       "      <td>64636.000000</td>\n",
       "      <td>64636.000000</td>\n",
       "      <td>64636.000000</td>\n",
       "      <td>64636.000000</td>\n",
       "      <td>64636.000000</td>\n",
       "      <td>64636.000000</td>\n",
       "      <td>64636.000000</td>\n",
       "      <td>64636.000000</td>\n",
       "      <td>64636.000000</td>\n",
       "      <td>64636.000000</td>\n",
       "      <td>64636.000000</td>\n",
       "      <td>64636.000000</td>\n",
       "      <td>64636.000000</td>\n",
       "      <td>64636.000000</td>\n",
       "      <td>64636.000000</td>\n",
       "      <td>64636.000000</td>\n",
       "      <td>64636.000000</td>\n",
       "      <td>64636.000000</td>\n",
       "      <td>64636.000000</td>\n",
       "      <td>64636.000000</td>\n",
       "      <td>64636.000000</td>\n",
       "      <td>64636.000000</td>\n",
       "      <td>64636.000000</td>\n",
       "      <td>64636.000000</td>\n",
       "      <td>64636.000000</td>\n",
       "      <td>64636.000000</td>\n",
       "      <td>64636.000000</td>\n",
       "      <td>64636.000000</td>\n",
       "      <td>64636.0</td>\n",
       "    </tr>\n",
       "    <tr>\n",
       "      <th>mean</th>\n",
       "      <td>484.096603</td>\n",
       "      <td>4.841074e+07</td>\n",
       "      <td>4.841762e+07</td>\n",
       "      <td>45720.142939</td>\n",
       "      <td>0.477041</td>\n",
       "      <td>0.967789</td>\n",
       "      <td>0.990145</td>\n",
       "      <td>0.818275</td>\n",
       "      <td>4.320270</td>\n",
       "      <td>0.120707</td>\n",
       "      <td>0.140262</td>\n",
       "      <td>0.666192</td>\n",
       "      <td>0.705953</td>\n",
       "      <td>0.577913</td>\n",
       "      <td>0.318445</td>\n",
       "      <td>0.533774</td>\n",
       "      <td>0.752878</td>\n",
       "      <td>0.490098</td>\n",
       "      <td>535.366931</td>\n",
       "      <td>532.363041</td>\n",
       "      <td>527.354013</td>\n",
       "      <td>0.061684</td>\n",
       "      <td>0.106427</td>\n",
       "      <td>0.087304</td>\n",
       "      <td>0.196717</td>\n",
       "      <td>0.654295</td>\n",
       "      <td>0.062860</td>\n",
       "      <td>0.229996</td>\n",
       "      <td>0.600718</td>\n",
       "      <td>0.034810</td>\n",
       "      <td>0.172860</td>\n",
       "      <td>0.790597</td>\n",
       "      <td>0.024940</td>\n",
       "      <td>0.148756</td>\n",
       "      <td>0.824896</td>\n",
       "      <td>0.512857</td>\n",
       "      <td>0.496371</td>\n",
       "      <td>0.277755</td>\n",
       "      <td>3.659277</td>\n",
       "      <td>0.612182</td>\n",
       "      <td>1.0</td>\n",
       "    </tr>\n",
       "    <tr>\n",
       "      <th>std</th>\n",
       "      <td>296.600930</td>\n",
       "      <td>2.965970e+07</td>\n",
       "      <td>2.966066e+07</td>\n",
       "      <td>26689.884500</td>\n",
       "      <td>0.499476</td>\n",
       "      <td>0.176562</td>\n",
       "      <td>0.098784</td>\n",
       "      <td>0.385621</td>\n",
       "      <td>0.753374</td>\n",
       "      <td>0.325789</td>\n",
       "      <td>0.347262</td>\n",
       "      <td>0.471576</td>\n",
       "      <td>0.455617</td>\n",
       "      <td>0.493896</td>\n",
       "      <td>0.465877</td>\n",
       "      <td>0.498862</td>\n",
       "      <td>0.431342</td>\n",
       "      <td>0.499906</td>\n",
       "      <td>90.740393</td>\n",
       "      <td>90.090710</td>\n",
       "      <td>89.579342</td>\n",
       "      <td>0.240582</td>\n",
       "      <td>0.308385</td>\n",
       "      <td>0.282283</td>\n",
       "      <td>0.397520</td>\n",
       "      <td>0.475601</td>\n",
       "      <td>0.242712</td>\n",
       "      <td>0.420833</td>\n",
       "      <td>0.489755</td>\n",
       "      <td>0.183301</td>\n",
       "      <td>0.378129</td>\n",
       "      <td>0.406886</td>\n",
       "      <td>0.155942</td>\n",
       "      <td>0.355851</td>\n",
       "      <td>0.380059</td>\n",
       "      <td>0.499839</td>\n",
       "      <td>0.175129</td>\n",
       "      <td>0.447896</td>\n",
       "      <td>0.504045</td>\n",
       "      <td>0.487256</td>\n",
       "      <td>0.0</td>\n",
       "    </tr>\n",
       "    <tr>\n",
       "      <th>50%</th>\n",
       "      <td>440.000000</td>\n",
       "      <td>4.400030e+07</td>\n",
       "      <td>4.400743e+07</td>\n",
       "      <td>44000.000000</td>\n",
       "      <td>0.000000</td>\n",
       "      <td>1.000000</td>\n",
       "      <td>1.000000</td>\n",
       "      <td>1.000000</td>\n",
       "      <td>4.000000</td>\n",
       "      <td>0.000000</td>\n",
       "      <td>0.000000</td>\n",
       "      <td>1.000000</td>\n",
       "      <td>1.000000</td>\n",
       "      <td>1.000000</td>\n",
       "      <td>0.000000</td>\n",
       "      <td>1.000000</td>\n",
       "      <td>1.000000</td>\n",
       "      <td>0.000000</td>\n",
       "      <td>540.089500</td>\n",
       "      <td>539.555500</td>\n",
       "      <td>531.268000</td>\n",
       "      <td>0.000000</td>\n",
       "      <td>0.000000</td>\n",
       "      <td>0.000000</td>\n",
       "      <td>0.000000</td>\n",
       "      <td>1.000000</td>\n",
       "      <td>0.000000</td>\n",
       "      <td>0.000000</td>\n",
       "      <td>1.000000</td>\n",
       "      <td>0.000000</td>\n",
       "      <td>0.000000</td>\n",
       "      <td>1.000000</td>\n",
       "      <td>0.000000</td>\n",
       "      <td>0.000000</td>\n",
       "      <td>1.000000</td>\n",
       "      <td>1.000000</td>\n",
       "      <td>0.500285</td>\n",
       "      <td>0.000000</td>\n",
       "      <td>4.000000</td>\n",
       "      <td>1.000000</td>\n",
       "      <td>1.0</td>\n",
       "    </tr>\n",
       "    <tr>\n",
       "      <th>count</th>\n",
       "      <td>56097.000000</td>\n",
       "      <td>5.609700e+04</td>\n",
       "      <td>5.609700e+04</td>\n",
       "      <td>56097.000000</td>\n",
       "      <td>56097.000000</td>\n",
       "      <td>56097.000000</td>\n",
       "      <td>56097.000000</td>\n",
       "      <td>56097.000000</td>\n",
       "      <td>56097.000000</td>\n",
       "      <td>56097.000000</td>\n",
       "      <td>56097.000000</td>\n",
       "      <td>56097.000000</td>\n",
       "      <td>56097.000000</td>\n",
       "      <td>56097.000000</td>\n",
       "      <td>56097.000000</td>\n",
       "      <td>56097.000000</td>\n",
       "      <td>56097.000000</td>\n",
       "      <td>56097.000000</td>\n",
       "      <td>56097.000000</td>\n",
       "      <td>56097.000000</td>\n",
       "      <td>56097.000000</td>\n",
       "      <td>56097.000000</td>\n",
       "      <td>56097.000000</td>\n",
       "      <td>56097.000000</td>\n",
       "      <td>56097.000000</td>\n",
       "      <td>56097.000000</td>\n",
       "      <td>56097.000000</td>\n",
       "      <td>56097.000000</td>\n",
       "      <td>56097.000000</td>\n",
       "      <td>56097.000000</td>\n",
       "      <td>56097.000000</td>\n",
       "      <td>56097.000000</td>\n",
       "      <td>56097.000000</td>\n",
       "      <td>56097.000000</td>\n",
       "      <td>56097.000000</td>\n",
       "      <td>56097.000000</td>\n",
       "      <td>56097.000000</td>\n",
       "      <td>56097.000000</td>\n",
       "      <td>56097.000000</td>\n",
       "      <td>56097.000000</td>\n",
       "      <td>56097.0</td>\n",
       "    </tr>\n",
       "    <tr>\n",
       "      <th>mean</th>\n",
       "      <td>515.163823</td>\n",
       "      <td>5.151706e+07</td>\n",
       "      <td>5.152359e+07</td>\n",
       "      <td>48447.730877</td>\n",
       "      <td>0.457689</td>\n",
       "      <td>0.897998</td>\n",
       "      <td>0.937198</td>\n",
       "      <td>0.627342</td>\n",
       "      <td>3.696526</td>\n",
       "      <td>0.072909</td>\n",
       "      <td>0.146888</td>\n",
       "      <td>0.563007</td>\n",
       "      <td>0.659804</td>\n",
       "      <td>0.525946</td>\n",
       "      <td>0.174073</td>\n",
       "      <td>0.541295</td>\n",
       "      <td>0.725511</td>\n",
       "      <td>0.419381</td>\n",
       "      <td>491.242692</td>\n",
       "      <td>489.044638</td>\n",
       "      <td>486.077546</td>\n",
       "      <td>0.091181</td>\n",
       "      <td>0.210956</td>\n",
       "      <td>0.405601</td>\n",
       "      <td>0.398007</td>\n",
       "      <td>0.105211</td>\n",
       "      <td>0.405155</td>\n",
       "      <td>0.315988</td>\n",
       "      <td>0.067900</td>\n",
       "      <td>0.217712</td>\n",
       "      <td>0.567677</td>\n",
       "      <td>0.197747</td>\n",
       "      <td>0.206482</td>\n",
       "      <td>0.572473</td>\n",
       "      <td>0.205091</td>\n",
       "      <td>0.355081</td>\n",
       "      <td>0.501770</td>\n",
       "      <td>0.321211</td>\n",
       "      <td>1.369093</td>\n",
       "      <td>0.438508</td>\n",
       "      <td>0.0</td>\n",
       "    </tr>\n",
       "    <tr>\n",
       "      <th>std</th>\n",
       "      <td>290.803585</td>\n",
       "      <td>2.908010e+07</td>\n",
       "      <td>2.908203e+07</td>\n",
       "      <td>25425.250868</td>\n",
       "      <td>0.498211</td>\n",
       "      <td>0.302653</td>\n",
       "      <td>0.242609</td>\n",
       "      <td>0.483516</td>\n",
       "      <td>0.780261</td>\n",
       "      <td>0.259990</td>\n",
       "      <td>0.353998</td>\n",
       "      <td>0.496019</td>\n",
       "      <td>0.473779</td>\n",
       "      <td>0.499331</td>\n",
       "      <td>0.379176</td>\n",
       "      <td>0.498296</td>\n",
       "      <td>0.446260</td>\n",
       "      <td>0.493462</td>\n",
       "      <td>89.830303</td>\n",
       "      <td>90.958429</td>\n",
       "      <td>89.640291</td>\n",
       "      <td>0.287869</td>\n",
       "      <td>0.407991</td>\n",
       "      <td>0.491012</td>\n",
       "      <td>0.489491</td>\n",
       "      <td>0.306827</td>\n",
       "      <td>0.490926</td>\n",
       "      <td>0.464912</td>\n",
       "      <td>0.251577</td>\n",
       "      <td>0.412694</td>\n",
       "      <td>0.495403</td>\n",
       "      <td>0.398304</td>\n",
       "      <td>0.404784</td>\n",
       "      <td>0.494724</td>\n",
       "      <td>0.403772</td>\n",
       "      <td>0.478542</td>\n",
       "      <td>0.170098</td>\n",
       "      <td>0.466946</td>\n",
       "      <td>0.656201</td>\n",
       "      <td>0.496209</td>\n",
       "      <td>0.0</td>\n",
       "    </tr>\n",
       "    <tr>\n",
       "      <th>50%</th>\n",
       "      <td>446.000000</td>\n",
       "      <td>4.460004e+07</td>\n",
       "      <td>4.460432e+07</td>\n",
       "      <td>44600.000000</td>\n",
       "      <td>0.000000</td>\n",
       "      <td>1.000000</td>\n",
       "      <td>1.000000</td>\n",
       "      <td>1.000000</td>\n",
       "      <td>3.000000</td>\n",
       "      <td>0.000000</td>\n",
       "      <td>0.000000</td>\n",
       "      <td>1.000000</td>\n",
       "      <td>1.000000</td>\n",
       "      <td>1.000000</td>\n",
       "      <td>0.000000</td>\n",
       "      <td>1.000000</td>\n",
       "      <td>1.000000</td>\n",
       "      <td>0.000000</td>\n",
       "      <td>492.156000</td>\n",
       "      <td>493.946000</td>\n",
       "      <td>487.531000</td>\n",
       "      <td>0.000000</td>\n",
       "      <td>0.000000</td>\n",
       "      <td>0.000000</td>\n",
       "      <td>0.000000</td>\n",
       "      <td>0.000000</td>\n",
       "      <td>0.000000</td>\n",
       "      <td>0.000000</td>\n",
       "      <td>0.000000</td>\n",
       "      <td>0.000000</td>\n",
       "      <td>1.000000</td>\n",
       "      <td>0.000000</td>\n",
       "      <td>0.000000</td>\n",
       "      <td>1.000000</td>\n",
       "      <td>0.000000</td>\n",
       "      <td>0.000000</td>\n",
       "      <td>0.501362</td>\n",
       "      <td>0.000000</td>\n",
       "      <td>1.000000</td>\n",
       "      <td>0.000000</td>\n",
       "      <td>0.0</td>\n",
       "    </tr>\n",
       "    <tr>\n",
       "      <th>count</th>\n",
       "      <td>58051.000000</td>\n",
       "      <td>5.805100e+04</td>\n",
       "      <td>5.805100e+04</td>\n",
       "      <td>58051.000000</td>\n",
       "      <td>58051.000000</td>\n",
       "      <td>58051.000000</td>\n",
       "      <td>58051.000000</td>\n",
       "      <td>58051.000000</td>\n",
       "      <td>58051.000000</td>\n",
       "      <td>58051.000000</td>\n",
       "      <td>58051.000000</td>\n",
       "      <td>58051.000000</td>\n",
       "      <td>58051.000000</td>\n",
       "      <td>58051.000000</td>\n",
       "      <td>58051.000000</td>\n",
       "      <td>58051.000000</td>\n",
       "      <td>58051.000000</td>\n",
       "      <td>58051.000000</td>\n",
       "      <td>58051.000000</td>\n",
       "      <td>58051.000000</td>\n",
       "      <td>58051.000000</td>\n",
       "      <td>58051.000000</td>\n",
       "      <td>58051.000000</td>\n",
       "      <td>58051.000000</td>\n",
       "      <td>58051.000000</td>\n",
       "      <td>58051.000000</td>\n",
       "      <td>58051.000000</td>\n",
       "      <td>58051.000000</td>\n",
       "      <td>58051.000000</td>\n",
       "      <td>58051.000000</td>\n",
       "      <td>58051.000000</td>\n",
       "      <td>58051.000000</td>\n",
       "      <td>58051.000000</td>\n",
       "      <td>58051.000000</td>\n",
       "      <td>58051.000000</td>\n",
       "      <td>58051.000000</td>\n",
       "      <td>58051.000000</td>\n",
       "      <td>58051.000000</td>\n",
       "      <td>58051.000000</td>\n",
       "      <td>58051.000000</td>\n",
       "      <td>58051.0</td>\n",
       "    </tr>\n",
       "    <tr>\n",
       "      <th>mean</th>\n",
       "      <td>474.228024</td>\n",
       "      <td>4.742366e+07</td>\n",
       "      <td>4.742957e+07</td>\n",
       "      <td>46041.448554</td>\n",
       "      <td>0.521249</td>\n",
       "      <td>0.930182</td>\n",
       "      <td>0.961861</td>\n",
       "      <td>0.583694</td>\n",
       "      <td>2.162926</td>\n",
       "      <td>0.151367</td>\n",
       "      <td>0.153865</td>\n",
       "      <td>0.601092</td>\n",
       "      <td>0.622056</td>\n",
       "      <td>0.553220</td>\n",
       "      <td>0.248936</td>\n",
       "      <td>0.462989</td>\n",
       "      <td>0.791063</td>\n",
       "      <td>0.458648</td>\n",
       "      <td>469.072815</td>\n",
       "      <td>466.722041</td>\n",
       "      <td>462.232244</td>\n",
       "      <td>0.081273</td>\n",
       "      <td>0.174019</td>\n",
       "      <td>0.168318</td>\n",
       "      <td>0.326937</td>\n",
       "      <td>0.423472</td>\n",
       "      <td>0.158120</td>\n",
       "      <td>0.320821</td>\n",
       "      <td>0.347040</td>\n",
       "      <td>0.074814</td>\n",
       "      <td>0.283733</td>\n",
       "      <td>0.635665</td>\n",
       "      <td>0.070524</td>\n",
       "      <td>0.276929</td>\n",
       "      <td>0.646587</td>\n",
       "      <td>0.436478</td>\n",
       "      <td>0.505896</td>\n",
       "      <td>0.339374</td>\n",
       "      <td>2.700246</td>\n",
       "      <td>0.502954</td>\n",
       "      <td>3.0</td>\n",
       "    </tr>\n",
       "    <tr>\n",
       "      <th>std</th>\n",
       "      <td>279.087853</td>\n",
       "      <td>2.790856e+07</td>\n",
       "      <td>2.790858e+07</td>\n",
       "      <td>26420.803073</td>\n",
       "      <td>0.499553</td>\n",
       "      <td>0.254842</td>\n",
       "      <td>0.191533</td>\n",
       "      <td>0.492950</td>\n",
       "      <td>0.771712</td>\n",
       "      <td>0.358409</td>\n",
       "      <td>0.360822</td>\n",
       "      <td>0.489678</td>\n",
       "      <td>0.484878</td>\n",
       "      <td>0.497164</td>\n",
       "      <td>0.432401</td>\n",
       "      <td>0.498633</td>\n",
       "      <td>0.406553</td>\n",
       "      <td>0.498291</td>\n",
       "      <td>90.004267</td>\n",
       "      <td>93.668999</td>\n",
       "      <td>90.913017</td>\n",
       "      <td>0.273257</td>\n",
       "      <td>0.379129</td>\n",
       "      <td>0.374151</td>\n",
       "      <td>0.469098</td>\n",
       "      <td>0.494113</td>\n",
       "      <td>0.364856</td>\n",
       "      <td>0.466796</td>\n",
       "      <td>0.476033</td>\n",
       "      <td>0.263092</td>\n",
       "      <td>0.450813</td>\n",
       "      <td>0.481247</td>\n",
       "      <td>0.256031</td>\n",
       "      <td>0.447485</td>\n",
       "      <td>0.478034</td>\n",
       "      <td>0.495953</td>\n",
       "      <td>0.188518</td>\n",
       "      <td>0.473501</td>\n",
       "      <td>0.645624</td>\n",
       "      <td>0.499996</td>\n",
       "      <td>0.0</td>\n",
       "    </tr>\n",
       "    <tr>\n",
       "      <th>50%</th>\n",
       "      <td>442.000000</td>\n",
       "      <td>4.420002e+07</td>\n",
       "      <td>4.420284e+07</td>\n",
       "      <td>44200.000000</td>\n",
       "      <td>1.000000</td>\n",
       "      <td>1.000000</td>\n",
       "      <td>1.000000</td>\n",
       "      <td>1.000000</td>\n",
       "      <td>2.000000</td>\n",
       "      <td>0.000000</td>\n",
       "      <td>0.000000</td>\n",
       "      <td>1.000000</td>\n",
       "      <td>1.000000</td>\n",
       "      <td>1.000000</td>\n",
       "      <td>0.000000</td>\n",
       "      <td>0.000000</td>\n",
       "      <td>1.000000</td>\n",
       "      <td>0.000000</td>\n",
       "      <td>468.006000</td>\n",
       "      <td>470.997000</td>\n",
       "      <td>462.061000</td>\n",
       "      <td>0.000000</td>\n",
       "      <td>0.000000</td>\n",
       "      <td>0.000000</td>\n",
       "      <td>0.000000</td>\n",
       "      <td>0.000000</td>\n",
       "      <td>0.000000</td>\n",
       "      <td>0.000000</td>\n",
       "      <td>0.000000</td>\n",
       "      <td>0.000000</td>\n",
       "      <td>0.000000</td>\n",
       "      <td>1.000000</td>\n",
       "      <td>0.000000</td>\n",
       "      <td>0.000000</td>\n",
       "      <td>1.000000</td>\n",
       "      <td>0.000000</td>\n",
       "      <td>0.503663</td>\n",
       "      <td>0.000000</td>\n",
       "      <td>3.000000</td>\n",
       "      <td>1.000000</td>\n",
       "      <td>3.0</td>\n",
       "    </tr>\n",
       "    <tr>\n",
       "      <th>count</th>\n",
       "      <td>68453.000000</td>\n",
       "      <td>6.845300e+04</td>\n",
       "      <td>6.845300e+04</td>\n",
       "      <td>68453.000000</td>\n",
       "      <td>68453.000000</td>\n",
       "      <td>68453.000000</td>\n",
       "      <td>68453.000000</td>\n",
       "      <td>68453.000000</td>\n",
       "      <td>68453.000000</td>\n",
       "      <td>68453.000000</td>\n",
       "      <td>68453.000000</td>\n",
       "      <td>68453.000000</td>\n",
       "      <td>68453.000000</td>\n",
       "      <td>68453.000000</td>\n",
       "      <td>68453.000000</td>\n",
       "      <td>68453.000000</td>\n",
       "      <td>68453.000000</td>\n",
       "      <td>68453.000000</td>\n",
       "      <td>68453.000000</td>\n",
       "      <td>68453.000000</td>\n",
       "      <td>68453.000000</td>\n",
       "      <td>68453.000000</td>\n",
       "      <td>68453.000000</td>\n",
       "      <td>68453.000000</td>\n",
       "      <td>68453.000000</td>\n",
       "      <td>68453.000000</td>\n",
       "      <td>68453.000000</td>\n",
       "      <td>68453.000000</td>\n",
       "      <td>68453.000000</td>\n",
       "      <td>68453.000000</td>\n",
       "      <td>68453.000000</td>\n",
       "      <td>68453.000000</td>\n",
       "      <td>68453.000000</td>\n",
       "      <td>68453.000000</td>\n",
       "      <td>68453.000000</td>\n",
       "      <td>68453.000000</td>\n",
       "      <td>68453.000000</td>\n",
       "      <td>68453.000000</td>\n",
       "      <td>68453.000000</td>\n",
       "      <td>68453.000000</td>\n",
       "      <td>68453.0</td>\n",
       "    </tr>\n",
       "    <tr>\n",
       "      <th>mean</th>\n",
       "      <td>512.999971</td>\n",
       "      <td>5.130041e+07</td>\n",
       "      <td>5.130647e+07</td>\n",
       "      <td>49166.168072</td>\n",
       "      <td>0.481221</td>\n",
       "      <td>0.671176</td>\n",
       "      <td>0.712606</td>\n",
       "      <td>0.354521</td>\n",
       "      <td>1.715118</td>\n",
       "      <td>0.088893</td>\n",
       "      <td>0.178195</td>\n",
       "      <td>0.479804</td>\n",
       "      <td>0.587220</td>\n",
       "      <td>0.457774</td>\n",
       "      <td>0.129739</td>\n",
       "      <td>0.463165</td>\n",
       "      <td>0.783735</td>\n",
       "      <td>0.384512</td>\n",
       "      <td>431.117512</td>\n",
       "      <td>427.327697</td>\n",
       "      <td>421.958572</td>\n",
       "      <td>0.093597</td>\n",
       "      <td>0.324529</td>\n",
       "      <td>0.569252</td>\n",
       "      <td>0.301097</td>\n",
       "      <td>0.036054</td>\n",
       "      <td>0.479877</td>\n",
       "      <td>0.178444</td>\n",
       "      <td>0.017150</td>\n",
       "      <td>0.459235</td>\n",
       "      <td>0.362848</td>\n",
       "      <td>0.099046</td>\n",
       "      <td>0.467226</td>\n",
       "      <td>0.356522</td>\n",
       "      <td>0.089653</td>\n",
       "      <td>0.297723</td>\n",
       "      <td>0.505620</td>\n",
       "      <td>0.424832</td>\n",
       "      <td>0.356639</td>\n",
       "      <td>0.408996</td>\n",
       "      <td>2.0</td>\n",
       "    </tr>\n",
       "    <tr>\n",
       "      <th>std</th>\n",
       "      <td>292.888894</td>\n",
       "      <td>2.928879e+07</td>\n",
       "      <td>2.928941e+07</td>\n",
       "      <td>26955.683225</td>\n",
       "      <td>0.499651</td>\n",
       "      <td>0.469789</td>\n",
       "      <td>0.452550</td>\n",
       "      <td>0.478371</td>\n",
       "      <td>0.720264</td>\n",
       "      <td>0.284591</td>\n",
       "      <td>0.382680</td>\n",
       "      <td>0.499596</td>\n",
       "      <td>0.492337</td>\n",
       "      <td>0.498217</td>\n",
       "      <td>0.336018</td>\n",
       "      <td>0.498645</td>\n",
       "      <td>0.411700</td>\n",
       "      <td>0.486483</td>\n",
       "      <td>84.799070</td>\n",
       "      <td>89.030520</td>\n",
       "      <td>88.793049</td>\n",
       "      <td>0.291269</td>\n",
       "      <td>0.468202</td>\n",
       "      <td>0.495185</td>\n",
       "      <td>0.458738</td>\n",
       "      <td>0.186426</td>\n",
       "      <td>0.499599</td>\n",
       "      <td>0.382889</td>\n",
       "      <td>0.129833</td>\n",
       "      <td>0.498339</td>\n",
       "      <td>0.480825</td>\n",
       "      <td>0.298726</td>\n",
       "      <td>0.498928</td>\n",
       "      <td>0.478975</td>\n",
       "      <td>0.285686</td>\n",
       "      <td>0.457260</td>\n",
       "      <td>0.156554</td>\n",
       "      <td>0.494321</td>\n",
       "      <td>0.484891</td>\n",
       "      <td>0.491652</td>\n",
       "      <td>0.0</td>\n",
       "    </tr>\n",
       "    <tr>\n",
       "      <th>50%</th>\n",
       "      <td>498.000000</td>\n",
       "      <td>4.980004e+07</td>\n",
       "      <td>4.980078e+07</td>\n",
       "      <td>49800.000000</td>\n",
       "      <td>0.000000</td>\n",
       "      <td>1.000000</td>\n",
       "      <td>1.000000</td>\n",
       "      <td>0.000000</td>\n",
       "      <td>2.000000</td>\n",
       "      <td>0.000000</td>\n",
       "      <td>0.000000</td>\n",
       "      <td>0.000000</td>\n",
       "      <td>1.000000</td>\n",
       "      <td>0.000000</td>\n",
       "      <td>0.000000</td>\n",
       "      <td>0.000000</td>\n",
       "      <td>1.000000</td>\n",
       "      <td>0.000000</td>\n",
       "      <td>425.236000</td>\n",
       "      <td>427.303000</td>\n",
       "      <td>416.969000</td>\n",
       "      <td>0.000000</td>\n",
       "      <td>0.000000</td>\n",
       "      <td>1.000000</td>\n",
       "      <td>0.000000</td>\n",
       "      <td>0.000000</td>\n",
       "      <td>0.000000</td>\n",
       "      <td>0.000000</td>\n",
       "      <td>0.000000</td>\n",
       "      <td>0.000000</td>\n",
       "      <td>0.000000</td>\n",
       "      <td>0.000000</td>\n",
       "      <td>0.000000</td>\n",
       "      <td>0.000000</td>\n",
       "      <td>0.000000</td>\n",
       "      <td>0.000000</td>\n",
       "      <td>0.500938</td>\n",
       "      <td>0.000000</td>\n",
       "      <td>0.000000</td>\n",
       "      <td>0.000000</td>\n",
       "      <td>2.0</td>\n",
       "    </tr>\n",
       "  </tbody>\n",
       "</table>\n",
       "</div>"
      ],
      "text/plain": [
       "          CountryID      SchoolID     StudentID        Region        IsMale  \\\n",
       "count  64636.000000  6.463600e+04  6.463600e+04  64636.000000  64636.000000   \n",
       "mean     484.096603  4.841074e+07  4.841762e+07  45720.142939      0.477041   \n",
       "std      296.600930  2.965970e+07  2.966066e+07  26689.884500      0.499476   \n",
       "50%      440.000000  4.400030e+07  4.400743e+07  44000.000000      0.000000   \n",
       "count  56097.000000  5.609700e+04  5.609700e+04  56097.000000  56097.000000   \n",
       "mean     515.163823  5.151706e+07  5.152359e+07  48447.730877      0.457689   \n",
       "std      290.803585  2.908010e+07  2.908203e+07  25425.250868      0.498211   \n",
       "50%      446.000000  4.460004e+07  4.460432e+07  44600.000000      0.000000   \n",
       "count  58051.000000  5.805100e+04  5.805100e+04  58051.000000  58051.000000   \n",
       "mean     474.228024  4.742366e+07  4.742957e+07  46041.448554      0.521249   \n",
       "std      279.087853  2.790856e+07  2.790858e+07  26420.803073      0.499553   \n",
       "50%      442.000000  4.420002e+07  4.420284e+07  44200.000000      1.000000   \n",
       "count  68453.000000  6.845300e+04  6.845300e+04  68453.000000  68453.000000   \n",
       "mean     512.999971  5.130041e+07  5.130647e+07  49166.168072      0.481221   \n",
       "std      292.888894  2.928879e+07  2.928941e+07  26955.683225      0.499651   \n",
       "50%      498.000000  4.980004e+07  4.980078e+07  49800.000000      0.000000   \n",
       "\n",
       "       HaveComputer  HaveInternet  HaveMusicalInstrument   BooksAtHome  \\\n",
       "count  64636.000000  64636.000000           64636.000000  64636.000000   \n",
       "mean       0.967789      0.990145               0.818275      4.320270   \n",
       "std        0.176562      0.098784               0.385621      0.753374   \n",
       "50%        1.000000      1.000000               1.000000      4.000000   \n",
       "count  56097.000000  56097.000000           56097.000000  56097.000000   \n",
       "mean       0.897998      0.937198               0.627342      3.696526   \n",
       "std        0.302653      0.242609               0.483516      0.780261   \n",
       "50%        1.000000      1.000000               1.000000      3.000000   \n",
       "count  58051.000000  58051.000000           58051.000000  58051.000000   \n",
       "mean       0.930182      0.961861               0.583694      2.162926   \n",
       "std        0.254842      0.191533               0.492950      0.771712   \n",
       "50%        1.000000      1.000000               1.000000      2.000000   \n",
       "count  68453.000000  68453.000000           68453.000000  68453.000000   \n",
       "mean       0.671176      0.712606               0.354521      1.715118   \n",
       "std        0.469789      0.452550               0.478371      0.720264   \n",
       "50%        1.000000      1.000000               0.000000      2.000000   \n",
       "\n",
       "       EthnicGroupCategory      IsLonely  MusicActvityAtSchool  \\\n",
       "count         64636.000000  64636.000000          64636.000000   \n",
       "mean              0.120707      0.140262              0.666192   \n",
       "std               0.325789      0.347262              0.471576   \n",
       "50%               0.000000      0.000000              1.000000   \n",
       "count         56097.000000  56097.000000          56097.000000   \n",
       "mean              0.072909      0.146888              0.563007   \n",
       "std               0.259990      0.353998              0.496019   \n",
       "50%               0.000000      0.000000              1.000000   \n",
       "count         58051.000000  58051.000000          58051.000000   \n",
       "mean              0.151367      0.153865              0.601092   \n",
       "std               0.358409      0.360822              0.489678   \n",
       "50%               0.000000      0.000000              1.000000   \n",
       "count         68453.000000  68453.000000          68453.000000   \n",
       "mean              0.088893      0.178195              0.479804   \n",
       "std               0.284591      0.382680              0.499596   \n",
       "50%               0.000000      0.000000              0.000000   \n",
       "\n",
       "       AvailableRoomForHomework  StaffHelpForHomework  IsPrivateSchool  \\\n",
       "count              64636.000000          64636.000000     64636.000000   \n",
       "mean                   0.705953              0.577913         0.318445   \n",
       "std                    0.455617              0.493896         0.465877   \n",
       "50%                    1.000000              1.000000         0.000000   \n",
       "count              56097.000000          56097.000000     56097.000000   \n",
       "mean                   0.659804              0.525946         0.174073   \n",
       "std                    0.473779              0.499331         0.379176   \n",
       "50%                    1.000000              1.000000         0.000000   \n",
       "count              58051.000000          58051.000000     58051.000000   \n",
       "mean                   0.622056              0.553220         0.248936   \n",
       "std                    0.484878              0.497164         0.432401   \n",
       "50%                    1.000000              1.000000         0.000000   \n",
       "count              68453.000000          68453.000000     68453.000000   \n",
       "mean                   0.587220              0.457774         0.129739   \n",
       "std                    0.492337              0.498217         0.336018   \n",
       "50%                    1.000000              0.000000         0.000000   \n",
       "\n",
       "       FullyCertifiedTeacherStaff  StudentResultsTrackedCentrally  \\\n",
       "count                64636.000000                    64636.000000   \n",
       "mean                     0.533774                        0.752878   \n",
       "std                      0.498862                        0.431342   \n",
       "50%                      1.000000                        1.000000   \n",
       "count                56097.000000                    56097.000000   \n",
       "mean                     0.541295                        0.725511   \n",
       "std                      0.498296                        0.446260   \n",
       "50%                      1.000000                        1.000000   \n",
       "count                58051.000000                    58051.000000   \n",
       "mean                     0.462989                        0.791063   \n",
       "std                      0.498633                        0.406553   \n",
       "50%                      0.000000                        1.000000   \n",
       "count                68453.000000                    68453.000000   \n",
       "mean                     0.463165                        0.783735   \n",
       "std                      0.498645                        0.411700   \n",
       "50%                      0.000000                        1.000000   \n",
       "\n",
       "       ClassesNotDividedByAbility  ScoreScience  ScoreReading  \\\n",
       "count                64636.000000  64636.000000  64636.000000   \n",
       "mean                     0.490098    535.366931    532.363041   \n",
       "std                      0.499906     90.740393     90.090710   \n",
       "50%                      0.000000    540.089500    539.555500   \n",
       "count                56097.000000  56097.000000  56097.000000   \n",
       "mean                     0.419381    491.242692    489.044638   \n",
       "std                      0.493462     89.830303     90.958429   \n",
       "50%                      0.000000    492.156000    493.946000   \n",
       "count                58051.000000  58051.000000  58051.000000   \n",
       "mean                     0.458648    469.072815    466.722041   \n",
       "std                      0.498291     90.004267     93.668999   \n",
       "50%                      0.000000    468.006000    470.997000   \n",
       "count                68453.000000  68453.000000  68453.000000   \n",
       "mean                     0.384512    431.117512    427.327697   \n",
       "std                      0.486483     84.799070     89.030520   \n",
       "50%                      0.000000    425.236000    427.303000   \n",
       "\n",
       "       ScoreMathematics  FatherIsUnemployed  MotherIsUnemployed  \\\n",
       "count      64636.000000        64636.000000        64636.000000   \n",
       "mean         527.354013            0.061684            0.106427   \n",
       "std           89.579342            0.240582            0.308385   \n",
       "50%          531.268000            0.000000            0.000000   \n",
       "count      56097.000000        56097.000000        56097.000000   \n",
       "mean         486.077546            0.091181            0.210956   \n",
       "std           89.640291            0.287869            0.407991   \n",
       "50%          487.531000            0.000000            0.000000   \n",
       "count      58051.000000        58051.000000        58051.000000   \n",
       "mean         462.232244            0.081273            0.174019   \n",
       "std           90.913017            0.273257            0.379129   \n",
       "50%          462.061000            0.000000            0.000000   \n",
       "count      68453.000000        68453.000000        68453.000000   \n",
       "mean         421.958572            0.093597            0.324529   \n",
       "std           88.793049            0.291269            0.468202   \n",
       "50%          416.969000            0.000000            0.000000   \n",
       "\n",
       "       FatherLowOccupationalStatus  FatherMiddleOccupationalStatus  \\\n",
       "count                 64636.000000                    64636.000000   \n",
       "mean                      0.087304                        0.196717   \n",
       "std                       0.282283                        0.397520   \n",
       "50%                       0.000000                        0.000000   \n",
       "count                 56097.000000                    56097.000000   \n",
       "mean                      0.405601                        0.398007   \n",
       "std                       0.491012                        0.489491   \n",
       "50%                       0.000000                        0.000000   \n",
       "count                 58051.000000                    58051.000000   \n",
       "mean                      0.168318                        0.326937   \n",
       "std                       0.374151                        0.469098   \n",
       "50%                       0.000000                        0.000000   \n",
       "count                 68453.000000                    68453.000000   \n",
       "mean                      0.569252                        0.301097   \n",
       "std                       0.495185                        0.458738   \n",
       "50%                       1.000000                        0.000000   \n",
       "\n",
       "       FatherHighOccupationalStatus  MotherLowOccupationalStatus  \\\n",
       "count                  64636.000000                 64636.000000   \n",
       "mean                       0.654295                     0.062860   \n",
       "std                        0.475601                     0.242712   \n",
       "50%                        1.000000                     0.000000   \n",
       "count                  56097.000000                 56097.000000   \n",
       "mean                       0.105211                     0.405155   \n",
       "std                        0.306827                     0.490926   \n",
       "50%                        0.000000                     0.000000   \n",
       "count                  58051.000000                 58051.000000   \n",
       "mean                       0.423472                     0.158120   \n",
       "std                        0.494113                     0.364856   \n",
       "50%                        0.000000                     0.000000   \n",
       "count                  68453.000000                 68453.000000   \n",
       "mean                       0.036054                     0.479877   \n",
       "std                        0.186426                     0.499599   \n",
       "50%                        0.000000                     0.000000   \n",
       "\n",
       "       MotherMiddleOccupationalStatus  MotherHighOccupationalStatus  \\\n",
       "count                    64636.000000                  64636.000000   \n",
       "mean                         0.229996                      0.600718   \n",
       "std                          0.420833                      0.489755   \n",
       "50%                          0.000000                      1.000000   \n",
       "count                    56097.000000                  56097.000000   \n",
       "mean                         0.315988                      0.067900   \n",
       "std                          0.464912                      0.251577   \n",
       "50%                          0.000000                      0.000000   \n",
       "count                    58051.000000                  58051.000000   \n",
       "mean                         0.320821                      0.347040   \n",
       "std                          0.466796                      0.476033   \n",
       "50%                          0.000000                      0.000000   \n",
       "count                    68453.000000                  68453.000000   \n",
       "mean                         0.178444                      0.017150   \n",
       "std                          0.382889                      0.129833   \n",
       "50%                          0.000000                      0.000000   \n",
       "\n",
       "       FatherCompulsorySchoolIsHighest  FatherHighSchoolIsHighest  \\\n",
       "count                     64636.000000               64636.000000   \n",
       "mean                          0.034810                   0.172860   \n",
       "std                           0.183301                   0.378129   \n",
       "50%                           0.000000                   0.000000   \n",
       "count                     56097.000000               56097.000000   \n",
       "mean                          0.217712                   0.567677   \n",
       "std                           0.412694                   0.495403   \n",
       "50%                           0.000000                   1.000000   \n",
       "count                     58051.000000               58051.000000   \n",
       "mean                          0.074814                   0.283733   \n",
       "std                           0.263092                   0.450813   \n",
       "50%                           0.000000                   0.000000   \n",
       "count                     68453.000000               68453.000000   \n",
       "mean                          0.459235                   0.362848   \n",
       "std                           0.498339                   0.480825   \n",
       "50%                           0.000000                   0.000000   \n",
       "\n",
       "       FatherHigherEducationIsHighest  MotherCompulsorySchoolIsHighest  \\\n",
       "count                    64636.000000                     64636.000000   \n",
       "mean                         0.790597                         0.024940   \n",
       "std                          0.406886                         0.155942   \n",
       "50%                          1.000000                         0.000000   \n",
       "count                    56097.000000                     56097.000000   \n",
       "mean                         0.197747                         0.206482   \n",
       "std                          0.398304                         0.404784   \n",
       "50%                          0.000000                         0.000000   \n",
       "count                    58051.000000                     58051.000000   \n",
       "mean                         0.635665                         0.070524   \n",
       "std                          0.481247                         0.256031   \n",
       "50%                          1.000000                         0.000000   \n",
       "count                    68453.000000                     68453.000000   \n",
       "mean                         0.099046                         0.467226   \n",
       "std                          0.298726                         0.498928   \n",
       "50%                          0.000000                         0.000000   \n",
       "\n",
       "       MotherHighSchoolIsHighest  MotherHigherEducationIsHighest  \\\n",
       "count               64636.000000                    64636.000000   \n",
       "mean                    0.148756                        0.824896   \n",
       "std                     0.355851                        0.380059   \n",
       "50%                     0.000000                        1.000000   \n",
       "count               56097.000000                    56097.000000   \n",
       "mean                    0.572473                        0.205091   \n",
       "std                     0.494724                        0.403772   \n",
       "50%                     1.000000                        0.000000   \n",
       "count               58051.000000                    58051.000000   \n",
       "mean                    0.276929                        0.646587   \n",
       "std                     0.447485                        0.478034   \n",
       "50%                     0.000000                        1.000000   \n",
       "count               68453.000000                    68453.000000   \n",
       "mean                    0.356522                        0.089653   \n",
       "std                     0.478975                        0.285686   \n",
       "50%                     0.000000                        0.000000   \n",
       "\n",
       "             IsCity  MaleSchoolRatio  CentralAuthorityDecidesCourseContents  \\\n",
       "count  64636.000000     64636.000000                           64636.000000   \n",
       "mean       0.512857         0.496371                               0.277755   \n",
       "std        0.499839         0.175129                               0.447896   \n",
       "50%        1.000000         0.500285                               0.000000   \n",
       "count  56097.000000     56097.000000                           56097.000000   \n",
       "mean       0.355081         0.501770                               0.321211   \n",
       "std        0.478542         0.170098                               0.466946   \n",
       "50%        0.000000         0.501362                               0.000000   \n",
       "count  58051.000000     58051.000000                           58051.000000   \n",
       "mean       0.436478         0.505896                               0.339374   \n",
       "std        0.495953         0.188518                               0.473501   \n",
       "50%        0.000000         0.503663                               0.000000   \n",
       "count  68453.000000     68453.000000                           68453.000000   \n",
       "mean       0.297723         0.505620                               0.424832   \n",
       "std        0.457260         0.156554                               0.494321   \n",
       "50%        0.000000         0.500938                               0.000000   \n",
       "\n",
       "       ESCS_category  StudentExpectGoodJob  StudentCategory  \n",
       "count   64636.000000          64636.000000          64636.0  \n",
       "mean        3.659277              0.612182              1.0  \n",
       "std         0.504045              0.487256              0.0  \n",
       "50%         4.000000              1.000000              1.0  \n",
       "count   56097.000000          56097.000000          56097.0  \n",
       "mean        1.369093              0.438508              0.0  \n",
       "std         0.656201              0.496209              0.0  \n",
       "50%         1.000000              0.000000              0.0  \n",
       "count   58051.000000          58051.000000          58051.0  \n",
       "mean        2.700246              0.502954              3.0  \n",
       "std         0.645624              0.499996              0.0  \n",
       "50%         3.000000              1.000000              3.0  \n",
       "count   68453.000000          68453.000000          68453.0  \n",
       "mean        0.356639              0.408996              2.0  \n",
       "std         0.484891              0.491652              0.0  \n",
       "50%         0.000000              0.000000              2.0  "
      ]
     },
     "execution_count": 110,
     "metadata": {},
     "output_type": "execute_result"
    }
   ],
   "source": [
    "data_descriptive"
   ]
  },
  {
   "cell_type": "markdown",
   "metadata": {},
   "source": [
    "## 4.2 Score distributions"
   ]
  },
  {
   "cell_type": "code",
   "execution_count": 111,
   "metadata": {},
   "outputs": [
    {
     "data": {
      "image/png": "[encoded data removed]",
      "text/plain": [
       "<Figure size 432x288 with 1 Axes>"
      ]
     },
     "metadata": {
      "needs_background": "light"
     },
     "output_type": "display_data"
    }
   ],
   "source": [
    "plt.hist(dataset_cluster0['ScoreScience'], bins=50, density=True, alpha=0.75, label='Science')\n",
    "plt.hist(dataset_cluster0['ScoreReading'], bins=50, density=True, alpha=0.75, label='Reading')\n",
    "plt.hist(dataset_cluster0['ScoreMathematics'], bins=50, density=True, alpha=0.75, label='Mathematics')\n",
    "plt.legend()\n",
    "plt.xlabel('Score')\n",
    "plt.title('Low scoring group')\n",
    "plt.show()"
   ]
  },
  {
   "cell_type": "code",
   "execution_count": 112,
   "metadata": {},
   "outputs": [
    {
     "data": {
      "image/png": "[encoded data removed]",
      "text/plain": [
       "<Figure size 432x288 with 1 Axes>"
      ]
     },
     "metadata": {
      "needs_background": "light"
     },
     "output_type": "display_data"
    }
   ],
   "source": [
    "plt.hist(dataset_cluster1['ScoreScience'], bins=50, density=True, alpha=0.75, label='Science')\n",
    "plt.hist(dataset_cluster1['ScoreReading'], bins=50, density=True, alpha=0.75, label='Reading')\n",
    "plt.hist(dataset_cluster1['ScoreMathematics'], bins=50, density=True, alpha=0.75, label='Mathematics')\n",
    "plt.legend()\n",
    "plt.xlabel('Score')\n",
    "plt.title('High scoring group')\n",
    "plt.show()"
   ]
  },
  {
   "cell_type": "code",
   "execution_count": 113,
   "metadata": {},
   "outputs": [
    {
     "data": {
      "image/png": "[encoded data removed]",
      "text/plain": [
       "<Figure size 432x288 with 1 Axes>"
      ]
     },
     "metadata": {
      "needs_background": "light"
     },
     "output_type": "display_data"
    }
   ],
   "source": [
    "plt.hist(dataset_cluster2['ScoreScience'], bins=50, density=True, alpha=0.75, label='Science')\n",
    "plt.hist(dataset_cluster2['ScoreReading'], bins=50, density=True, alpha=0.75, label='Reading')\n",
    "plt.hist(dataset_cluster2['ScoreMathematics'], bins=50, density=True, alpha=0.75, label='Mathematics')\n",
    "plt.legend()\n",
    "plt.xlabel('Score')\n",
    "plt.title('Upper middle scoring group')\n",
    "plt.xticks(np.arange(0, 1000, 100))\n",
    "plt.show()"
   ]
  },
  {
   "cell_type": "code",
   "execution_count": 114,
   "metadata": {
    "scrolled": true
   },
   "outputs": [
    {
     "data": {
      "image/png": "[encoded data removed]",
      "text/plain": [
       "<Figure size 432x288 with 1 Axes>"
      ]
     },
     "metadata": {
      "needs_background": "light"
     },
     "output_type": "display_data"
    }
   ],
   "source": [
    "plt.hist(dataset_cluster3['ScoreScience'], bins=50, density=True, alpha=0.75, label='Science')\n",
    "plt.hist(dataset_cluster3['ScoreReading'], bins=50, density=True, alpha=0.75, label='Reading')\n",
    "plt.hist(dataset_cluster3['ScoreMathematics'], bins=50, density=True, alpha=0.75, label='Mathematics')\n",
    "plt.legend()\n",
    "plt.xlabel('Score')\n",
    "plt.title('Lower middle scoring group')\n",
    "plt.show()"
   ]
  },
  {
   "cell_type": "markdown",
   "metadata": {},
   "source": [
    "### 4.2.1 Average scores by country"
   ]
  },
  {
   "cell_type": "code",
   "execution_count": 115,
   "metadata": {
    "scrolled": true
   },
   "outputs": [
    {
     "data": {
      "text/html": [
       "<div>\n",
       "<style scoped>\n",
       "    .dataframe tbody tr th:only-of-type {\n",
       "        vertical-align: middle;\n",
       "    }\n",
       "\n",
       "    .dataframe tbody tr th {\n",
       "        vertical-align: top;\n",
       "    }\n",
       "\n",
       "    .dataframe thead th {\n",
       "        text-align: right;\n",
       "    }\n",
       "</style>\n",
       "<table border=\"1\" class=\"dataframe\">\n",
       "  <thead>\n",
       "    <tr style=\"text-align: right;\">\n",
       "      <th></th>\n",
       "      <th></th>\n",
       "      <th>ScoreScience</th>\n",
       "      <th>ScoreReading</th>\n",
       "      <th>ScoreMathematics</th>\n",
       "    </tr>\n",
       "    <tr>\n",
       "      <th>CountryName</th>\n",
       "      <th>StudentCategoryType</th>\n",
       "      <th></th>\n",
       "      <th></th>\n",
       "      <th></th>\n",
       "    </tr>\n",
       "  </thead>\n",
       "  <tbody>\n",
       "    <tr>\n",
       "      <th rowspan=\"4\" valign=\"top\">Algeria</th>\n",
       "      <th>High scoring group</th>\n",
       "      <td>433.146656</td>\n",
       "      <td>393.804867</td>\n",
       "      <td>403.506656</td>\n",
       "    </tr>\n",
       "    <tr>\n",
       "      <th>Low scoring group</th>\n",
       "      <td>382.133150</td>\n",
       "      <td>354.301201</td>\n",
       "      <td>365.217724</td>\n",
       "    </tr>\n",
       "    <tr>\n",
       "      <th>Lower middle scoring group</th>\n",
       "      <td>402.748903</td>\n",
       "      <td>369.178726</td>\n",
       "      <td>382.418067</td>\n",
       "    </tr>\n",
       "    <tr>\n",
       "      <th>Upper middle scoring group</th>\n",
       "      <td>395.115792</td>\n",
       "      <td>361.787731</td>\n",
       "      <td>376.264439</td>\n",
       "    </tr>\n",
       "    <tr>\n",
       "      <th rowspan=\"4\" valign=\"top\">Argentina</th>\n",
       "      <th>High scoring group</th>\n",
       "      <td>525.466507</td>\n",
       "      <td>525.135782</td>\n",
       "      <td>511.955365</td>\n",
       "    </tr>\n",
       "    <tr>\n",
       "      <th>Low scoring group</th>\n",
       "      <td>424.205782</td>\n",
       "      <td>426.168982</td>\n",
       "      <td>408.172082</td>\n",
       "    </tr>\n",
       "    <tr>\n",
       "      <th>Lower middle scoring group</th>\n",
       "      <td>476.268673</td>\n",
       "      <td>479.883235</td>\n",
       "      <td>454.375797</td>\n",
       "    </tr>\n",
       "    <tr>\n",
       "      <th>Upper middle scoring group</th>\n",
       "      <td>470.548033</td>\n",
       "      <td>482.104504</td>\n",
       "      <td>454.886805</td>\n",
       "    </tr>\n",
       "    <tr>\n",
       "      <th rowspan=\"4\" valign=\"top\">Australia</th>\n",
       "      <th>High scoring group</th>\n",
       "      <td>556.458418</td>\n",
       "      <td>547.099995</td>\n",
       "      <td>534.884244</td>\n",
       "    </tr>\n",
       "    <tr>\n",
       "      <th>Low scoring group</th>\n",
       "      <td>441.000743</td>\n",
       "      <td>440.284394</td>\n",
       "      <td>434.660355</td>\n",
       "    </tr>\n",
       "    <tr>\n",
       "      <th>Lower middle scoring group</th>\n",
       "      <td>484.617726</td>\n",
       "      <td>479.935356</td>\n",
       "      <td>474.229775</td>\n",
       "    </tr>\n",
       "    <tr>\n",
       "      <th>Upper middle scoring group</th>\n",
       "      <td>504.710173</td>\n",
       "      <td>494.197427</td>\n",
       "      <td>484.000643</td>\n",
       "    </tr>\n",
       "    <tr>\n",
       "      <th rowspan=\"4\" valign=\"top\">Belgium</th>\n",
       "      <th>Upper middle scoring group</th>\n",
       "      <td>495.128331</td>\n",
       "      <td>496.562706</td>\n",
       "      <td>497.718971</td>\n",
       "    </tr>\n",
       "    <tr>\n",
       "      <th>Lower middle scoring group</th>\n",
       "      <td>470.379621</td>\n",
       "      <td>470.252793</td>\n",
       "      <td>476.575952</td>\n",
       "    </tr>\n",
       "    <tr>\n",
       "      <th>High scoring group</th>\n",
       "      <td>548.735386</td>\n",
       "      <td>546.853051</td>\n",
       "      <td>546.341777</td>\n",
       "    </tr>\n",
       "    <tr>\n",
       "      <th>Low scoring group</th>\n",
       "      <td>438.418369</td>\n",
       "      <td>440.176075</td>\n",
       "      <td>445.514289</td>\n",
       "    </tr>\n",
       "    <tr>\n",
       "      <th rowspan=\"4\" valign=\"top\">Brazil</th>\n",
       "      <th>High scoring group</th>\n",
       "      <td>496.825971</td>\n",
       "      <td>503.190234</td>\n",
       "      <td>473.202775</td>\n",
       "    </tr>\n",
       "    <tr>\n",
       "      <th>Low scoring group</th>\n",
       "      <td>401.152464</td>\n",
       "      <td>412.940061</td>\n",
       "      <td>373.946536</td>\n",
       "    </tr>\n",
       "    <tr>\n",
       "      <th>Lower middle scoring group</th>\n",
       "      <td>441.773661</td>\n",
       "      <td>451.958692</td>\n",
       "      <td>417.823393</td>\n",
       "    </tr>\n",
       "    <tr>\n",
       "      <th>Upper middle scoring group</th>\n",
       "      <td>433.837644</td>\n",
       "      <td>447.380762</td>\n",
       "      <td>406.009138</td>\n",
       "    </tr>\n",
       "    <tr>\n",
       "      <th rowspan=\"4\" valign=\"top\">Bulgaria</th>\n",
       "      <th>High scoring group</th>\n",
       "      <td>516.305523</td>\n",
       "      <td>509.094394</td>\n",
       "      <td>506.087859</td>\n",
       "    </tr>\n",
       "    <tr>\n",
       "      <th>Low scoring group</th>\n",
       "      <td>404.489848</td>\n",
       "      <td>384.823645</td>\n",
       "      <td>401.055380</td>\n",
       "    </tr>\n",
       "    <tr>\n",
       "      <th>Lower middle scoring group</th>\n",
       "      <td>451.710163</td>\n",
       "      <td>446.933159</td>\n",
       "      <td>446.065289</td>\n",
       "    </tr>\n",
       "    <tr>\n",
       "      <th>Upper middle scoring group</th>\n",
       "      <td>467.089015</td>\n",
       "      <td>457.378252</td>\n",
       "      <td>457.555423</td>\n",
       "    </tr>\n",
       "    <tr>\n",
       "      <th rowspan=\"4\" valign=\"top\">Canada</th>\n",
       "      <th>High scoring group</th>\n",
       "      <td>554.291235</td>\n",
       "      <td>552.610729</td>\n",
       "      <td>536.318212</td>\n",
       "    </tr>\n",
       "    <tr>\n",
       "      <th>Low scoring group</th>\n",
       "      <td>470.672429</td>\n",
       "      <td>466.158755</td>\n",
       "      <td>463.578816</td>\n",
       "    </tr>\n",
       "    <tr>\n",
       "      <th>Lower middle scoring group</th>\n",
       "      <td>499.437182</td>\n",
       "      <td>500.265376</td>\n",
       "      <td>489.693833</td>\n",
       "    </tr>\n",
       "    <tr>\n",
       "      <th>Upper middle scoring group</th>\n",
       "      <td>517.962677</td>\n",
       "      <td>516.902845</td>\n",
       "      <td>501.117844</td>\n",
       "    </tr>\n",
       "    <tr>\n",
       "      <th rowspan=\"2\" valign=\"top\">Chile</th>\n",
       "      <th>Upper middle scoring group</th>\n",
       "      <td>472.914340</td>\n",
       "      <td>489.976719</td>\n",
       "      <td>447.175176</td>\n",
       "    </tr>\n",
       "    <tr>\n",
       "      <th>Lower middle scoring group</th>\n",
       "      <td>474.816820</td>\n",
       "      <td>485.246443</td>\n",
       "      <td>451.453666</td>\n",
       "    </tr>\n",
       "    <tr>\n",
       "      <th>...</th>\n",
       "      <th>...</th>\n",
       "      <td>...</td>\n",
       "      <td>...</td>\n",
       "      <td>...</td>\n",
       "    </tr>\n",
       "    <tr>\n",
       "      <th rowspan=\"2\" valign=\"top\">Trinidad and Tobago</th>\n",
       "      <th>High scoring group</th>\n",
       "      <td>482.733101</td>\n",
       "      <td>487.349665</td>\n",
       "      <td>471.986054</td>\n",
       "    </tr>\n",
       "    <tr>\n",
       "      <th>Low scoring group</th>\n",
       "      <td>398.856079</td>\n",
       "      <td>401.849148</td>\n",
       "      <td>389.407801</td>\n",
       "    </tr>\n",
       "    <tr>\n",
       "      <th rowspan=\"4\" valign=\"top\">Tunisia</th>\n",
       "      <th>High scoring group</th>\n",
       "      <td>443.725391</td>\n",
       "      <td>424.725418</td>\n",
       "      <td>434.686413</td>\n",
       "    </tr>\n",
       "    <tr>\n",
       "      <th>Low scoring group</th>\n",
       "      <td>381.860243</td>\n",
       "      <td>358.495459</td>\n",
       "      <td>356.450777</td>\n",
       "    </tr>\n",
       "    <tr>\n",
       "      <th>Lower middle scoring group</th>\n",
       "      <td>408.256552</td>\n",
       "      <td>389.714082</td>\n",
       "      <td>394.088360</td>\n",
       "    </tr>\n",
       "    <tr>\n",
       "      <th>Upper middle scoring group</th>\n",
       "      <td>403.287116</td>\n",
       "      <td>382.772631</td>\n",
       "      <td>383.969129</td>\n",
       "    </tr>\n",
       "    <tr>\n",
       "      <th rowspan=\"4\" valign=\"top\">Turkey</th>\n",
       "      <th>High scoring group</th>\n",
       "      <td>493.451891</td>\n",
       "      <td>503.467140</td>\n",
       "      <td>495.831443</td>\n",
       "    </tr>\n",
       "    <tr>\n",
       "      <th>Low scoring group</th>\n",
       "      <td>414.453156</td>\n",
       "      <td>418.282022</td>\n",
       "      <td>406.915701</td>\n",
       "    </tr>\n",
       "    <tr>\n",
       "      <th>Lower middle scoring group</th>\n",
       "      <td>443.547487</td>\n",
       "      <td>447.560899</td>\n",
       "      <td>440.896798</td>\n",
       "    </tr>\n",
       "    <tr>\n",
       "      <th>Upper middle scoring group</th>\n",
       "      <td>457.829577</td>\n",
       "      <td>461.244345</td>\n",
       "      <td>449.026592</td>\n",
       "    </tr>\n",
       "    <tr>\n",
       "      <th rowspan=\"4\" valign=\"top\">United Arab Emirates</th>\n",
       "      <th>High scoring group</th>\n",
       "      <td>498.907587</td>\n",
       "      <td>496.856094</td>\n",
       "      <td>482.093114</td>\n",
       "    </tr>\n",
       "    <tr>\n",
       "      <th>Low scoring group</th>\n",
       "      <td>408.199944</td>\n",
       "      <td>402.405157</td>\n",
       "      <td>400.759217</td>\n",
       "    </tr>\n",
       "    <tr>\n",
       "      <th>Lower middle scoring group</th>\n",
       "      <td>449.127685</td>\n",
       "      <td>445.580542</td>\n",
       "      <td>438.894849</td>\n",
       "    </tr>\n",
       "    <tr>\n",
       "      <th>Upper middle scoring group</th>\n",
       "      <td>435.667035</td>\n",
       "      <td>426.589362</td>\n",
       "      <td>425.630580</td>\n",
       "    </tr>\n",
       "    <tr>\n",
       "      <th rowspan=\"4\" valign=\"top\">United Kingdom of Great Britain and Northern Ireland</th>\n",
       "      <th>Upper middle scoring group</th>\n",
       "      <td>514.304193</td>\n",
       "      <td>508.393039</td>\n",
       "      <td>497.334822</td>\n",
       "    </tr>\n",
       "    <tr>\n",
       "      <th>Lower middle scoring group</th>\n",
       "      <td>489.569528</td>\n",
       "      <td>482.290628</td>\n",
       "      <td>479.385130</td>\n",
       "    </tr>\n",
       "    <tr>\n",
       "      <th>High scoring group</th>\n",
       "      <td>559.154847</td>\n",
       "      <td>546.981702</td>\n",
       "      <td>540.634835</td>\n",
       "    </tr>\n",
       "    <tr>\n",
       "      <th>Low scoring group</th>\n",
       "      <td>461.638007</td>\n",
       "      <td>458.662178</td>\n",
       "      <td>448.059819</td>\n",
       "    </tr>\n",
       "    <tr>\n",
       "      <th rowspan=\"4\" valign=\"top\">United States of America</th>\n",
       "      <th>High scoring group</th>\n",
       "      <td>548.683484</td>\n",
       "      <td>543.813820</td>\n",
       "      <td>518.104459</td>\n",
       "    </tr>\n",
       "    <tr>\n",
       "      <th>Low scoring group</th>\n",
       "      <td>459.010644</td>\n",
       "      <td>465.986691</td>\n",
       "      <td>437.061228</td>\n",
       "    </tr>\n",
       "    <tr>\n",
       "      <th>Lower middle scoring group</th>\n",
       "      <td>487.897262</td>\n",
       "      <td>491.459979</td>\n",
       "      <td>463.281162</td>\n",
       "    </tr>\n",
       "    <tr>\n",
       "      <th>Upper middle scoring group</th>\n",
       "      <td>507.424673</td>\n",
       "      <td>513.466307</td>\n",
       "      <td>476.943871</td>\n",
       "    </tr>\n",
       "    <tr>\n",
       "      <th rowspan=\"4\" valign=\"top\">Uruguay</th>\n",
       "      <th>High scoring group</th>\n",
       "      <td>521.335642</td>\n",
       "      <td>532.952229</td>\n",
       "      <td>502.284661</td>\n",
       "    </tr>\n",
       "    <tr>\n",
       "      <th>Low scoring group</th>\n",
       "      <td>420.970639</td>\n",
       "      <td>421.687301</td>\n",
       "      <td>406.230518</td>\n",
       "    </tr>\n",
       "    <tr>\n",
       "      <th>Lower middle scoring group</th>\n",
       "      <td>458.568083</td>\n",
       "      <td>462.746468</td>\n",
       "      <td>442.094561</td>\n",
       "    </tr>\n",
       "    <tr>\n",
       "      <th>Upper middle scoring group</th>\n",
       "      <td>467.702384</td>\n",
       "      <td>476.354870</td>\n",
       "      <td>452.784861</td>\n",
       "    </tr>\n",
       "    <tr>\n",
       "      <th rowspan=\"4\" valign=\"top\">Viet Nam</th>\n",
       "      <th>Lower middle scoring group</th>\n",
       "      <td>565.458618</td>\n",
       "      <td>531.126890</td>\n",
       "      <td>536.320412</td>\n",
       "    </tr>\n",
       "    <tr>\n",
       "      <th>High scoring group</th>\n",
       "      <td>618.317053</td>\n",
       "      <td>573.710690</td>\n",
       "      <td>592.393150</td>\n",
       "    </tr>\n",
       "    <tr>\n",
       "      <th>Low scoring group</th>\n",
       "      <td>518.672060</td>\n",
       "      <td>485.039484</td>\n",
       "      <td>488.420794</td>\n",
       "    </tr>\n",
       "    <tr>\n",
       "      <th>Upper middle scoring group</th>\n",
       "      <td>534.896769</td>\n",
       "      <td>496.676961</td>\n",
       "      <td>506.948850</td>\n",
       "    </tr>\n",
       "  </tbody>\n",
       "</table>\n",
       "<p>228 rows × 3 columns</p>\n",
       "</div>"
      ],
      "text/plain": [
       "                                                                               ScoreScience  \\\n",
       "CountryName                                        StudentCategoryType                        \n",
       "Algeria                                            High scoring group            433.146656   \n",
       "                                                   Low scoring group             382.133150   \n",
       "                                                   Lower middle scoring group    402.748903   \n",
       "                                                   Upper middle scoring group    395.115792   \n",
       "Argentina                                          High scoring group            525.466507   \n",
       "                                                   Low scoring group             424.205782   \n",
       "                                                   Lower middle scoring group    476.268673   \n",
       "                                                   Upper middle scoring group    470.548033   \n",
       "Australia                                          High scoring group            556.458418   \n",
       "                                                   Low scoring group             441.000743   \n",
       "                                                   Lower middle scoring group    484.617726   \n",
       "                                                   Upper middle scoring group    504.710173   \n",
       "Belgium                                            Upper middle scoring group    495.128331   \n",
       "                                                   Lower middle scoring group    470.379621   \n",
       "                                                   High scoring group            548.735386   \n",
       "                                                   Low scoring group             438.418369   \n",
       "Brazil                                             High scoring group            496.825971   \n",
       "                                                   Low scoring group             401.152464   \n",
       "                                                   Lower middle scoring group    441.773661   \n",
       "                                                   Upper middle scoring group    433.837644   \n",
       "Bulgaria                                           High scoring group            516.305523   \n",
       "                                                   Low scoring group             404.489848   \n",
       "                                                   Lower middle scoring group    451.710163   \n",
       "                                                   Upper middle scoring group    467.089015   \n",
       "Canada                                             High scoring group            554.291235   \n",
       "                                                   Low scoring group             470.672429   \n",
       "                                                   Lower middle scoring group    499.437182   \n",
       "                                                   Upper middle scoring group    517.962677   \n",
       "Chile                                              Upper middle scoring group    472.914340   \n",
       "                                                   Lower middle scoring group    474.816820   \n",
       "...                                                                                     ...   \n",
       "Trinidad and Tobago                                High scoring group            482.733101   \n",
       "                                                   Low scoring group             398.856079   \n",
       "Tunisia                                            High scoring group            443.725391   \n",
       "                                                   Low scoring group             381.860243   \n",
       "                                                   Lower middle scoring group    408.256552   \n",
       "                                                   Upper middle scoring group    403.287116   \n",
       "Turkey                                             High scoring group            493.451891   \n",
       "                                                   Low scoring group             414.453156   \n",
       "                                                   Lower middle scoring group    443.547487   \n",
       "                                                   Upper middle scoring group    457.829577   \n",
       "United Arab Emirates                               High scoring group            498.907587   \n",
       "                                                   Low scoring group             408.199944   \n",
       "                                                   Lower middle scoring group    449.127685   \n",
       "                                                   Upper middle scoring group    435.667035   \n",
       "United Kingdom of Great Britain and Northern Ir... Upper middle scoring group    514.304193   \n",
       "                                                   Lower middle scoring group    489.569528   \n",
       "                                                   High scoring group            559.154847   \n",
       "                                                   Low scoring group             461.638007   \n",
       "United States of America                           High scoring group            548.683484   \n",
       "                                                   Low scoring group             459.010644   \n",
       "                                                   Lower middle scoring group    487.897262   \n",
       "                                                   Upper middle scoring group    507.424673   \n",
       "Uruguay                                            High scoring group            521.335642   \n",
       "                                                   Low scoring group             420.970639   \n",
       "                                                   Lower middle scoring group    458.568083   \n",
       "                                                   Upper middle scoring group    467.702384   \n",
       "Viet Nam                                           Lower middle scoring group    565.458618   \n",
       "                                                   High scoring group            618.317053   \n",
       "                                                   Low scoring group             518.672060   \n",
       "                                                   Upper middle scoring group    534.896769   \n",
       "\n",
       "                                                                               ScoreReading  \\\n",
       "CountryName                                        StudentCategoryType                        \n",
       "Algeria                                            High scoring group            393.804867   \n",
       "                                                   Low scoring group             354.301201   \n",
       "                                                   Lower middle scoring group    369.178726   \n",
       "                                                   Upper middle scoring group    361.787731   \n",
       "Argentina                                          High scoring group            525.135782   \n",
       "                                                   Low scoring group             426.168982   \n",
       "                                                   Lower middle scoring group    479.883235   \n",
       "                                                   Upper middle scoring group    482.104504   \n",
       "Australia                                          High scoring group            547.099995   \n",
       "                                                   Low scoring group             440.284394   \n",
       "                                                   Lower middle scoring group    479.935356   \n",
       "                                                   Upper middle scoring group    494.197427   \n",
       "Belgium                                            Upper middle scoring group    496.562706   \n",
       "                                                   Lower middle scoring group    470.252793   \n",
       "                                                   High scoring group            546.853051   \n",
       "                                                   Low scoring group             440.176075   \n",
       "Brazil                                             High scoring group            503.190234   \n",
       "                                                   Low scoring group             412.940061   \n",
       "                                                   Lower middle scoring group    451.958692   \n",
       "                                                   Upper middle scoring group    447.380762   \n",
       "Bulgaria                                           High scoring group            509.094394   \n",
       "                                                   Low scoring group             384.823645   \n",
       "                                                   Lower middle scoring group    446.933159   \n",
       "                                                   Upper middle scoring group    457.378252   \n",
       "Canada                                             High scoring group            552.610729   \n",
       "                                                   Low scoring group             466.158755   \n",
       "                                                   Lower middle scoring group    500.265376   \n",
       "                                                   Upper middle scoring group    516.902845   \n",
       "Chile                                              Upper middle scoring group    489.976719   \n",
       "                                                   Lower middle scoring group    485.246443   \n",
       "...                                                                                     ...   \n",
       "Trinidad and Tobago                                High scoring group            487.349665   \n",
       "                                                   Low scoring group             401.849148   \n",
       "Tunisia                                            High scoring group            424.725418   \n",
       "                                                   Low scoring group             358.495459   \n",
       "                                                   Lower middle scoring group    389.714082   \n",
       "                                                   Upper middle scoring group    382.772631   \n",
       "Turkey                                             High scoring group            503.467140   \n",
       "                                                   Low scoring group             418.282022   \n",
       "                                                   Lower middle scoring group    447.560899   \n",
       "                                                   Upper middle scoring group    461.244345   \n",
       "United Arab Emirates                               High scoring group            496.856094   \n",
       "                                                   Low scoring group             402.405157   \n",
       "                                                   Lower middle scoring group    445.580542   \n",
       "                                                   Upper middle scoring group    426.589362   \n",
       "United Kingdom of Great Britain and Northern Ir... Upper middle scoring group    508.393039   \n",
       "                                                   Lower middle scoring group    482.290628   \n",
       "                                                   High scoring group            546.981702   \n",
       "                                                   Low scoring group             458.662178   \n",
       "United States of America                           High scoring group            543.813820   \n",
       "                                                   Low scoring group             465.986691   \n",
       "                                                   Lower middle scoring group    491.459979   \n",
       "                                                   Upper middle scoring group    513.466307   \n",
       "Uruguay                                            High scoring group            532.952229   \n",
       "                                                   Low scoring group             421.687301   \n",
       "                                                   Lower middle scoring group    462.746468   \n",
       "                                                   Upper middle scoring group    476.354870   \n",
       "Viet Nam                                           Lower middle scoring group    531.126890   \n",
       "                                                   High scoring group            573.710690   \n",
       "                                                   Low scoring group             485.039484   \n",
       "                                                   Upper middle scoring group    496.676961   \n",
       "\n",
       "                                                                               ScoreMathematics  \n",
       "CountryName                                        StudentCategoryType                           \n",
       "Algeria                                            High scoring group                403.506656  \n",
       "                                                   Low scoring group                 365.217724  \n",
       "                                                   Lower middle scoring group        382.418067  \n",
       "                                                   Upper middle scoring group        376.264439  \n",
       "Argentina                                          High scoring group                511.955365  \n",
       "                                                   Low scoring group                 408.172082  \n",
       "                                                   Lower middle scoring group        454.375797  \n",
       "                                                   Upper middle scoring group        454.886805  \n",
       "Australia                                          High scoring group                534.884244  \n",
       "                                                   Low scoring group                 434.660355  \n",
       "                                                   Lower middle scoring group        474.229775  \n",
       "                                                   Upper middle scoring group        484.000643  \n",
       "Belgium                                            Upper middle scoring group        497.718971  \n",
       "                                                   Lower middle scoring group        476.575952  \n",
       "                                                   High scoring group                546.341777  \n",
       "                                                   Low scoring group                 445.514289  \n",
       "Brazil                                             High scoring group                473.202775  \n",
       "                                                   Low scoring group                 373.946536  \n",
       "                                                   Lower middle scoring group        417.823393  \n",
       "                                                   Upper middle scoring group        406.009138  \n",
       "Bulgaria                                           High scoring group                506.087859  \n",
       "                                                   Low scoring group                 401.055380  \n",
       "                                                   Lower middle scoring group        446.065289  \n",
       "                                                   Upper middle scoring group        457.555423  \n",
       "Canada                                             High scoring group                536.318212  \n",
       "                                                   Low scoring group                 463.578816  \n",
       "                                                   Lower middle scoring group        489.693833  \n",
       "                                                   Upper middle scoring group        501.117844  \n",
       "Chile                                              Upper middle scoring group        447.175176  \n",
       "                                                   Lower middle scoring group        451.453666  \n",
       "...                                                                                         ...  \n",
       "Trinidad and Tobago                                High scoring group                471.986054  \n",
       "                                                   Low scoring group                 389.407801  \n",
       "Tunisia                                            High scoring group                434.686413  \n",
       "                                                   Low scoring group                 356.450777  \n",
       "                                                   Lower middle scoring group        394.088360  \n",
       "                                                   Upper middle scoring group        383.969129  \n",
       "Turkey                                             High scoring group                495.831443  \n",
       "                                                   Low scoring group                 406.915701  \n",
       "                                                   Lower middle scoring group        440.896798  \n",
       "                                                   Upper middle scoring group        449.026592  \n",
       "United Arab Emirates                               High scoring group                482.093114  \n",
       "                                                   Low scoring group                 400.759217  \n",
       "                                                   Lower middle scoring group        438.894849  \n",
       "                                                   Upper middle scoring group        425.630580  \n",
       "United Kingdom of Great Britain and Northern Ir... Upper middle scoring group        497.334822  \n",
       "                                                   Lower middle scoring group        479.385130  \n",
       "                                                   High scoring group                540.634835  \n",
       "                                                   Low scoring group                 448.059819  \n",
       "United States of America                           High scoring group                518.104459  \n",
       "                                                   Low scoring group                 437.061228  \n",
       "                                                   Lower middle scoring group        463.281162  \n",
       "                                                   Upper middle scoring group        476.943871  \n",
       "Uruguay                                            High scoring group                502.284661  \n",
       "                                                   Low scoring group                 406.230518  \n",
       "                                                   Lower middle scoring group        442.094561  \n",
       "                                                   Upper middle scoring group        452.784861  \n",
       "Viet Nam                                           Lower middle scoring group        536.320412  \n",
       "                                                   High scoring group                592.393150  \n",
       "                                                   Low scoring group                 488.420794  \n",
       "                                                   Upper middle scoring group        506.948850  \n",
       "\n",
       "[228 rows x 3 columns]"
      ]
     },
     "execution_count": 115,
     "metadata": {},
     "output_type": "execute_result"
    }
   ],
   "source": [
    "#StudentCategory\n",
    "dataset[['CountryName', 'StudentCategoryType', 'ScoreScience', 'ScoreReading', 'ScoreMathematics']].groupby(['CountryName', 'StudentCategoryType'], as_index=True).mean().sort_values(by='CountryName', ascending=True)"
   ]
  },
  {
   "cell_type": "markdown",
   "metadata": {},
   "source": [
    "## 4.3 T-tests / hypothesis testing"
   ]
  },
  {
   "cell_type": "markdown",
   "metadata": {},
   "source": [
    "### 4.3.1 Validation of method"
   ]
  },
  {
   "cell_type": "markdown",
   "metadata": {},
   "source": [
    "The t-test requires that the variable is approximately normally distributed in each group. It it also assumed homogeneity of variance.\n",
    "\n",
    "This can be tested using Levene's Test of Equality. This will be tested for each comparison group for hypothesis testing."
   ]
  },
  {
   "cell_type": "markdown",
   "metadata": {},
   "source": [
    "### 4.3.2 Between the clusters"
   ]
  },
  {
   "cell_type": "markdown",
   "metadata": {},
   "source": [
    "This subchapter shows the results for mean score differences between the cluster labels."
   ]
  },
  {
   "cell_type": "markdown",
   "metadata": {},
   "source": [
    "Science:"
   ]
  },
  {
   "cell_type": "code",
   "execution_count": 116,
   "metadata": {},
   "outputs": [
    {
     "name": "stdout",
     "output_type": "stream",
     "text": [
      "t-0,1 = -216.65272878346715\n",
      "p = 0.0\n",
      "t-0,2 = -121.20679043926911\n",
      "p = 0.0\n",
      "t-0,3 = -77.12129248357076\n",
      "p = 0.0\n",
      "t-1,2 = 84.66301743839702\n",
      "p = 0.0\n",
      "t-1,3 = 128.25780476272183\n",
      "p = 0.0\n",
      "t-2,3 = 41.64407415508328\n",
      "p = 0.0\n"
     ]
    }
   ],
   "source": [
    "t2, p2 = stats.ttest_ind(dataset_cluster0['ScoreScience'], dataset_cluster1['ScoreScience'])\n",
    "print(\"t-0,1 = \" + str(t2))\n",
    "print(\"p = \" + str(p2))\n",
    "\n",
    "t2, p2 = stats.ttest_ind(dataset_cluster0['ScoreScience'], dataset_cluster2['ScoreScience'])\n",
    "print(\"t-0,2 = \" + str(t2))\n",
    "print(\"p = \" + str(p2))\n",
    "\n",
    "t2, p2 = stats.ttest_ind(dataset_cluster0['ScoreScience'], dataset_cluster3['ScoreScience'])\n",
    "print(\"t-0,3 = \" + str(t2))\n",
    "print(\"p = \" + str(p2))\n",
    "\n",
    "t2, p2 = stats.ttest_ind(dataset_cluster1['ScoreScience'], dataset_cluster2['ScoreScience'])\n",
    "print(\"t-1,2 = \" + str(t2))\n",
    "print(\"p = \" + str(p2))\n",
    "\n",
    "t2, p2 = stats.ttest_ind(dataset_cluster1['ScoreScience'], dataset_cluster3['ScoreScience'])\n",
    "print(\"t-1,3 = \" + str(t2))\n",
    "print(\"p = \" + str(p2))\n",
    "\n",
    "t2, p2 = stats.ttest_ind(dataset_cluster2['ScoreScience'], dataset_cluster3['ScoreScience'])\n",
    "print(\"t-2,3 = \" + str(t2))\n",
    "print(\"p = \" + str(p2))"
   ]
  },
  {
   "cell_type": "markdown",
   "metadata": {},
   "source": [
    "All clusters in science have mean score significantly different from zero."
   ]
  },
  {
   "cell_type": "markdown",
   "metadata": {},
   "source": [
    "Reading:"
   ]
  },
  {
   "cell_type": "code",
   "execution_count": 117,
   "metadata": {},
   "outputs": [
    {
     "name": "stdout",
     "output_type": "stream",
     "text": [
      "t-0,1 = -213.86854748529458\n",
      "p = 0.0\n",
      "t-0,2 = -120.53682815828564\n",
      "p = 0.0\n",
      "t-0,3 = -76.56732532726235\n",
      "p = 0.0\n",
      "t-1,2 = 82.95494916798692\n",
      "p = 0.0\n",
      "t-1,3 = 125.04594020714511\n",
      "p = 0.0\n",
      "t-2,3 = 40.82847007405134\n",
      "p = 0.0\n"
     ]
    }
   ],
   "source": [
    "t2, p2 = stats.ttest_ind(dataset_cluster0['ScoreReading'], dataset_cluster1['ScoreReading'])\n",
    "print(\"t-0,1 = \" + str(t2))\n",
    "print(\"p = \" + str(p2))\n",
    "\n",
    "t2, p2 = stats.ttest_ind(dataset_cluster0['ScoreReading'], dataset_cluster2['ScoreReading'])\n",
    "print(\"t-0,2 = \" + str(t2))\n",
    "print(\"p = \" + str(p2))\n",
    "\n",
    "t2, p2 = stats.ttest_ind(dataset_cluster0['ScoreReading'], dataset_cluster3['ScoreReading'])\n",
    "print(\"t-0,3 = \" + str(t2))\n",
    "print(\"p = \" + str(p2))\n",
    "\n",
    "t2, p2 = stats.ttest_ind(dataset_cluster1['ScoreReading'], dataset_cluster2['ScoreReading'])\n",
    "print(\"t-1,2 = \" + str(t2))\n",
    "print(\"p = \" + str(p2))\n",
    "\n",
    "t2, p2 = stats.ttest_ind(dataset_cluster1['ScoreReading'], dataset_cluster3['ScoreReading'])\n",
    "print(\"t-1,3 = \" + str(t2))\n",
    "print(\"p = \" + str(p2))\n",
    "\n",
    "t2, p2 = stats.ttest_ind(dataset_cluster2['ScoreReading'], dataset_cluster3['ScoreReading'])\n",
    "print(\"t-2,3 = \" + str(t2))\n",
    "print(\"p = \" + str(p2))"
   ]
  },
  {
   "cell_type": "markdown",
   "metadata": {},
   "source": [
    "All clusters in reading have mean score significantly different from zero."
   ]
  },
  {
   "cell_type": "markdown",
   "metadata": {},
   "source": [
    "Mathematics:"
   ]
  },
  {
   "cell_type": "code",
   "execution_count": 118,
   "metadata": {},
   "outputs": [
    {
     "name": "stdout",
     "output_type": "stream",
     "text": [
      "t-0,1 = -215.49504022205443\n",
      "p = 0.0\n",
      "t-0,2 = -126.25091232082102\n",
      "p = 0.0\n",
      "t-0,3 = -79.51130239245755\n",
      "p = 0.0\n",
      "t-1,2 = 79.82729370330432\n",
      "p = 0.0\n",
      "t-1,3 = 126.24105757943943\n",
      "p = 0.0\n",
      "t-2,3 = 44.60717364488549\n",
      "p = 0.0\n"
     ]
    }
   ],
   "source": [
    "t2, p2 = stats.ttest_ind(dataset_cluster0['ScoreMathematics'], dataset_cluster1['ScoreMathematics'])\n",
    "print(\"t-0,1 = \" + str(t2))\n",
    "print(\"p = \" + str(p2))\n",
    "\n",
    "t2, p2 = stats.ttest_ind(dataset_cluster0['ScoreMathematics'], dataset_cluster2['ScoreMathematics'])\n",
    "print(\"t-0,2 = \" + str(t2))\n",
    "print(\"p = \" + str(p2))\n",
    "\n",
    "t2, p2 = stats.ttest_ind(dataset_cluster0['ScoreMathematics'], dataset_cluster3['ScoreMathematics'])\n",
    "print(\"t-0,3 = \" + str(t2))\n",
    "print(\"p = \" + str(p2))\n",
    "\n",
    "t2, p2 = stats.ttest_ind(dataset_cluster1['ScoreMathematics'], dataset_cluster2['ScoreMathematics'])\n",
    "print(\"t-1,2 = \" + str(t2))\n",
    "print(\"p = \" + str(p2))\n",
    "\n",
    "t2, p2 = stats.ttest_ind(dataset_cluster1['ScoreMathematics'], dataset_cluster3['ScoreMathematics'])\n",
    "print(\"t-1,3 = \" + str(t2))\n",
    "print(\"p = \" + str(p2))\n",
    "\n",
    "t2, p2 = stats.ttest_ind(dataset_cluster2['ScoreMathematics'], dataset_cluster3['ScoreMathematics'])\n",
    "print(\"t-2,3 = \" + str(t2))\n",
    "print(\"p = \" + str(p2))"
   ]
  },
  {
   "cell_type": "markdown",
   "metadata": {},
   "source": [
    "All clusters in mathematics have mean score significantly different from zero."
   ]
  },
  {
   "cell_type": "markdown",
   "metadata": {},
   "source": [
    "### 4.3.3 Hypothesis testing"
   ]
  },
  {
   "cell_type": "markdown",
   "metadata": {},
   "source": [
    "The following provides results for various combination of explanatory variables.\n",
    "\n",
    "We look into these variables:\n",
    "* Music activity at school\n",
    "* Gender\n",
    "* City\n",
    "* CentralAuthorityDecidesCourseContent\n"
   ]
  },
  {
   "cell_type": "markdown",
   "metadata": {},
   "source": [
    "#### 4.3.3.1 Music activity at school"
   ]
  },
  {
   "cell_type": "code",
   "execution_count": 119,
   "metadata": {},
   "outputs": [],
   "source": [
    "dataset_t0 = dataset.loc[(dataset['MusicActvityAtSchool'] == 1)]\n",
    "dataset_t1 = dataset.loc[(dataset['MusicActvityAtSchool'] == 0)]"
   ]
  },
  {
   "cell_type": "code",
   "execution_count": 120,
   "metadata": {},
   "outputs": [
    {
     "name": "stdout",
     "output_type": "stream",
     "text": [
      "t0:        ScoreScience  ScoreReading  ScoreMathematics\n",
      "mean    495.023995    491.568351        487.476126\n",
      "t1:        ScoreScience  ScoreReading  ScoreMathematics\n",
      "mean    461.782253    459.671409        454.562275\n"
     ]
    }
   ],
   "source": [
    "print('t0: ', dataset_t0[['ScoreScience', 'ScoreReading', 'ScoreMathematics']].describe().loc[['mean']])\n",
    "print('t1: ', dataset_t1[['ScoreScience', 'ScoreReading', 'ScoreMathematics']].describe().loc[['mean']])"
   ]
  },
  {
   "cell_type": "code",
   "execution_count": 121,
   "metadata": {},
   "outputs": [
    {
     "name": "stdout",
     "output_type": "stream",
     "text": [
      "t-science = 85.51109213604606\n",
      "p = 0.0\n",
      "t-reading = 80.22261493372893\n",
      "p = 0.0\n",
      "t-math = 83.69213275229215\n",
      "p = 0.0\n"
     ]
    }
   ],
   "source": [
    "#Science\n",
    "t2, p2 = stats.ttest_ind(dataset_t0['ScoreScience'], dataset_t1['ScoreScience'])\n",
    "print(\"t-science = \" + str(t2))\n",
    "print(\"p = \" + str(p2))\n",
    "\n",
    "#Reading\n",
    "t2, p2 = stats.ttest_ind(dataset_t0['ScoreReading'], dataset_t1['ScoreReading'])\n",
    "print(\"t-reading = \" + str(t2))\n",
    "print(\"p = \" + str(p2))\n",
    "\n",
    "#T-test\n",
    "t2, p2 = stats.ttest_ind(dataset_t0['ScoreMathematics'], dataset_t1['ScoreMathematics'])\n",
    "print(\"t-math = \" + str(t2))\n",
    "print(\"p = \" + str(p2))"
   ]
  },
  {
   "cell_type": "markdown",
   "metadata": {},
   "source": [
    "#### 4.3.3.1a Music activity at school and gender (male)"
   ]
  },
  {
   "cell_type": "code",
   "execution_count": 122,
   "metadata": {},
   "outputs": [],
   "source": [
    "dataset_t0 = dataset.loc[(dataset['IsMale'] == 1) & (dataset['MusicActvityAtSchool'] == 1)]\n",
    "dataset_t1 = dataset.loc[(dataset['IsMale'] == 1) & (dataset['MusicActvityAtSchool'] == 0)]"
   ]
  },
  {
   "cell_type": "code",
   "execution_count": 123,
   "metadata": {},
   "outputs": [
    {
     "name": "stdout",
     "output_type": "stream",
     "text": [
      "t0:        ScoreScience  ScoreReading  ScoreMathematics\n",
      "mean    498.649847    480.570264        493.622969\n",
      "t1:        ScoreScience  ScoreReading  ScoreMathematics\n",
      "mean    464.185165    447.867827        460.148873\n"
     ]
    }
   ],
   "source": [
    "print('t0: ', dataset_t0[['ScoreScience', 'ScoreReading', 'ScoreMathematics']].describe().loc[['mean']])\n",
    "print('t1: ', dataset_t1[['ScoreScience', 'ScoreReading', 'ScoreMathematics']].describe().loc[['mean']])"
   ]
  },
  {
   "cell_type": "code",
   "execution_count": 124,
   "metadata": {},
   "outputs": [
    {
     "data": {
      "image/png": "[encoded data removed]",
      "text/plain": [
       "<Figure size 432x288 with 1 Axes>"
      ]
     },
     "metadata": {
      "needs_background": "light"
     },
     "output_type": "display_data"
    }
   ],
   "source": [
    "plt.hist(dataset_t0['ScoreScience'], bins=50, density=True, alpha=0.75, label='Science')\n",
    "plt.hist(dataset_t0['ScoreReading'], bins=50, density=True, alpha=0.75, label='Reading')\n",
    "plt.hist(dataset_t0['ScoreMathematics'], bins=50, density=True, alpha=0.75, label='Mathematics')\n",
    "plt.legend()\n",
    "plt.xlabel('Score')\n",
    "plt.title('Has music activity and school and is male')\n",
    "plt.show()"
   ]
  },
  {
   "cell_type": "code",
   "execution_count": 125,
   "metadata": {},
   "outputs": [
    {
     "data": {
      "image/png": "[encoded data removed]",
      "text/plain": [
       "<Figure size 432x288 with 1 Axes>"
      ]
     },
     "metadata": {
      "needs_background": "light"
     },
     "output_type": "display_data"
    }
   ],
   "source": [
    "plt.hist(dataset_t1['ScoreScience'], bins=50, density=True, alpha=0.75, label='Science')\n",
    "plt.hist(dataset_t1['ScoreReading'], bins=50, density=True, alpha=0.75, label='Reading')\n",
    "plt.hist(dataset_t1['ScoreMathematics'], bins=50, density=True, alpha=0.75, label='Mathematics')\n",
    "plt.legend()\n",
    "plt.xlabel('Score')\n",
    "plt.title('Does not have music activity and school and is male')\n",
    "plt.show()"
   ]
  },
  {
   "cell_type": "code",
   "execution_count": 126,
   "metadata": {},
   "outputs": [
    {
     "name": "stdout",
     "output_type": "stream",
     "text": [
      "Science:  LeveneResult(statistic=42.253582469469855, pvalue=8.048649575329181e-11)\n",
      "Reading:  LeveneResult(statistic=25.777763528390985, pvalue=3.83649180000465e-07)\n",
      "Mathematics:  LeveneResult(statistic=14.312885040996205, pvalue=0.00015487694285356155)\n"
     ]
    }
   ],
   "source": [
    "print('Science: ', stats.levene(dataset_t0['ScoreScience'], dataset_t1['ScoreScience'], center='mean'))\n",
    "print('Reading: ', stats.levene(dataset_t0['ScoreReading'], dataset_t1['ScoreReading'], center='mean'))\n",
    "print('Mathematics: ', stats.levene(dataset_t0['ScoreMathematics'], dataset_t1['ScoreMathematics'], center='mean'))"
   ]
  },
  {
   "cell_type": "markdown",
   "metadata": {},
   "source": [
    "The data seems to be normally distributed and the Levene-test is not rejected, so the variances can be treated as equal. We can therefore apply our hypothesis test:"
   ]
  },
  {
   "cell_type": "code",
   "execution_count": 127,
   "metadata": {},
   "outputs": [
    {
     "name": "stdout",
     "output_type": "stream",
     "text": [
      "t-science = 59.91719176866704\n",
      "p = 0.0\n",
      "t-reading = 55.99045376713646\n",
      "p = 0.0\n",
      "t-math = 58.11853698121848\n",
      "p = 0.0\n"
     ]
    }
   ],
   "source": [
    "#Science\n",
    "t2, p2 = stats.ttest_ind(dataset_t0['ScoreScience'], dataset_t1['ScoreScience'])\n",
    "print(\"t-science = \" + str(t2))\n",
    "print(\"p = \" + str(p2))\n",
    "\n",
    "#Reading\n",
    "t2, p2 = stats.ttest_ind(dataset_t0['ScoreReading'], dataset_t1['ScoreReading'])\n",
    "print(\"t-reading = \" + str(t2))\n",
    "print(\"p = \" + str(p2))\n",
    "\n",
    "#T-test\n",
    "t2, p2 = stats.ttest_ind(dataset_t0['ScoreMathematics'], dataset_t1['ScoreMathematics'])\n",
    "print(\"t-math = \" + str(t2))\n",
    "print(\"p = \" + str(p2))"
   ]
  },
  {
   "cell_type": "markdown",
   "metadata": {},
   "source": [
    "Results indicates that there is a significant difference for male students and whether they have music activity at school or not."
   ]
  },
  {
   "cell_type": "markdown",
   "metadata": {},
   "source": [
    "#### 4.3.3.1b Music activity at school and gender (female)"
   ]
  },
  {
   "cell_type": "code",
   "execution_count": 128,
   "metadata": {},
   "outputs": [],
   "source": [
    "dataset_t0 = dataset.loc[(dataset['IsMale'] == 0) & (dataset['MusicActvityAtSchool'] == 1)]\n",
    "dataset_t1 = dataset.loc[(dataset['IsMale'] == 0) & (dataset['MusicActvityAtSchool'] == 0)]"
   ]
  },
  {
   "cell_type": "code",
   "execution_count": 129,
   "metadata": {},
   "outputs": [
    {
     "name": "stdout",
     "output_type": "stream",
     "text": [
      "t0:        ScoreScience  ScoreReading  ScoreMathematics\n",
      "mean    491.725675    501.572954        481.884542\n",
      "t1:        ScoreScience  ScoreReading  ScoreMathematics\n",
      "mean    459.428515    471.233438        449.090003\n"
     ]
    }
   ],
   "source": [
    "print('t0: ', dataset_t0[['ScoreScience', 'ScoreReading', 'ScoreMathematics']].describe().loc[['mean']])\n",
    "print('t1: ', dataset_t1[['ScoreScience', 'ScoreReading', 'ScoreMathematics']].describe().loc[['mean']])"
   ]
  },
  {
   "cell_type": "code",
   "execution_count": 130,
   "metadata": {},
   "outputs": [
    {
     "data": {
      "image/png": "[encoded data removed]",
      "text/plain": [
       "<Figure size 432x288 with 1 Axes>"
      ]
     },
     "metadata": {
      "needs_background": "light"
     },
     "output_type": "display_data"
    }
   ],
   "source": [
    "plt.hist(dataset_t0['ScoreScience'], bins=50, density=True, alpha=0.75, label='Science')\n",
    "plt.hist(dataset_t0['ScoreReading'], bins=50, density=True, alpha=0.75, label='Reading')\n",
    "plt.hist(dataset_t0['ScoreMathematics'], bins=50, density=True, alpha=0.75, label='Mathematics')\n",
    "plt.legend()\n",
    "plt.xlabel('Score')\n",
    "plt.title('Has music activity and school and is male')\n",
    "plt.show()"
   ]
  },
  {
   "cell_type": "code",
   "execution_count": 131,
   "metadata": {},
   "outputs": [
    {
     "data": {
      "image/png": "[encoded data removed]",
      "text/plain": [
       "<Figure size 432x288 with 1 Axes>"
      ]
     },
     "metadata": {
      "needs_background": "light"
     },
     "output_type": "display_data"
    }
   ],
   "source": [
    "plt.hist(dataset_t1['ScoreScience'], bins=50, density=True, alpha=0.75, label='Science')\n",
    "plt.hist(dataset_t1['ScoreReading'], bins=50, density=True, alpha=0.75, label='Reading')\n",
    "plt.hist(dataset_t1['ScoreMathematics'], bins=50, density=True, alpha=0.75, label='Mathematics')\n",
    "plt.legend()\n",
    "plt.xlabel('Score')\n",
    "plt.title('Does not have music activity and school and is male')\n",
    "plt.show()"
   ]
  },
  {
   "cell_type": "code",
   "execution_count": 132,
   "metadata": {},
   "outputs": [
    {
     "name": "stdout",
     "output_type": "stream",
     "text": [
      "Science:  LeveneResult(statistic=158.02294316281277, pvalue=3.2146850789414696e-36)\n",
      "Reading:  LeveneResult(statistic=0.000274213126279892, pvalue=0.9867881544609873)\n",
      "Mathematics:  LeveneResult(statistic=49.53494328117559, pvalue=1.95846783609544e-12)\n"
     ]
    }
   ],
   "source": [
    "print('Science: ', stats.levene(dataset_t0['ScoreScience'], dataset_t1['ScoreScience'], center='mean'))\n",
    "print('Reading: ', stats.levene(dataset_t0['ScoreReading'], dataset_t1['ScoreReading'], center='mean'))\n",
    "print('Mathematics: ', stats.levene(dataset_t0['ScoreMathematics'], dataset_t1['ScoreMathematics'], center='mean'))"
   ]
  },
  {
   "cell_type": "markdown",
   "metadata": {},
   "source": [
    "The data seems to be normally distributed and the Levene-test is not rejected, so the variances can be treated as equal. We can therefore apply our hypothesis test:"
   ]
  },
  {
   "cell_type": "code",
   "execution_count": 133,
   "metadata": {},
   "outputs": [
    {
     "name": "stdout",
     "output_type": "stream",
     "text": [
      "t-science = 61.48973529346867\n",
      "p = 0.0\n",
      "t-reading = 56.7255374974315\n",
      "p = 0.0\n",
      "t-math = 61.21211019923458\n",
      "p = 0.0\n"
     ]
    }
   ],
   "source": [
    "#Science\n",
    "t2, p2 = stats.ttest_ind(dataset_t0['ScoreScience'], dataset_t1['ScoreScience'])\n",
    "print(\"t-science = \" + str(t2))\n",
    "print(\"p = \" + str(p2))\n",
    "\n",
    "#Reading\n",
    "t2, p2 = stats.ttest_ind(dataset_t0['ScoreReading'], dataset_t1['ScoreReading'])\n",
    "print(\"t-reading = \" + str(t2))\n",
    "print(\"p = \" + str(p2))\n",
    "\n",
    "#T-test\n",
    "t2, p2 = stats.ttest_ind(dataset_t0['ScoreMathematics'], dataset_t1['ScoreMathematics'])\n",
    "print(\"t-math = \" + str(t2))\n",
    "print(\"p = \" + str(p2))"
   ]
  },
  {
   "cell_type": "markdown",
   "metadata": {},
   "source": [
    "Results indicates that there is a significant difference for female students and whether they have music activity at school or not."
   ]
  },
  {
   "cell_type": "markdown",
   "metadata": {},
   "source": [
    "#### 4.3.3.2 CentralAuthorityDecidesCourseContents"
   ]
  },
  {
   "cell_type": "code",
   "execution_count": 134,
   "metadata": {},
   "outputs": [],
   "source": [
    "dataset_t0 = dataset.loc[(dataset['CentralAuthorityDecidesCourseContents'] == 1)]\n",
    "dataset_t1 = dataset.loc[(dataset['CentralAuthorityDecidesCourseContents'] == 0)]"
   ]
  },
  {
   "cell_type": "code",
   "execution_count": 135,
   "metadata": {},
   "outputs": [
    {
     "name": "stdout",
     "output_type": "stream",
     "text": [
      "t0:        ScoreScience  ScoreReading  ScoreMathematics\n",
      "mean    463.353105    461.558706        452.956583\n",
      "t1:        ScoreScience  ScoreReading  ScoreMathematics\n",
      "mean    490.092023    486.637692        484.241662\n"
     ]
    }
   ],
   "source": [
    "print('t0: ', dataset_t0[['ScoreScience', 'ScoreReading', 'ScoreMathematics']].describe().loc[['mean']])\n",
    "print('t1: ', dataset_t1[['ScoreScience', 'ScoreReading', 'ScoreMathematics']].describe().loc[['mean']])"
   ]
  },
  {
   "cell_type": "code",
   "execution_count": 136,
   "metadata": {},
   "outputs": [
    {
     "name": "stdout",
     "output_type": "stream",
     "text": [
      "t-science = -65.67043467357821\n",
      "p = 0.0\n",
      "t-reading = -60.24254910549297\n",
      "p = 0.0\n",
      "t-math = -76.22227805398433\n",
      "p = 0.0\n"
     ]
    }
   ],
   "source": [
    "#Science\n",
    "t2, p2 = stats.ttest_ind(dataset_t0['ScoreScience'], dataset_t1['ScoreScience'])\n",
    "print(\"t-science = \" + str(t2))\n",
    "print(\"p = \" + str(p2))\n",
    "\n",
    "#Reading\n",
    "t2, p2 = stats.ttest_ind(dataset_t0['ScoreReading'], dataset_t1['ScoreReading'])\n",
    "print(\"t-reading = \" + str(t2))\n",
    "print(\"p = \" + str(p2))\n",
    "\n",
    "#T-test\n",
    "t2, p2 = stats.ttest_ind(dataset_t0['ScoreMathematics'], dataset_t1['ScoreMathematics'])\n",
    "print(\"t-math = \" + str(t2))\n",
    "print(\"p = \" + str(p2))"
   ]
  },
  {
   "cell_type": "markdown",
   "metadata": {},
   "source": [
    "#### 4.3.3.2a CentralAuthorityDecidesCourseContents and gender (male)"
   ]
  },
  {
   "cell_type": "code",
   "execution_count": 137,
   "metadata": {},
   "outputs": [],
   "source": [
    "dataset_t0 = dataset.loc[(dataset['IsMale'] == 1) & (dataset['CentralAuthorityDecidesCourseContents'] == 1)]\n",
    "dataset_t1 = dataset.loc[(dataset['IsMale'] == 1) & (dataset['CentralAuthorityDecidesCourseContents'] == 0)]"
   ]
  },
  {
   "cell_type": "code",
   "execution_count": 138,
   "metadata": {},
   "outputs": [
    {
     "name": "stdout",
     "output_type": "stream",
     "text": [
      "t0:        ScoreScience  ScoreReading  ScoreMathematics\n",
      "mean    464.676387    448.513461          458.2971\n",
      "t1:        ScoreScience  ScoreReading  ScoreMathematics\n",
      "mean    493.417661    475.514069         489.72865\n"
     ]
    }
   ],
   "source": [
    "print('t0: ', dataset_t0[['ScoreScience', 'ScoreReading', 'ScoreMathematics']].describe().loc[['mean']])\n",
    "print('t1: ', dataset_t1[['ScoreScience', 'ScoreReading', 'ScoreMathematics']].describe().loc[['mean']])"
   ]
  },
  {
   "cell_type": "code",
   "execution_count": 139,
   "metadata": {},
   "outputs": [
    {
     "data": {
      "image/png": "[encoded data removed]",
      "text/plain": [
       "<Figure size 432x288 with 1 Axes>"
      ]
     },
     "metadata": {
      "needs_background": "light"
     },
     "output_type": "display_data"
    }
   ],
   "source": [
    "plt.hist(dataset_t0['ScoreScience'], bins=50, density=True, alpha=0.75, label='Science')\n",
    "plt.hist(dataset_t0['ScoreReading'], bins=50, density=True, alpha=0.75, label='Reading')\n",
    "plt.hist(dataset_t0['ScoreMathematics'], bins=50, density=True, alpha=0.75, label='Mathematics')\n",
    "plt.legend()\n",
    "plt.xlabel('Score')\n",
    "plt.title('Central authority decides course content and is male')\n",
    "plt.show()"
   ]
  },
  {
   "cell_type": "code",
   "execution_count": 140,
   "metadata": {},
   "outputs": [
    {
     "data": {
      "image/png": "[encoded data removed]",
      "text/plain": [
       "<Figure size 432x288 with 1 Axes>"
      ]
     },
     "metadata": {
      "needs_background": "light"
     },
     "output_type": "display_data"
    }
   ],
   "source": [
    "plt.hist(dataset_t1['ScoreScience'], bins=50, density=True, alpha=0.75, label='Science')\n",
    "plt.hist(dataset_t1['ScoreReading'], bins=50, density=True, alpha=0.75, label='Reading')\n",
    "plt.hist(dataset_t1['ScoreMathematics'], bins=50, density=True, alpha=0.75, label='Mathematics')\n",
    "plt.legend()\n",
    "plt.xlabel('Score')\n",
    "plt.title('Central authority does not decides course content and school and is male')\n",
    "plt.show()"
   ]
  },
  {
   "cell_type": "code",
   "execution_count": 141,
   "metadata": {},
   "outputs": [
    {
     "name": "stdout",
     "output_type": "stream",
     "text": [
      "Science:  LeveneResult(statistic=14.264545358466538, pvalue=0.0001589053441769714)\n",
      "Reading:  LeveneResult(statistic=15.954512710727732, pvalue=6.492165043693234e-05)\n",
      "Mathematics:  LeveneResult(statistic=1.6318460450646364, pvalue=0.2014503820842267)\n"
     ]
    }
   ],
   "source": [
    "print('Science: ', stats.levene(dataset_t0['ScoreScience'], dataset_t1['ScoreScience'], center='mean'))\n",
    "print('Reading: ', stats.levene(dataset_t0['ScoreReading'], dataset_t1['ScoreReading'], center='mean'))\n",
    "print('Mathematics: ', stats.levene(dataset_t0['ScoreMathematics'], dataset_t1['ScoreMathematics'], center='mean'))"
   ]
  },
  {
   "cell_type": "markdown",
   "metadata": {},
   "source": [
    "The data seems to be normally distributed and the Levene-test is not rejected (except for science), so the variances are likely to be treated as equal. We can therefore apply our hypothesis test:"
   ]
  },
  {
   "cell_type": "code",
   "execution_count": 142,
   "metadata": {},
   "outputs": [
    {
     "name": "stdout",
     "output_type": "stream",
     "text": [
      "t-science = -47.42590469139008\n",
      "p = 0.0\n",
      "t-reading = -43.90043909940878\n",
      "p = 0.0\n",
      "t-math = -51.93676105829361\n",
      "p = 0.0\n"
     ]
    }
   ],
   "source": [
    "#Science\n",
    "t2, p2 = stats.ttest_ind(dataset_t0['ScoreScience'], dataset_t1['ScoreScience'])\n",
    "print(\"t-science = \" + str(t2))\n",
    "print(\"p = \" + str(p2))\n",
    "\n",
    "#Reading\n",
    "t2, p2 = stats.ttest_ind(dataset_t0['ScoreReading'], dataset_t1['ScoreReading'])\n",
    "print(\"t-reading = \" + str(t2))\n",
    "print(\"p = \" + str(p2))\n",
    "\n",
    "#T-test\n",
    "t2, p2 = stats.ttest_ind(dataset_t0['ScoreMathematics'], dataset_t1['ScoreMathematics'])\n",
    "print(\"t-math = \" + str(t2))\n",
    "print(\"p = \" + str(p2))"
   ]
  },
  {
   "cell_type": "markdown",
   "metadata": {},
   "source": [
    "Results indicates that there is a significant difference for male students and whether central authorities decides course contents or not."
   ]
  },
  {
   "cell_type": "markdown",
   "metadata": {},
   "source": [
    "#### 4.3.3.2b CentralAuthorityDecidesCourseContents and gender (female)"
   ]
  },
  {
   "cell_type": "code",
   "execution_count": 143,
   "metadata": {},
   "outputs": [],
   "source": [
    "dataset_t0 = dataset.loc[(dataset['IsMale'] == 0) & (dataset['CentralAuthorityDecidesCourseContents'] == 1)]\n",
    "dataset_t1 = dataset.loc[(dataset['IsMale'] == 0) & (dataset['CentralAuthorityDecidesCourseContents'] == 0)]"
   ]
  },
  {
   "cell_type": "code",
   "execution_count": 144,
   "metadata": {},
   "outputs": [
    {
     "name": "stdout",
     "output_type": "stream",
     "text": [
      "t0:        ScoreScience  ScoreReading  ScoreMathematics\n",
      "mean    462.146306    473.455635        448.086169\n",
      "t1:        ScoreScience  ScoreReading  ScoreMathematics\n",
      "mean    486.922954    497.237622        479.012998\n"
     ]
    }
   ],
   "source": [
    "print('t0: ', dataset_t0[['ScoreScience', 'ScoreReading', 'ScoreMathematics']].describe().loc[['mean']])\n",
    "print('t1: ', dataset_t1[['ScoreScience', 'ScoreReading', 'ScoreMathematics']].describe().loc[['mean']])"
   ]
  },
  {
   "cell_type": "code",
   "execution_count": 145,
   "metadata": {},
   "outputs": [
    {
     "data": {
      "image/png": "[encoded data removed]",
      "text/plain": [
       "<Figure size 432x288 with 1 Axes>"
      ]
     },
     "metadata": {
      "needs_background": "light"
     },
     "output_type": "display_data"
    }
   ],
   "source": [
    "plt.hist(dataset_t0['ScoreScience'], bins=50, density=True, alpha=0.75, label='Science')\n",
    "plt.hist(dataset_t0['ScoreReading'], bins=50, density=True, alpha=0.75, label='Reading')\n",
    "plt.hist(dataset_t0['ScoreMathematics'], bins=50, density=True, alpha=0.75, label='Mathematics')\n",
    "plt.legend()\n",
    "plt.xlabel('Score')\n",
    "plt.title('Central authority decides course content and is female')\n",
    "plt.show()"
   ]
  },
  {
   "cell_type": "code",
   "execution_count": 146,
   "metadata": {},
   "outputs": [
    {
     "data": {
      "image/png": "[encoded data removed]",
      "text/plain": [
       "<Figure size 432x288 with 1 Axes>"
      ]
     },
     "metadata": {
      "needs_background": "light"
     },
     "output_type": "display_data"
    }
   ],
   "source": [
    "plt.hist(dataset_t1['ScoreScience'], bins=50, density=True, alpha=0.75, label='Science')\n",
    "plt.hist(dataset_t1['ScoreReading'], bins=50, density=True, alpha=0.75, label='Reading')\n",
    "plt.hist(dataset_t1['ScoreMathematics'], bins=50, density=True, alpha=0.75, label='Mathematics')\n",
    "plt.legend()\n",
    "plt.xlabel('Score')\n",
    "plt.title('Central authority does not decides course content and is female')\n",
    "plt.show()"
   ]
  },
  {
   "cell_type": "code",
   "execution_count": 147,
   "metadata": {},
   "outputs": [
    {
     "name": "stdout",
     "output_type": "stream",
     "text": [
      "Science:  LeveneResult(statistic=94.59084096414192, pvalue=2.383272476229727e-22)\n",
      "Reading:  LeveneResult(statistic=0.09557488477575697, pvalue=0.757206501454372)\n",
      "Mathematics:  LeveneResult(statistic=32.48971304166713, pvalue=1.2008839996088462e-08)\n"
     ]
    }
   ],
   "source": [
    "print('Science: ', stats.levene(dataset_t0['ScoreScience'], dataset_t1['ScoreScience'], center='mean'))\n",
    "print('Reading: ', stats.levene(dataset_t0['ScoreReading'], dataset_t1['ScoreReading'], center='mean'))\n",
    "print('Mathematics: ', stats.levene(dataset_t0['ScoreMathematics'], dataset_t1['ScoreMathematics'], center='mean'))"
   ]
  },
  {
   "cell_type": "markdown",
   "metadata": {},
   "source": [
    "The data seems to be normally distributed and the Levene-test is not rejected, so the variances are can be treated as equal. We can therefore apply our hypothesis test:"
   ]
  },
  {
   "cell_type": "code",
   "execution_count": 148,
   "metadata": {},
   "outputs": [
    {
     "name": "stdout",
     "output_type": "stream",
     "text": [
      "t-science = -45.283376568013175\n",
      "p = 0.0\n",
      "t-reading = -42.739945045492085\n",
      "p = 0.0\n",
      "t-math = -55.64564037761867\n",
      "p = 0.0\n"
     ]
    }
   ],
   "source": [
    "#Science\n",
    "t2, p2 = stats.ttest_ind(dataset_t0['ScoreScience'], dataset_t1['ScoreScience'])\n",
    "print(\"t-science = \" + str(t2))\n",
    "print(\"p = \" + str(p2))\n",
    "\n",
    "#Reading\n",
    "t2, p2 = stats.ttest_ind(dataset_t0['ScoreReading'], dataset_t1['ScoreReading'])\n",
    "print(\"t-reading = \" + str(t2))\n",
    "print(\"p = \" + str(p2))\n",
    "\n",
    "#T-test\n",
    "t2, p2 = stats.ttest_ind(dataset_t0['ScoreMathematics'], dataset_t1['ScoreMathematics'])\n",
    "print(\"t-math = \" + str(t2))\n",
    "print(\"p = \" + str(p2))"
   ]
  },
  {
   "cell_type": "markdown",
   "metadata": {},
   "source": [
    "Results indicates that there is a significant difference for male students and whether central authorities decides course contents or not."
   ]
  },
  {
   "cell_type": "markdown",
   "metadata": {},
   "source": [
    "# 5 Conclusion"
   ]
  },
  {
   "cell_type": "markdown",
   "metadata": {},
   "source": [
    "This analysis is limited by being a summer school project.\n",
    "\n",
    "The datasets used in this notebook can be used for furtherly in-depth analysis.\n",
    "\n",
    "Nevertheless, to sum up what has been done and results found in this notebook:\n",
    "* Using K-means (4 clusters) to label the data. This was done to remove any subject selection criteria. \n",
    "* The clusters have different particularities and descriptive statistics - confirming general educational research\n",
    "* Music activity at school seems to increase students' performance\n",
    "* Central authorities deciding course contents seems to have adverse effects on students. This can be a policy recommendation that local and school specific (principals and teachers) are better suited to decide course content."
   ]
  },
  {
   "cell_type": "code",
   "execution_count": 1,
   "metadata": {},
   "outputs": [
    {
     "ename": "NameError",
     "evalue": "name 'dataset' is not defined",
     "output_type": "error",
     "traceback": [
      "\u001b[1;31m---------------------------------------------------------------------------\u001b[0m",
      "\u001b[1;31mNameError\u001b[0m                                 Traceback (most recent call last)",
      "\u001b[1;32m<ipython-input-1-a62c974a6759>\u001b[0m in \u001b[0;36m<module>\u001b[1;34m\u001b[0m\n\u001b[1;32m----> 1\u001b[1;33m \u001b[0mdataset\u001b[0m\u001b[1;33m.\u001b[0m\u001b[0mshape\u001b[0m\u001b[1;33m\u001b[0m\u001b[1;33m\u001b[0m\u001b[0m\n\u001b[0m",
      "\u001b[1;31mNameError\u001b[0m: name 'dataset' is not defined"
     ]
    }
   ],
   "source": []
  },
  {
   "cell_type": "code",
   "execution_count": null,
   "metadata": {},
   "outputs": [],
   "source": []
  }
 ],
 "metadata": {
  "kernelspec": {
   "display_name": "Python 3",
   "language": "python",
   "name": "python3"
  },
  "language_info": {
   "codemirror_mode": {
    "name": "ipython",
    "version": 3
   },
   "file_extension": ".py",
   "mimetype": "text/x-python",
   "name": "python",
   "nbconvert_exporter": "python",
   "pygments_lexer": "ipython3",
   "version": "3.7.3"
  }
 },
 "nbformat": 4,
 "nbformat_minor": 2
}
